{
 "cells": [
  {
   "cell_type": "markdown",
   "metadata": {},
   "source": [
    "https://www.kaggle.com/c/competitive-data-science-final-project"
   ]
  },
  {
   "cell_type": "code",
   "execution_count": 1,
   "metadata": {},
   "outputs": [],
   "source": [
    "import numpy as np\n",
    "import pandas as pd\n",
    "import seaborn as sns\n",
    "import matplotlib.pyplot as plt\n",
    "%matplotlib inline "
   ]
  },
  {
   "cell_type": "code",
   "execution_count": 2,
   "metadata": {},
   "outputs": [
    {
     "name": "stdout",
     "output_type": "stream",
     "text": [
      "\u001b[31mitem_categories.csv\u001b[m\u001b[m*   \u001b[31msales_train.csv\u001b[m\u001b[m*       \u001b[31mshops.csv\u001b[m\u001b[m*\r\n",
      "\u001b[31mitems.csv\u001b[m\u001b[m*             \u001b[31msample_submission.csv\u001b[m\u001b[m* \u001b[31mtest.csv\u001b[m\u001b[m*\r\n"
     ]
    }
   ],
   "source": [
    "ls all"
   ]
  },
  {
   "cell_type": "code",
   "execution_count": 3,
   "metadata": {},
   "outputs": [],
   "source": [
    "path = '/Users/rizki/Dropbox/Coursera/AML_HowToKaggle/FinalProject/PredictSales/all/'"
   ]
  },
  {
   "cell_type": "code",
   "execution_count": 4,
   "metadata": {},
   "outputs": [],
   "source": [
    "items = pd.read_csv(path+'items.csv')\n",
    "item_categories = pd.read_csv(path+'item_categories.csv')\n",
    "shops = pd.read_csv(path+'shops.csv')\n",
    "sales_train = pd.read_csv(path+'sales_train.csv')\n",
    "test = pd.read_csv(path+'test.csv')"
   ]
  },
  {
   "cell_type": "code",
   "execution_count": 5,
   "metadata": {},
   "outputs": [
    {
     "data": {
      "text/html": [
       "<div>\n",
       "<style scoped>\n",
       "    .dataframe tbody tr th:only-of-type {\n",
       "        vertical-align: middle;\n",
       "    }\n",
       "\n",
       "    .dataframe tbody tr th {\n",
       "        vertical-align: top;\n",
       "    }\n",
       "\n",
       "    .dataframe thead th {\n",
       "        text-align: right;\n",
       "    }\n",
       "</style>\n",
       "<table border=\"1\" class=\"dataframe\">\n",
       "  <thead>\n",
       "    <tr style=\"text-align: right;\">\n",
       "      <th></th>\n",
       "      <th>date</th>\n",
       "      <th>date_block_num</th>\n",
       "      <th>shop_id</th>\n",
       "      <th>item_id</th>\n",
       "      <th>item_price</th>\n",
       "      <th>item_cnt_day</th>\n",
       "    </tr>\n",
       "  </thead>\n",
       "  <tbody>\n",
       "    <tr>\n",
       "      <th>0</th>\n",
       "      <td>02.01.2013</td>\n",
       "      <td>0</td>\n",
       "      <td>59</td>\n",
       "      <td>22154</td>\n",
       "      <td>999.00</td>\n",
       "      <td>1.0</td>\n",
       "    </tr>\n",
       "    <tr>\n",
       "      <th>1</th>\n",
       "      <td>03.01.2013</td>\n",
       "      <td>0</td>\n",
       "      <td>25</td>\n",
       "      <td>2552</td>\n",
       "      <td>899.00</td>\n",
       "      <td>1.0</td>\n",
       "    </tr>\n",
       "    <tr>\n",
       "      <th>2</th>\n",
       "      <td>05.01.2013</td>\n",
       "      <td>0</td>\n",
       "      <td>25</td>\n",
       "      <td>2552</td>\n",
       "      <td>899.00</td>\n",
       "      <td>-1.0</td>\n",
       "    </tr>\n",
       "    <tr>\n",
       "      <th>3</th>\n",
       "      <td>06.01.2013</td>\n",
       "      <td>0</td>\n",
       "      <td>25</td>\n",
       "      <td>2554</td>\n",
       "      <td>1709.05</td>\n",
       "      <td>1.0</td>\n",
       "    </tr>\n",
       "    <tr>\n",
       "      <th>4</th>\n",
       "      <td>15.01.2013</td>\n",
       "      <td>0</td>\n",
       "      <td>25</td>\n",
       "      <td>2555</td>\n",
       "      <td>1099.00</td>\n",
       "      <td>1.0</td>\n",
       "    </tr>\n",
       "  </tbody>\n",
       "</table>\n",
       "</div>"
      ],
      "text/plain": [
       "         date  date_block_num  shop_id  item_id  item_price  item_cnt_day\n",
       "0  02.01.2013               0       59    22154      999.00           1.0\n",
       "1  03.01.2013               0       25     2552      899.00           1.0\n",
       "2  05.01.2013               0       25     2552      899.00          -1.0\n",
       "3  06.01.2013               0       25     2554     1709.05           1.0\n",
       "4  15.01.2013               0       25     2555     1099.00           1.0"
      ]
     },
     "execution_count": 5,
     "metadata": {},
     "output_type": "execute_result"
    }
   ],
   "source": [
    "sales_train.head()"
   ]
  },
  {
   "cell_type": "markdown",
   "metadata": {},
   "source": [
    "# Counting"
   ]
  },
  {
   "cell_type": "code",
   "execution_count": 6,
   "metadata": {},
   "outputs": [
    {
     "name": "stdout",
     "output_type": "stream",
     "text": [
      "total rows in train set 2935849\n",
      "Number of unique item_id : 22170\n",
      "Number of unique shop_id : 60\n",
      "total_possible_shop_id_item_id = 1330200\n",
      "shop_item combinations in test set: 214200\n",
      "shop_item combinations in train set: 424124\n"
     ]
    }
   ],
   "source": [
    "print 'total rows in train set', sales_train.shape[0]\n",
    "unique_items = items['item_id'].unique().size\n",
    "print 'Number of unique item_id :', unique_items\n",
    "unique_shops = shops['shop_id'].unique().size\n",
    "print 'Number of unique shop_id :', unique_shops\n",
    "total_possible_shop_id_item_id = unique_shops*unique_items\n",
    "print 'total_possible_shop_id_item_id =',total_possible_shop_id_item_id\n",
    "print 'shop_item combinations in test set:', test.shape[0]\n",
    "print 'shop_item combinations in train set:', sales_train.groupby(['shop_id','item_id']).count().shape[0]"
   ]
  },
  {
   "cell_type": "markdown",
   "metadata": {},
   "source": [
    "# Format 'date' to datetime"
   ]
  },
  {
   "cell_type": "code",
   "execution_count": 7,
   "metadata": {},
   "outputs": [
    {
     "data": {
      "text/html": [
       "<div>\n",
       "<style scoped>\n",
       "    .dataframe tbody tr th:only-of-type {\n",
       "        vertical-align: middle;\n",
       "    }\n",
       "\n",
       "    .dataframe tbody tr th {\n",
       "        vertical-align: top;\n",
       "    }\n",
       "\n",
       "    .dataframe thead th {\n",
       "        text-align: right;\n",
       "    }\n",
       "</style>\n",
       "<table border=\"1\" class=\"dataframe\">\n",
       "  <thead>\n",
       "    <tr style=\"text-align: right;\">\n",
       "      <th></th>\n",
       "      <th>date</th>\n",
       "      <th>date_block_num</th>\n",
       "      <th>shop_id</th>\n",
       "      <th>item_id</th>\n",
       "      <th>item_price</th>\n",
       "      <th>item_cnt_day</th>\n",
       "    </tr>\n",
       "  </thead>\n",
       "  <tbody>\n",
       "    <tr>\n",
       "      <th>0</th>\n",
       "      <td>2013-01-02</td>\n",
       "      <td>0</td>\n",
       "      <td>59</td>\n",
       "      <td>22154</td>\n",
       "      <td>999.00</td>\n",
       "      <td>1.0</td>\n",
       "    </tr>\n",
       "    <tr>\n",
       "      <th>1</th>\n",
       "      <td>2013-01-03</td>\n",
       "      <td>0</td>\n",
       "      <td>25</td>\n",
       "      <td>2552</td>\n",
       "      <td>899.00</td>\n",
       "      <td>1.0</td>\n",
       "    </tr>\n",
       "    <tr>\n",
       "      <th>2</th>\n",
       "      <td>2013-01-05</td>\n",
       "      <td>0</td>\n",
       "      <td>25</td>\n",
       "      <td>2552</td>\n",
       "      <td>899.00</td>\n",
       "      <td>-1.0</td>\n",
       "    </tr>\n",
       "    <tr>\n",
       "      <th>3</th>\n",
       "      <td>2013-01-06</td>\n",
       "      <td>0</td>\n",
       "      <td>25</td>\n",
       "      <td>2554</td>\n",
       "      <td>1709.05</td>\n",
       "      <td>1.0</td>\n",
       "    </tr>\n",
       "    <tr>\n",
       "      <th>4</th>\n",
       "      <td>2013-01-15</td>\n",
       "      <td>0</td>\n",
       "      <td>25</td>\n",
       "      <td>2555</td>\n",
       "      <td>1099.00</td>\n",
       "      <td>1.0</td>\n",
       "    </tr>\n",
       "  </tbody>\n",
       "</table>\n",
       "</div>"
      ],
      "text/plain": [
       "        date  date_block_num  shop_id  item_id  item_price  item_cnt_day\n",
       "0 2013-01-02               0       59    22154      999.00           1.0\n",
       "1 2013-01-03               0       25     2552      899.00           1.0\n",
       "2 2013-01-05               0       25     2552      899.00          -1.0\n",
       "3 2013-01-06               0       25     2554     1709.05           1.0\n",
       "4 2013-01-15               0       25     2555     1099.00           1.0"
      ]
     },
     "execution_count": 7,
     "metadata": {},
     "output_type": "execute_result"
    }
   ],
   "source": [
    "sales_train['date'] = pd.to_datetime(sales_train['date'],format='%d.%m.%Y')\n",
    "sales_train[sales_train['date'].dt.month==1].head()"
   ]
  },
  {
   "cell_type": "markdown",
   "metadata": {},
   "source": [
    "# Add item_category_id to sales_train"
   ]
  },
  {
   "cell_type": "code",
   "execution_count": 8,
   "metadata": {},
   "outputs": [
    {
     "data": {
      "text/html": [
       "<div>\n",
       "<style scoped>\n",
       "    .dataframe tbody tr th:only-of-type {\n",
       "        vertical-align: middle;\n",
       "    }\n",
       "\n",
       "    .dataframe tbody tr th {\n",
       "        vertical-align: top;\n",
       "    }\n",
       "\n",
       "    .dataframe thead th {\n",
       "        text-align: right;\n",
       "    }\n",
       "</style>\n",
       "<table border=\"1\" class=\"dataframe\">\n",
       "  <thead>\n",
       "    <tr style=\"text-align: right;\">\n",
       "      <th></th>\n",
       "      <th>item_name</th>\n",
       "      <th>item_id</th>\n",
       "      <th>item_category_id</th>\n",
       "    </tr>\n",
       "  </thead>\n",
       "  <tbody>\n",
       "    <tr>\n",
       "      <th>0</th>\n",
       "      <td>! ВО ВЛАСТИ НАВАЖДЕНИЯ (ПЛАСТ.)         D</td>\n",
       "      <td>0</td>\n",
       "      <td>40</td>\n",
       "    </tr>\n",
       "    <tr>\n",
       "      <th>1</th>\n",
       "      <td>!ABBYY FineReader 12 Professional Edition Full...</td>\n",
       "      <td>1</td>\n",
       "      <td>76</td>\n",
       "    </tr>\n",
       "    <tr>\n",
       "      <th>2</th>\n",
       "      <td>***В ЛУЧАХ СЛАВЫ   (UNV)                    D</td>\n",
       "      <td>2</td>\n",
       "      <td>40</td>\n",
       "    </tr>\n",
       "    <tr>\n",
       "      <th>3</th>\n",
       "      <td>***ГОЛУБАЯ ВОЛНА  (Univ)                      D</td>\n",
       "      <td>3</td>\n",
       "      <td>40</td>\n",
       "    </tr>\n",
       "    <tr>\n",
       "      <th>4</th>\n",
       "      <td>***КОРОБКА (СТЕКЛО)                       D</td>\n",
       "      <td>4</td>\n",
       "      <td>40</td>\n",
       "    </tr>\n",
       "  </tbody>\n",
       "</table>\n",
       "</div>"
      ],
      "text/plain": [
       "                                           item_name  item_id  \\\n",
       "0          ! ВО ВЛАСТИ НАВАЖДЕНИЯ (ПЛАСТ.)         D        0   \n",
       "1  !ABBYY FineReader 12 Professional Edition Full...        1   \n",
       "2      ***В ЛУЧАХ СЛАВЫ   (UNV)                    D        2   \n",
       "3    ***ГОЛУБАЯ ВОЛНА  (Univ)                      D        3   \n",
       "4        ***КОРОБКА (СТЕКЛО)                       D        4   \n",
       "\n",
       "   item_category_id  \n",
       "0                40  \n",
       "1                76  \n",
       "2                40  \n",
       "3                40  \n",
       "4                40  "
      ]
     },
     "execution_count": 8,
     "metadata": {},
     "output_type": "execute_result"
    }
   ],
   "source": [
    "items.head()"
   ]
  },
  {
   "cell_type": "code",
   "execution_count": 9,
   "metadata": {},
   "outputs": [
    {
     "data": {
      "text/html": [
       "<div>\n",
       "<style scoped>\n",
       "    .dataframe tbody tr th:only-of-type {\n",
       "        vertical-align: middle;\n",
       "    }\n",
       "\n",
       "    .dataframe tbody tr th {\n",
       "        vertical-align: top;\n",
       "    }\n",
       "\n",
       "    .dataframe thead th {\n",
       "        text-align: right;\n",
       "    }\n",
       "</style>\n",
       "<table border=\"1\" class=\"dataframe\">\n",
       "  <thead>\n",
       "    <tr style=\"text-align: right;\">\n",
       "      <th></th>\n",
       "      <th>date</th>\n",
       "      <th>date_block_num</th>\n",
       "      <th>shop_id</th>\n",
       "      <th>item_id</th>\n",
       "      <th>item_price</th>\n",
       "      <th>item_cnt_day</th>\n",
       "    </tr>\n",
       "  </thead>\n",
       "  <tbody>\n",
       "    <tr>\n",
       "      <th>1972636</th>\n",
       "      <td>2014-09-01</td>\n",
       "      <td>20</td>\n",
       "      <td>54</td>\n",
       "      <td>0</td>\n",
       "      <td>58.0</td>\n",
       "      <td>1.0</td>\n",
       "    </tr>\n",
       "    <tr>\n",
       "      <th>1552550</th>\n",
       "      <td>2014-04-04</td>\n",
       "      <td>15</td>\n",
       "      <td>55</td>\n",
       "      <td>1</td>\n",
       "      <td>4490.0</td>\n",
       "      <td>1.0</td>\n",
       "    </tr>\n",
       "    <tr>\n",
       "      <th>1552605</th>\n",
       "      <td>2014-04-02</td>\n",
       "      <td>15</td>\n",
       "      <td>55</td>\n",
       "      <td>1</td>\n",
       "      <td>4490.0</td>\n",
       "      <td>1.0</td>\n",
       "    </tr>\n",
       "    <tr>\n",
       "      <th>1815470</th>\n",
       "      <td>2014-07-06</td>\n",
       "      <td>18</td>\n",
       "      <td>55</td>\n",
       "      <td>1</td>\n",
       "      <td>4490.0</td>\n",
       "      <td>1.0</td>\n",
       "    </tr>\n",
       "    <tr>\n",
       "      <th>2021246</th>\n",
       "      <td>2014-09-11</td>\n",
       "      <td>20</td>\n",
       "      <td>55</td>\n",
       "      <td>1</td>\n",
       "      <td>4490.0</td>\n",
       "      <td>1.0</td>\n",
       "    </tr>\n",
       "  </tbody>\n",
       "</table>\n",
       "</div>"
      ],
      "text/plain": [
       "              date  date_block_num  shop_id  item_id  item_price  item_cnt_day\n",
       "1972636 2014-09-01              20       54        0        58.0           1.0\n",
       "1552550 2014-04-04              15       55        1      4490.0           1.0\n",
       "1552605 2014-04-02              15       55        1      4490.0           1.0\n",
       "1815470 2014-07-06              18       55        1      4490.0           1.0\n",
       "2021246 2014-09-11              20       55        1      4490.0           1.0"
      ]
     },
     "execution_count": 9,
     "metadata": {},
     "output_type": "execute_result"
    }
   ],
   "source": [
    "sales_train.sort_values(by='item_id').head()"
   ]
  },
  {
   "cell_type": "code",
   "execution_count": 10,
   "metadata": {},
   "outputs": [
    {
     "data": {
      "text/html": [
       "<div>\n",
       "<style scoped>\n",
       "    .dataframe tbody tr th:only-of-type {\n",
       "        vertical-align: middle;\n",
       "    }\n",
       "\n",
       "    .dataframe tbody tr th {\n",
       "        vertical-align: top;\n",
       "    }\n",
       "\n",
       "    .dataframe thead th {\n",
       "        text-align: right;\n",
       "    }\n",
       "</style>\n",
       "<table border=\"1\" class=\"dataframe\">\n",
       "  <thead>\n",
       "    <tr style=\"text-align: right;\">\n",
       "      <th></th>\n",
       "      <th>date</th>\n",
       "      <th>date_block_num</th>\n",
       "      <th>shop_id</th>\n",
       "      <th>item_id</th>\n",
       "      <th>item_price</th>\n",
       "      <th>item_cnt_day</th>\n",
       "      <th>item_category_id</th>\n",
       "    </tr>\n",
       "  </thead>\n",
       "  <tbody>\n",
       "    <tr>\n",
       "      <th>1972636</th>\n",
       "      <td>2014-09-01</td>\n",
       "      <td>20</td>\n",
       "      <td>54</td>\n",
       "      <td>0</td>\n",
       "      <td>58.0</td>\n",
       "      <td>1.0</td>\n",
       "      <td>40</td>\n",
       "    </tr>\n",
       "    <tr>\n",
       "      <th>1552550</th>\n",
       "      <td>2014-04-04</td>\n",
       "      <td>15</td>\n",
       "      <td>55</td>\n",
       "      <td>1</td>\n",
       "      <td>4490.0</td>\n",
       "      <td>1.0</td>\n",
       "      <td>76</td>\n",
       "    </tr>\n",
       "    <tr>\n",
       "      <th>1552605</th>\n",
       "      <td>2014-04-02</td>\n",
       "      <td>15</td>\n",
       "      <td>55</td>\n",
       "      <td>1</td>\n",
       "      <td>4490.0</td>\n",
       "      <td>1.0</td>\n",
       "      <td>76</td>\n",
       "    </tr>\n",
       "    <tr>\n",
       "      <th>1815470</th>\n",
       "      <td>2014-07-06</td>\n",
       "      <td>18</td>\n",
       "      <td>55</td>\n",
       "      <td>1</td>\n",
       "      <td>4490.0</td>\n",
       "      <td>1.0</td>\n",
       "      <td>76</td>\n",
       "    </tr>\n",
       "    <tr>\n",
       "      <th>2021246</th>\n",
       "      <td>2014-09-11</td>\n",
       "      <td>20</td>\n",
       "      <td>55</td>\n",
       "      <td>1</td>\n",
       "      <td>4490.0</td>\n",
       "      <td>1.0</td>\n",
       "      <td>76</td>\n",
       "    </tr>\n",
       "  </tbody>\n",
       "</table>\n",
       "</div>"
      ],
      "text/plain": [
       "              date  date_block_num  shop_id  item_id  item_price  \\\n",
       "1972636 2014-09-01              20       54        0        58.0   \n",
       "1552550 2014-04-04              15       55        1      4490.0   \n",
       "1552605 2014-04-02              15       55        1      4490.0   \n",
       "1815470 2014-07-06              18       55        1      4490.0   \n",
       "2021246 2014-09-11              20       55        1      4490.0   \n",
       "\n",
       "         item_cnt_day  item_category_id  \n",
       "1972636           1.0                40  \n",
       "1552550           1.0                76  \n",
       "1552605           1.0                76  \n",
       "1815470           1.0                76  \n",
       "2021246           1.0                76  "
      ]
     },
     "execution_count": 10,
     "metadata": {},
     "output_type": "execute_result"
    }
   ],
   "source": [
    "sales_train = pd.merge(sales_train,items[['item_id','item_category_id']],on='item_id',how='left').sort_values(by='item_id')\n",
    "sales_train.head()"
   ]
  },
  {
   "cell_type": "markdown",
   "metadata": {},
   "source": [
    "# Check by total item_cnt by month per year"
   ]
  },
  {
   "cell_type": "code",
   "execution_count": 11,
   "metadata": {},
   "outputs": [
    {
     "name": "stdout",
     "output_type": "stream",
     "text": [
      "years in train data:  [2014 2015 2013]\n"
     ]
    }
   ],
   "source": [
    "print 'years in train data: ',sales_train['date'].dt.year.unique()"
   ]
  },
  {
   "cell_type": "code",
   "execution_count": 12,
   "metadata": {},
   "outputs": [],
   "source": [
    "sales_train['year'] = sales_train['date'].dt.year.astype('string')\n",
    "sales_train['month'] = sales_train['date'].dt.month.astype('string')\n",
    "# sales_train['Y_M'] = sales_train['year']+'_'+sales_train['month']\n",
    "# sales_train.drop(columns=['year','month'], inplace=True)"
   ]
  },
  {
   "cell_type": "code",
   "execution_count": 13,
   "metadata": {},
   "outputs": [],
   "source": [
    "sales_train_year = sales_train['date'].dt.year.astype('string')\n",
    "sales_train_month = sales_train['date'].dt.month.astype('string')\n",
    "sales_train['Y_M'] = sales_train_year+'_'+sales_train_month"
   ]
  },
  {
   "cell_type": "code",
   "execution_count": 14,
   "metadata": {},
   "outputs": [
    {
     "data": {
      "text/html": [
       "<div>\n",
       "<style scoped>\n",
       "    .dataframe tbody tr th:only-of-type {\n",
       "        vertical-align: middle;\n",
       "    }\n",
       "\n",
       "    .dataframe tbody tr th {\n",
       "        vertical-align: top;\n",
       "    }\n",
       "\n",
       "    .dataframe thead th {\n",
       "        text-align: right;\n",
       "    }\n",
       "</style>\n",
       "<table border=\"1\" class=\"dataframe\">\n",
       "  <thead>\n",
       "    <tr style=\"text-align: right;\">\n",
       "      <th></th>\n",
       "      <th>date</th>\n",
       "      <th>date_block_num</th>\n",
       "      <th>shop_id</th>\n",
       "      <th>item_id</th>\n",
       "      <th>item_price</th>\n",
       "      <th>item_cnt_day</th>\n",
       "      <th>item_category_id</th>\n",
       "      <th>year</th>\n",
       "      <th>month</th>\n",
       "      <th>Y_M</th>\n",
       "    </tr>\n",
       "  </thead>\n",
       "  <tbody>\n",
       "    <tr>\n",
       "      <th>1972636</th>\n",
       "      <td>2014-09-01</td>\n",
       "      <td>20</td>\n",
       "      <td>54</td>\n",
       "      <td>0</td>\n",
       "      <td>58.0</td>\n",
       "      <td>1.0</td>\n",
       "      <td>40</td>\n",
       "      <td>2014</td>\n",
       "      <td>9</td>\n",
       "      <td>2014_9</td>\n",
       "    </tr>\n",
       "    <tr>\n",
       "      <th>1552550</th>\n",
       "      <td>2014-04-04</td>\n",
       "      <td>15</td>\n",
       "      <td>55</td>\n",
       "      <td>1</td>\n",
       "      <td>4490.0</td>\n",
       "      <td>1.0</td>\n",
       "      <td>76</td>\n",
       "      <td>2014</td>\n",
       "      <td>4</td>\n",
       "      <td>2014_4</td>\n",
       "    </tr>\n",
       "    <tr>\n",
       "      <th>1552605</th>\n",
       "      <td>2014-04-02</td>\n",
       "      <td>15</td>\n",
       "      <td>55</td>\n",
       "      <td>1</td>\n",
       "      <td>4490.0</td>\n",
       "      <td>1.0</td>\n",
       "      <td>76</td>\n",
       "      <td>2014</td>\n",
       "      <td>4</td>\n",
       "      <td>2014_4</td>\n",
       "    </tr>\n",
       "    <tr>\n",
       "      <th>1815470</th>\n",
       "      <td>2014-07-06</td>\n",
       "      <td>18</td>\n",
       "      <td>55</td>\n",
       "      <td>1</td>\n",
       "      <td>4490.0</td>\n",
       "      <td>1.0</td>\n",
       "      <td>76</td>\n",
       "      <td>2014</td>\n",
       "      <td>7</td>\n",
       "      <td>2014_7</td>\n",
       "    </tr>\n",
       "    <tr>\n",
       "      <th>2021246</th>\n",
       "      <td>2014-09-11</td>\n",
       "      <td>20</td>\n",
       "      <td>55</td>\n",
       "      <td>1</td>\n",
       "      <td>4490.0</td>\n",
       "      <td>1.0</td>\n",
       "      <td>76</td>\n",
       "      <td>2014</td>\n",
       "      <td>9</td>\n",
       "      <td>2014_9</td>\n",
       "    </tr>\n",
       "  </tbody>\n",
       "</table>\n",
       "</div>"
      ],
      "text/plain": [
       "              date  date_block_num  shop_id  item_id  item_price  \\\n",
       "1972636 2014-09-01              20       54        0        58.0   \n",
       "1552550 2014-04-04              15       55        1      4490.0   \n",
       "1552605 2014-04-02              15       55        1      4490.0   \n",
       "1815470 2014-07-06              18       55        1      4490.0   \n",
       "2021246 2014-09-11              20       55        1      4490.0   \n",
       "\n",
       "         item_cnt_day  item_category_id  year month     Y_M  \n",
       "1972636           1.0                40  2014     9  2014_9  \n",
       "1552550           1.0                76  2014     4  2014_4  \n",
       "1552605           1.0                76  2014     4  2014_4  \n",
       "1815470           1.0                76  2014     7  2014_7  \n",
       "2021246           1.0                76  2014     9  2014_9  "
      ]
     },
     "execution_count": 14,
     "metadata": {},
     "output_type": "execute_result"
    }
   ],
   "source": [
    "sales_train.head()"
   ]
  },
  {
   "cell_type": "code",
   "execution_count": 15,
   "metadata": {},
   "outputs": [
    {
     "data": {
      "text/html": [
       "<div>\n",
       "<style scoped>\n",
       "    .dataframe tbody tr th:only-of-type {\n",
       "        vertical-align: middle;\n",
       "    }\n",
       "\n",
       "    .dataframe tbody tr th {\n",
       "        vertical-align: top;\n",
       "    }\n",
       "\n",
       "    .dataframe thead th {\n",
       "        text-align: right;\n",
       "    }\n",
       "</style>\n",
       "<table border=\"1\" class=\"dataframe\">\n",
       "  <thead>\n",
       "    <tr style=\"text-align: right;\">\n",
       "      <th></th>\n",
       "      <th></th>\n",
       "      <th>sum</th>\n",
       "    </tr>\n",
       "    <tr>\n",
       "      <th>date_block_num</th>\n",
       "      <th>Y_M</th>\n",
       "      <th></th>\n",
       "    </tr>\n",
       "  </thead>\n",
       "  <tbody>\n",
       "    <tr>\n",
       "      <th>0</th>\n",
       "      <th>2013_1</th>\n",
       "      <td>131479.0</td>\n",
       "    </tr>\n",
       "    <tr>\n",
       "      <th>1</th>\n",
       "      <th>2013_2</th>\n",
       "      <td>128090.0</td>\n",
       "    </tr>\n",
       "    <tr>\n",
       "      <th>2</th>\n",
       "      <th>2013_3</th>\n",
       "      <td>147142.0</td>\n",
       "    </tr>\n",
       "    <tr>\n",
       "      <th>3</th>\n",
       "      <th>2013_4</th>\n",
       "      <td>107190.0</td>\n",
       "    </tr>\n",
       "    <tr>\n",
       "      <th>4</th>\n",
       "      <th>2013_5</th>\n",
       "      <td>106970.0</td>\n",
       "    </tr>\n",
       "    <tr>\n",
       "      <th>5</th>\n",
       "      <th>2013_6</th>\n",
       "      <td>125381.0</td>\n",
       "    </tr>\n",
       "    <tr>\n",
       "      <th>6</th>\n",
       "      <th>2013_7</th>\n",
       "      <td>116966.0</td>\n",
       "    </tr>\n",
       "    <tr>\n",
       "      <th>7</th>\n",
       "      <th>2013_8</th>\n",
       "      <td>125291.0</td>\n",
       "    </tr>\n",
       "    <tr>\n",
       "      <th>8</th>\n",
       "      <th>2013_9</th>\n",
       "      <td>133332.0</td>\n",
       "    </tr>\n",
       "    <tr>\n",
       "      <th>9</th>\n",
       "      <th>2013_10</th>\n",
       "      <td>127541.0</td>\n",
       "    </tr>\n",
       "    <tr>\n",
       "      <th>10</th>\n",
       "      <th>2013_11</th>\n",
       "      <td>130009.0</td>\n",
       "    </tr>\n",
       "    <tr>\n",
       "      <th>11</th>\n",
       "      <th>2013_12</th>\n",
       "      <td>183342.0</td>\n",
       "    </tr>\n",
       "    <tr>\n",
       "      <th>12</th>\n",
       "      <th>2014_1</th>\n",
       "      <td>116899.0</td>\n",
       "    </tr>\n",
       "    <tr>\n",
       "      <th>13</th>\n",
       "      <th>2014_2</th>\n",
       "      <td>109687.0</td>\n",
       "    </tr>\n",
       "    <tr>\n",
       "      <th>14</th>\n",
       "      <th>2014_3</th>\n",
       "      <td>115297.0</td>\n",
       "    </tr>\n",
       "    <tr>\n",
       "      <th>15</th>\n",
       "      <th>2014_4</th>\n",
       "      <td>96556.0</td>\n",
       "    </tr>\n",
       "    <tr>\n",
       "      <th>16</th>\n",
       "      <th>2014_5</th>\n",
       "      <td>97790.0</td>\n",
       "    </tr>\n",
       "    <tr>\n",
       "      <th>17</th>\n",
       "      <th>2014_6</th>\n",
       "      <td>97429.0</td>\n",
       "    </tr>\n",
       "    <tr>\n",
       "      <th>18</th>\n",
       "      <th>2014_7</th>\n",
       "      <td>91280.0</td>\n",
       "    </tr>\n",
       "    <tr>\n",
       "      <th>19</th>\n",
       "      <th>2014_8</th>\n",
       "      <td>102721.0</td>\n",
       "    </tr>\n",
       "    <tr>\n",
       "      <th>20</th>\n",
       "      <th>2014_9</th>\n",
       "      <td>99208.0</td>\n",
       "    </tr>\n",
       "    <tr>\n",
       "      <th>21</th>\n",
       "      <th>2014_10</th>\n",
       "      <td>107422.0</td>\n",
       "    </tr>\n",
       "    <tr>\n",
       "      <th>22</th>\n",
       "      <th>2014_11</th>\n",
       "      <td>117845.0</td>\n",
       "    </tr>\n",
       "    <tr>\n",
       "      <th>23</th>\n",
       "      <th>2014_12</th>\n",
       "      <td>168755.0</td>\n",
       "    </tr>\n",
       "    <tr>\n",
       "      <th>24</th>\n",
       "      <th>2015_1</th>\n",
       "      <td>110971.0</td>\n",
       "    </tr>\n",
       "    <tr>\n",
       "      <th>25</th>\n",
       "      <th>2015_2</th>\n",
       "      <td>84198.0</td>\n",
       "    </tr>\n",
       "    <tr>\n",
       "      <th>26</th>\n",
       "      <th>2015_3</th>\n",
       "      <td>82014.0</td>\n",
       "    </tr>\n",
       "    <tr>\n",
       "      <th>27</th>\n",
       "      <th>2015_4</th>\n",
       "      <td>77827.0</td>\n",
       "    </tr>\n",
       "    <tr>\n",
       "      <th>28</th>\n",
       "      <th>2015_5</th>\n",
       "      <td>72295.0</td>\n",
       "    </tr>\n",
       "    <tr>\n",
       "      <th>29</th>\n",
       "      <th>2015_6</th>\n",
       "      <td>64114.0</td>\n",
       "    </tr>\n",
       "    <tr>\n",
       "      <th>30</th>\n",
       "      <th>2015_7</th>\n",
       "      <td>63187.0</td>\n",
       "    </tr>\n",
       "    <tr>\n",
       "      <th>31</th>\n",
       "      <th>2015_8</th>\n",
       "      <td>66079.0</td>\n",
       "    </tr>\n",
       "    <tr>\n",
       "      <th>32</th>\n",
       "      <th>2015_9</th>\n",
       "      <td>72843.0</td>\n",
       "    </tr>\n",
       "    <tr>\n",
       "      <th>33</th>\n",
       "      <th>2015_10</th>\n",
       "      <td>71056.0</td>\n",
       "    </tr>\n",
       "  </tbody>\n",
       "</table>\n",
       "</div>"
      ],
      "text/plain": [
       "                             sum\n",
       "date_block_num Y_M              \n",
       "0              2013_1   131479.0\n",
       "1              2013_2   128090.0\n",
       "2              2013_3   147142.0\n",
       "3              2013_4   107190.0\n",
       "4              2013_5   106970.0\n",
       "5              2013_6   125381.0\n",
       "6              2013_7   116966.0\n",
       "7              2013_8   125291.0\n",
       "8              2013_9   133332.0\n",
       "9              2013_10  127541.0\n",
       "10             2013_11  130009.0\n",
       "11             2013_12  183342.0\n",
       "12             2014_1   116899.0\n",
       "13             2014_2   109687.0\n",
       "14             2014_3   115297.0\n",
       "15             2014_4    96556.0\n",
       "16             2014_5    97790.0\n",
       "17             2014_6    97429.0\n",
       "18             2014_7    91280.0\n",
       "19             2014_8   102721.0\n",
       "20             2014_9    99208.0\n",
       "21             2014_10  107422.0\n",
       "22             2014_11  117845.0\n",
       "23             2014_12  168755.0\n",
       "24             2015_1   110971.0\n",
       "25             2015_2    84198.0\n",
       "26             2015_3    82014.0\n",
       "27             2015_4    77827.0\n",
       "28             2015_5    72295.0\n",
       "29             2015_6    64114.0\n",
       "30             2015_7    63187.0\n",
       "31             2015_8    66079.0\n",
       "32             2015_9    72843.0\n",
       "33             2015_10   71056.0"
      ]
     },
     "execution_count": 15,
     "metadata": {},
     "output_type": "execute_result"
    }
   ],
   "source": [
    "sales_train.groupby(['date_block_num','Y_M'])['item_cnt_day'].agg(['sum'])"
   ]
  },
  {
   "cell_type": "code",
   "execution_count": 16,
   "metadata": {},
   "outputs": [],
   "source": [
    "#split by year\n",
    "sales_train_2013 = sales_train[sales_train['year']=='2013']\n",
    "sales_train_2014 = sales_train[sales_train['year']=='2014']\n",
    "sales_train_2015 = sales_train[sales_train['year']=='2015']"
   ]
  },
  {
   "cell_type": "code",
   "execution_count": 17,
   "metadata": {},
   "outputs": [],
   "source": [
    "total_item_cnt_2013 = sales_train_2013.groupby(['date_block_num','Y_M'])['item_cnt_day'].sum().values\n",
    "total_item_cnt_2014 = sales_train_2014.groupby(['date_block_num','Y_M'])['item_cnt_day'].sum().values\n",
    "total_item_cnt_2015 = sales_train_2015.groupby(['date_block_num','Y_M'])['item_cnt_day'].sum().values"
   ]
  },
  {
   "cell_type": "code",
   "execution_count": 18,
   "metadata": {},
   "outputs": [
    {
     "data": {
      "image/png": "[encoded data removed]",
      "text/plain": [
       "<Figure size 432x288 with 1 Axes>"
      ]
     },
     "metadata": {},
     "output_type": "display_data"
    }
   ],
   "source": [
    "#absolute\n",
    "total_item_cnt_2013 = (total_item_cnt_2013)\n",
    "total_item_cnt_2014 = (total_item_cnt_2014)\n",
    "total_item_cnt_2015 = (total_item_cnt_2015)\n",
    "\n",
    "x13 = [i+1 for i in xrange(len(total_item_cnt_2013)) ]\n",
    "y13 = total_item_cnt_2013\n",
    "x14 = [i+1 for i in xrange(len(total_item_cnt_2014)) ]\n",
    "y14 = total_item_cnt_2014\n",
    "x15 = [i+1 for i in xrange(len(total_item_cnt_2015)) ]\n",
    "y15 = total_item_cnt_2015\n",
    "plt.plot(x13,y13,label='2013')\n",
    "plt.plot(x14,y14,label='2014')\n",
    "plt.plot(x15,y15,label='2015')\n",
    "plt.ylabel('total item count')\n",
    "plt.xlabel('month')\n",
    "plt.legend()\n",
    "plt.show()"
   ]
  },
  {
   "cell_type": "code",
   "execution_count": 19,
   "metadata": {},
   "outputs": [
    {
     "data": {
      "image/png": "[encoded data removed]",
      "text/plain": [
       "<Figure size 432x288 with 1 Axes>"
      ]
     },
     "metadata": {},
     "output_type": "display_data"
    }
   ],
   "source": [
    "#translation by mean\n",
    "total_item_cnt_2013_trans = (total_item_cnt_2013-total_item_cnt_2013.mean())\n",
    "total_item_cnt_2014_trans = (total_item_cnt_2014-total_item_cnt_2014.mean())\n",
    "total_item_cnt_2015_trans = (total_item_cnt_2015-total_item_cnt_2015.mean())\n",
    "\n",
    "x13 = [i+1 for i in xrange(len(total_item_cnt_2013_trans)) ]\n",
    "y13 = total_item_cnt_2013_trans\n",
    "x14 = [i+1 for i in xrange(len(total_item_cnt_2014_trans)) ]\n",
    "y14 = total_item_cnt_2014_trans\n",
    "x15 = [i+1 for i in xrange(len(total_item_cnt_2015_trans)) ]\n",
    "y15 = total_item_cnt_2015_trans\n",
    "plt.plot(x13,y13,label='2013')\n",
    "plt.plot(x14,y14,label='2014')\n",
    "plt.plot(x15,y15,label='2015')\n",
    "plt.ylabel('total item count - mean of that year')\n",
    "plt.xlabel('month')\n",
    "plt.legend()\n",
    "plt.show()"
   ]
  },
  {
   "cell_type": "code",
   "execution_count": 20,
   "metadata": {},
   "outputs": [],
   "source": [
    "#plot item_cnt vs month, per shop_id\n",
    "shop_id_2013 = sales_train_2013.groupby(['shop_id'],as_index=False)['item_cnt_day'].sum()['shop_id'].values\n",
    "shop_id_2014 = sales_train_2014.groupby(['shop_id'],as_index=False)['item_cnt_day'].sum()['shop_id'].values\n",
    "shop_id_2015 = sales_train_2015.groupby(['shop_id'],as_index=False)['item_cnt_day'].sum()['shop_id'].values"
   ]
  },
  {
   "cell_type": "markdown",
   "metadata": {},
   "source": [
    "# Missing shops "
   ]
  },
  {
   "cell_type": "code",
   "execution_count": 21,
   "metadata": {},
   "outputs": [],
   "source": [
    "missing_shop_id_2013 = set(shops['shop_id']) - set(shop_id_2013)\n",
    "missing_shop_id_2014 = set(shops['shop_id']) - set(shop_id_2014)\n",
    "missing_shop_id_2015 = set(shops['shop_id']) - set(shop_id_2015)"
   ]
  },
  {
   "cell_type": "code",
   "execution_count": 22,
   "metadata": {},
   "outputs": [
    {
     "name": "stdout",
     "output_type": "stream",
     "text": [
      "missing_shop_id_2013: [33, 34, 36, 39, 40, 11, 48, 20]\n",
      "missing_shop_id_2014: [0, 1, 36, 32, 8, 11, 23]\n",
      "missing_shop_id_2015: [0, 1, 32, 8, 13, 23]\n"
     ]
    }
   ],
   "source": [
    "print 'missing_shop_id_2013:',list(missing_shop_id_2013)\n",
    "print 'missing_shop_id_2014:',list(missing_shop_id_2014)\n",
    "print 'missing_shop_id_2015:',list(missing_shop_id_2015)"
   ]
  },
  {
   "cell_type": "code",
   "execution_count": 23,
   "metadata": {},
   "outputs": [
    {
     "name": "stdout",
     "output_type": "stream",
     "text": [
      "shops in 2013 which closed in 2014: [0, 1, 32, 8, 23]\n",
      "shops opened in 2014 not present in 2013: [33, 34, 39, 40, 48, 20]\n",
      "shops in 2014 which closed in 2015: [13]\n",
      "shops opened in 2015 not present in 2014: [11, 36]\n"
     ]
    }
   ],
   "source": [
    "print 'shops in 2013 which closed in 2014:',list(set(shop_id_2013)-set(shop_id_2014))\n",
    "print 'shops opened in 2014 not present in 2013:',list(set(shop_id_2014)-set(shop_id_2013))\n",
    "print 'shops in 2014 which closed in 2015:',list(set(shop_id_2014)-set(shop_id_2015))\n",
    "print 'shops opened in 2015 not present in 2014:',list(set(shop_id_2015)-set(shop_id_2014))"
   ]
  },
  {
   "cell_type": "code",
   "execution_count": 24,
   "metadata": {},
   "outputs": [
    {
     "name": "stdout",
     "output_type": "stream",
     "text": [
      "shop_in_train_not_in_test: [0, 1, 43, 33, 32, 8, 9, 11, 13, 17, 51, 20, 54, 23, 40, 27, 29, 30]\n"
     ]
    }
   ],
   "source": [
    "shop_in_train_not_in_test = set(sales_train['shop_id'].unique())-set(test['shop_id'].unique())\n",
    "print 'shop_in_train_not_in_test:',list(shop_in_train_not_in_test)"
   ]
  }
 ],
 "metadata": {
  "kernelspec": {
   "display_name": "Python 2",
   "language": "python",
   "name": "python2"
  },
  "language_info": {
   "codemirror_mode": {
    "name": "ipython",
    "version": 2
   },
   "file_extension": ".py",
   "mimetype": "text/x-python",
   "name": "python",
   "nbconvert_exporter": "python",
   "pygments_lexer": "ipython2",
   "version": "2.7.15"
  }
 },
 "nbformat": 4,
 "nbformat_minor": 2
}
