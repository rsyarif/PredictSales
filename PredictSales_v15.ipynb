{
 "cells": [
  {
   "cell_type": "markdown",
   "metadata": {},
   "source": [
    "https://www.kaggle.com/c/competitive-data-science-final-project"
   ]
  },
  {
   "cell_type": "code",
   "execution_count": 1,
   "metadata": {},
   "outputs": [
    {
     "name": "stdout",
     "output_type": "stream",
     "text": [
      "\n",
      "lag_length: 1\n",
      "diff: False\n",
      "diffRel: False\n",
      "target: shop_item_cnt_month\n",
      "\n",
      "target encoding: {'item_cnt_day': 'sum'}\n",
      "\n"
     ]
    }
   ],
   "source": [
    "%reload_ext autoreload\n",
    "%autoreload 2\n",
    "\n",
    "import numpy as np\n",
    "import pandas as pd\n",
    "import seaborn as sns\n",
    "import matplotlib.pyplot as plt\n",
    "import os\n",
    "%matplotlib inline \n",
    "\n",
    "import utility.utility as ut\n",
    "from preprocessing.createSets import *\n",
    "from preprocessing.Sets import Sets\n",
    "from utility.ML import ML\n",
    "\n",
    "########### switches ################################\n",
    "\n",
    "saveName='Oct19-2018_3'\n",
    "saveFolder = saveName\n",
    "saveplots=False\n",
    "createSubmit = False\n",
    "SelfValidate = False\n",
    "if not os.path.exists(saveFolder) and (saveplots or createSubmit): \n",
    "    print 'creating folder:',os.getcwd()+'/'+saveFolder\n",
    "    os.mkdir(saveFolder)\n",
    "if(saveplots): print \"SAVING PLOTS!\"\n",
    "if(createSubmit): print \"WILL CREATE SUBMIT FILE!\"\n",
    "\n",
    "############# Options/Args #########################\n",
    "\n",
    "verbose=False\n",
    "lag_length = 1\n",
    "diff = False\n",
    "diffRel = False \n",
    "addPriceRange = True\n",
    "\n",
    "target = 'shop_item_cnt_month'\n",
    "# target = 'shop_item_cnt_month_diff(0-1)'\n",
    "\n",
    "#these columns will be dropped in createTrain/Val/Test --> Depracated\n",
    "col_targets=[]\n",
    "\n",
    "####### mean Encode (with Reg) #####\n",
    "\n",
    "meanEncode=True #this is just necessary condition for mean encoding. but need to turn on individual switches below to include columsn of target encoding.\n",
    "meanEncodeCol=[ #this is for lag features.\n",
    "             'shop',\n",
    "             'item',\n",
    "             'item_cat',\n",
    "            ]\n",
    "\n",
    "agg_targ = {'item_cnt_day':'sum'} #target_encoding!\n",
    "# agg_targ = {'item_cnt_day':'mean'} #target_encoding!\n",
    "\n",
    "Regularize = True\n",
    "enc_cnt_per_shop = True\n",
    "enc_cnt_per_item = True\n",
    "enc_cnt_per_item_cat = True\n",
    "enc_priceRange = True\n",
    "\n",
    "targEnc_to_Reg = {}\n",
    "NaN_targEnc = {}\n",
    "\n",
    "if(enc_cnt_per_shop):targEnc_to_Reg.update({'shop_id':'shop'})\n",
    "if(enc_cnt_per_item):targEnc_to_Reg.update({'item_id':'item'})\n",
    "if(enc_cnt_per_item_cat):targEnc_to_Reg.update({'item_category_id':'item_cat'})\n",
    "if(enc_priceRange):targEnc_to_Reg.update({'price_range':'price_range'})\n",
    "\n",
    "if(enc_cnt_per_shop):NaN_targEnc.update({'shop':-999})\n",
    "if(enc_cnt_per_item):NaN_targEnc.update({'item':-999})\n",
    "if(enc_cnt_per_item_cat):NaN_targEnc.update({'item_cat':-999})\n",
    "if(enc_priceRange):NaN_targEnc.update({'price_range':-999})\n",
    "\n",
    "####################################\n",
    "\n",
    "#columns to keep\n",
    "col_to_keep = [\n",
    "                'shop_id',\n",
    "                'item_id',\n",
    "                #'item_price',\n",
    "                'item_category_id',\n",
    "                'item_cnt_day',\n",
    "                ]\n",
    "\n",
    "groupby_list = ['shop_id','item_id']\n",
    "\n",
    "agg_dict = {\n",
    "            #'item_price':'mean',\n",
    "            'item_category_id':'mean',\n",
    "            'item_cnt_day':'sum',\n",
    "            }\n",
    "\n",
    "    \n",
    "opt = {\n",
    "        'verbose':verbose,\n",
    "        'lag_length':lag_length,\n",
    "        'diff':diff,\n",
    "        'diffRel':diffRel,\n",
    "        'target':target,\n",
    "        'col_to_keep':col_to_keep,\n",
    "        'groupby_list':groupby_list,\n",
    "        'agg_dict':agg_dict,\n",
    "        'agg_targ':agg_targ,\n",
    "        'col_targets':col_targets,\n",
    "        'meanEncode':meanEncode,\n",
    "        'meanEncodeCol':meanEncodeCol,\n",
    "        'targEnc_to_Reg':targEnc_to_Reg,\n",
    "        'NaN_targEnc':NaN_targEnc,\n",
    "        } \n",
    "\n",
    "\n",
    "#clipTarget = True\n",
    "lowerClip = 0\n",
    "upperClip = 20\n",
    "if target=='shop_item_cnt_month_diff(0-1)':\n",
    "    lowerClip = -20\n",
    "    upperClip = 20    \n",
    "\n",
    "########################################################\n",
    "\n",
    "#del Sets\n",
    "Sets = Sets(**opt)\n",
    "\n",
    "dup_ids = Sets.checkDuplicates()\n",
    "Sets.convertDatetime()\n",
    "Sets.addItemCategoryId()\n",
    "Sets.addYMcolumn()\n",
    "bin_edges=[0,10,100,200,500,1000,2500,5000,20000,999999]\n",
    "Sets.binPrice(bin_edges)\n",
    "Sets.splitDataByYear()\n",
    "data = Sets.getData()"
   ]
  },
  {
   "cell_type": "code",
   "execution_count": 2,
   "metadata": {},
   "outputs": [
    {
     "data": {
      "text/html": [
       "<div>\n",
       "<style scoped>\n",
       "    .dataframe tbody tr th:only-of-type {\n",
       "        vertical-align: middle;\n",
       "    }\n",
       "\n",
       "    .dataframe tbody tr th {\n",
       "        vertical-align: top;\n",
       "    }\n",
       "\n",
       "    .dataframe thead th {\n",
       "        text-align: right;\n",
       "    }\n",
       "</style>\n",
       "<table border=\"1\" class=\"dataframe\">\n",
       "  <thead>\n",
       "    <tr style=\"text-align: right;\">\n",
       "      <th></th>\n",
       "      <th>date</th>\n",
       "      <th>date_block_num</th>\n",
       "      <th>shop_id</th>\n",
       "      <th>item_id</th>\n",
       "      <th>item_price</th>\n",
       "      <th>item_cnt_day</th>\n",
       "      <th>item_category_id</th>\n",
       "      <th>year</th>\n",
       "      <th>month</th>\n",
       "      <th>Y_M</th>\n",
       "      <th>price_range</th>\n",
       "    </tr>\n",
       "  </thead>\n",
       "  <tbody>\n",
       "    <tr>\n",
       "      <th>1972631</th>\n",
       "      <td>2014-09-01</td>\n",
       "      <td>20</td>\n",
       "      <td>54</td>\n",
       "      <td>0</td>\n",
       "      <td>58.0</td>\n",
       "      <td>1.0</td>\n",
       "      <td>40</td>\n",
       "      <td>2014</td>\n",
       "      <td>9</td>\n",
       "      <td>2014_9</td>\n",
       "      <td>(10, 100]</td>\n",
       "    </tr>\n",
       "    <tr>\n",
       "      <th>2069405</th>\n",
       "      <td>2014-10-20</td>\n",
       "      <td>21</td>\n",
       "      <td>55</td>\n",
       "      <td>1</td>\n",
       "      <td>4490.0</td>\n",
       "      <td>1.0</td>\n",
       "      <td>76</td>\n",
       "      <td>2014</td>\n",
       "      <td>10</td>\n",
       "      <td>2014_10</td>\n",
       "      <td>(2500, 5000]</td>\n",
       "    </tr>\n",
       "    <tr>\n",
       "      <th>1552547</th>\n",
       "      <td>2014-04-04</td>\n",
       "      <td>15</td>\n",
       "      <td>55</td>\n",
       "      <td>1</td>\n",
       "      <td>4490.0</td>\n",
       "      <td>1.0</td>\n",
       "      <td>76</td>\n",
       "      <td>2014</td>\n",
       "      <td>4</td>\n",
       "      <td>2014_4</td>\n",
       "      <td>(2500, 5000]</td>\n",
       "    </tr>\n",
       "    <tr>\n",
       "      <th>1815466</th>\n",
       "      <td>2014-07-06</td>\n",
       "      <td>18</td>\n",
       "      <td>55</td>\n",
       "      <td>1</td>\n",
       "      <td>4490.0</td>\n",
       "      <td>1.0</td>\n",
       "      <td>76</td>\n",
       "      <td>2014</td>\n",
       "      <td>7</td>\n",
       "      <td>2014_7</td>\n",
       "      <td>(2500, 5000]</td>\n",
       "    </tr>\n",
       "    <tr>\n",
       "      <th>1906676</th>\n",
       "      <td>2014-08-04</td>\n",
       "      <td>19</td>\n",
       "      <td>55</td>\n",
       "      <td>1</td>\n",
       "      <td>4490.0</td>\n",
       "      <td>1.0</td>\n",
       "      <td>76</td>\n",
       "      <td>2014</td>\n",
       "      <td>8</td>\n",
       "      <td>2014_8</td>\n",
       "      <td>(2500, 5000]</td>\n",
       "    </tr>\n",
       "  </tbody>\n",
       "</table>\n",
       "</div>"
      ],
      "text/plain": [
       "              date  date_block_num  shop_id  item_id  item_price  \\\n",
       "1972631 2014-09-01              20       54        0        58.0   \n",
       "2069405 2014-10-20              21       55        1      4490.0   \n",
       "1552547 2014-04-04              15       55        1      4490.0   \n",
       "1815466 2014-07-06              18       55        1      4490.0   \n",
       "1906676 2014-08-04              19       55        1      4490.0   \n",
       "\n",
       "         item_cnt_day  item_category_id  year  month      Y_M   price_range  \n",
       "1972631           1.0                40  2014      9   2014_9     (10, 100]  \n",
       "2069405           1.0                76  2014     10  2014_10  (2500, 5000]  \n",
       "1552547           1.0                76  2014      4   2014_4  (2500, 5000]  \n",
       "1815466           1.0                76  2014      7   2014_7  (2500, 5000]  \n",
       "1906676           1.0                76  2014      8   2014_8  (2500, 5000]  "
      ]
     },
     "execution_count": 2,
     "metadata": {},
     "output_type": "execute_result"
    }
   ],
   "source": [
    "data['sales_train'].head()"
   ]
  },
  {
   "cell_type": "code",
   "execution_count": 3,
   "metadata": {},
   "outputs": [
    {
     "data": {
      "text/html": [
       "<div>\n",
       "<style scoped>\n",
       "    .dataframe tbody tr th:only-of-type {\n",
       "        vertical-align: middle;\n",
       "    }\n",
       "\n",
       "    .dataframe tbody tr th {\n",
       "        vertical-align: top;\n",
       "    }\n",
       "\n",
       "    .dataframe thead th {\n",
       "        text-align: right;\n",
       "    }\n",
       "</style>\n",
       "<table border=\"1\" class=\"dataframe\">\n",
       "  <thead>\n",
       "    <tr style=\"text-align: right;\">\n",
       "      <th>date_block_num</th>\n",
       "      <th>0</th>\n",
       "      <th>1</th>\n",
       "      <th>2</th>\n",
       "      <th>3</th>\n",
       "      <th>4</th>\n",
       "      <th>5</th>\n",
       "      <th>6</th>\n",
       "      <th>7</th>\n",
       "      <th>8</th>\n",
       "      <th>9</th>\n",
       "      <th>10</th>\n",
       "      <th>11</th>\n",
       "    </tr>\n",
       "  </thead>\n",
       "  <tbody>\n",
       "    <tr>\n",
       "      <th>year</th>\n",
       "      <td>2013</td>\n",
       "      <td>2013</td>\n",
       "      <td>2013</td>\n",
       "      <td>2013</td>\n",
       "      <td>2013</td>\n",
       "      <td>2013</td>\n",
       "      <td>2013</td>\n",
       "      <td>2013</td>\n",
       "      <td>2013</td>\n",
       "      <td>2013</td>\n",
       "      <td>2013</td>\n",
       "      <td>2013</td>\n",
       "    </tr>\n",
       "    <tr>\n",
       "      <th>month</th>\n",
       "      <td>1</td>\n",
       "      <td>2</td>\n",
       "      <td>3</td>\n",
       "      <td>4</td>\n",
       "      <td>5</td>\n",
       "      <td>6</td>\n",
       "      <td>7</td>\n",
       "      <td>8</td>\n",
       "      <td>9</td>\n",
       "      <td>10</td>\n",
       "      <td>11</td>\n",
       "      <td>12</td>\n",
       "    </tr>\n",
       "  </tbody>\n",
       "</table>\n",
       "</div>"
      ],
      "text/plain": [
       "date_block_num    0     1     2     3     4     5     6     7     8     9   \\\n",
       "year            2013  2013  2013  2013  2013  2013  2013  2013  2013  2013   \n",
       "month              1     2     3     4     5     6     7     8     9    10   \n",
       "\n",
       "date_block_num    10    11  \n",
       "year            2013  2013  \n",
       "month             11    12  "
      ]
     },
     "execution_count": 3,
     "metadata": {},
     "output_type": "execute_result"
    }
   ],
   "source": [
    "df_temp = data['sales_train'][data['sales_train']['year']==2013][['date_block_num','year','month']].sort_values(by='date_block_num').drop_duplicates().set_index('date_block_num')\n",
    "df_temp.transpose()"
   ]
  },
  {
   "cell_type": "code",
   "execution_count": 4,
   "metadata": {},
   "outputs": [
    {
     "data": {
      "text/html": [
       "<div>\n",
       "<style scoped>\n",
       "    .dataframe tbody tr th:only-of-type {\n",
       "        vertical-align: middle;\n",
       "    }\n",
       "\n",
       "    .dataframe tbody tr th {\n",
       "        vertical-align: top;\n",
       "    }\n",
       "\n",
       "    .dataframe thead th {\n",
       "        text-align: right;\n",
       "    }\n",
       "</style>\n",
       "<table border=\"1\" class=\"dataframe\">\n",
       "  <thead>\n",
       "    <tr style=\"text-align: right;\">\n",
       "      <th>date_block_num</th>\n",
       "      <th>12</th>\n",
       "      <th>13</th>\n",
       "      <th>14</th>\n",
       "      <th>15</th>\n",
       "      <th>16</th>\n",
       "      <th>17</th>\n",
       "      <th>18</th>\n",
       "      <th>19</th>\n",
       "      <th>20</th>\n",
       "      <th>21</th>\n",
       "      <th>22</th>\n",
       "      <th>23</th>\n",
       "    </tr>\n",
       "  </thead>\n",
       "  <tbody>\n",
       "    <tr>\n",
       "      <th>year</th>\n",
       "      <td>2014</td>\n",
       "      <td>2014</td>\n",
       "      <td>2014</td>\n",
       "      <td>2014</td>\n",
       "      <td>2014</td>\n",
       "      <td>2014</td>\n",
       "      <td>2014</td>\n",
       "      <td>2014</td>\n",
       "      <td>2014</td>\n",
       "      <td>2014</td>\n",
       "      <td>2014</td>\n",
       "      <td>2014</td>\n",
       "    </tr>\n",
       "    <tr>\n",
       "      <th>month</th>\n",
       "      <td>1</td>\n",
       "      <td>2</td>\n",
       "      <td>3</td>\n",
       "      <td>4</td>\n",
       "      <td>5</td>\n",
       "      <td>6</td>\n",
       "      <td>7</td>\n",
       "      <td>8</td>\n",
       "      <td>9</td>\n",
       "      <td>10</td>\n",
       "      <td>11</td>\n",
       "      <td>12</td>\n",
       "    </tr>\n",
       "  </tbody>\n",
       "</table>\n",
       "</div>"
      ],
      "text/plain": [
       "date_block_num    12    13    14    15    16    17    18    19    20    21  \\\n",
       "year            2014  2014  2014  2014  2014  2014  2014  2014  2014  2014   \n",
       "month              1     2     3     4     5     6     7     8     9    10   \n",
       "\n",
       "date_block_num    22    23  \n",
       "year            2014  2014  \n",
       "month             11    12  "
      ]
     },
     "execution_count": 4,
     "metadata": {},
     "output_type": "execute_result"
    }
   ],
   "source": [
    "df_temp = data['sales_train'][data['sales_train']['year']==2014][['date_block_num','year','month']].sort_values(by='date_block_num').drop_duplicates().set_index('date_block_num')\n",
    "df_temp.transpose()"
   ]
  },
  {
   "cell_type": "code",
   "execution_count": 5,
   "metadata": {},
   "outputs": [
    {
     "data": {
      "text/html": [
       "<div>\n",
       "<style scoped>\n",
       "    .dataframe tbody tr th:only-of-type {\n",
       "        vertical-align: middle;\n",
       "    }\n",
       "\n",
       "    .dataframe tbody tr th {\n",
       "        vertical-align: top;\n",
       "    }\n",
       "\n",
       "    .dataframe thead th {\n",
       "        text-align: right;\n",
       "    }\n",
       "</style>\n",
       "<table border=\"1\" class=\"dataframe\">\n",
       "  <thead>\n",
       "    <tr style=\"text-align: right;\">\n",
       "      <th>date_block_num</th>\n",
       "      <th>24</th>\n",
       "      <th>25</th>\n",
       "      <th>26</th>\n",
       "      <th>27</th>\n",
       "      <th>28</th>\n",
       "      <th>29</th>\n",
       "      <th>30</th>\n",
       "      <th>31</th>\n",
       "      <th>32</th>\n",
       "      <th>33</th>\n",
       "    </tr>\n",
       "  </thead>\n",
       "  <tbody>\n",
       "    <tr>\n",
       "      <th>year</th>\n",
       "      <td>2015</td>\n",
       "      <td>2015</td>\n",
       "      <td>2015</td>\n",
       "      <td>2015</td>\n",
       "      <td>2015</td>\n",
       "      <td>2015</td>\n",
       "      <td>2015</td>\n",
       "      <td>2015</td>\n",
       "      <td>2015</td>\n",
       "      <td>2015</td>\n",
       "    </tr>\n",
       "    <tr>\n",
       "      <th>month</th>\n",
       "      <td>1</td>\n",
       "      <td>2</td>\n",
       "      <td>3</td>\n",
       "      <td>4</td>\n",
       "      <td>5</td>\n",
       "      <td>6</td>\n",
       "      <td>7</td>\n",
       "      <td>8</td>\n",
       "      <td>9</td>\n",
       "      <td>10</td>\n",
       "    </tr>\n",
       "  </tbody>\n",
       "</table>\n",
       "</div>"
      ],
      "text/plain": [
       "date_block_num    24    25    26    27    28    29    30    31    32    33\n",
       "year            2015  2015  2015  2015  2015  2015  2015  2015  2015  2015\n",
       "month              1     2     3     4     5     6     7     8     9    10"
      ]
     },
     "execution_count": 5,
     "metadata": {},
     "output_type": "execute_result"
    }
   ],
   "source": [
    "df_temp = data['sales_train'][data['sales_train']['year']==2015][['date_block_num','year','month']].sort_values(by='date_block_num').drop_duplicates().set_index('date_block_num')\n",
    "df_temp.transpose()"
   ]
  },
  {
   "cell_type": "markdown",
   "metadata": {},
   "source": [
    "# Create train/val/test set - with isItemNew"
   ]
  },
  {
   "cell_type": "code",
   "execution_count": 6,
   "metadata": {},
   "outputs": [
    {
     "name": "stdout",
     "output_type": "stream",
     "text": [
      "(1454434, 13)\n",
      "(31531, 13)\n"
     ]
    }
   ],
   "source": [
    "# split by date block num\n",
    "train_blocks = [block for block in range(2,33)]\n",
    "x_train, y_train = Sets.createDateblockSet(train_blocks)\n",
    "x_val, y_val = Sets.createDateblockSet([33])\n",
    "x_test = Sets.createTestSet()\n",
    "print x_train.shape\n",
    "print x_val.shape"
   ]
  },
  {
   "cell_type": "code",
   "execution_count": 7,
   "metadata": {},
   "outputs": [
    {
     "name": "stdout",
     "output_type": "stream",
     "text": [
      "total new items in test set: 46578\n"
     ]
    }
   ],
   "source": [
    "print 'total new items in test set:',len(x_test[x_test['isItemNew']==1])"
   ]
  },
  {
   "cell_type": "markdown",
   "metadata": {},
   "source": [
    "# Adding price category to train,val, test"
   ]
  },
  {
   "cell_type": "code",
   "execution_count": 8,
   "metadata": {},
   "outputs": [
    {
     "name": "stdout",
     "output_type": "stream",
     "text": [
      "train.shape: (2935843, 11)\n"
     ]
    }
   ],
   "source": [
    "if(addPriceRange):x_train,x_val,x_test = Sets.addPriceRange(x_train,x_val,x_test)"
   ]
  },
  {
   "cell_type": "markdown",
   "metadata": {},
   "source": [
    "# Target encode with KFold reg"
   ]
  },
  {
   "cell_type": "code",
   "execution_count": 9,
   "metadata": {},
   "outputs": [
    {
     "name": "stdout",
     "output_type": "stream",
     "text": [
      "Regularizing target encoding!\n"
     ]
    },
    {
     "name": "stderr",
     "output_type": "stream",
     "text": [
      "preprocessing/Sets.py:384: SettingWithCopyWarning: \n",
      "A value is trying to be set on a copy of a slice from a DataFrame.\n",
      "Try using .loc[row_indexer,col_indexer] = value instead\n",
      "\n",
      "See the caveats in the documentation: http://pandas.pydata.org/pandas-docs/stable/indexing.html#indexing-view-versus-copy\n",
      "  df_val[value+'_cnt_month_kFold'] = df_val[key].map(feat_target_sum)\n",
      "/anaconda2/lib/python2.7/site-packages/pandas/core/generic.py:5430: SettingWithCopyWarning: \n",
      "A value is trying to be set on a copy of a slice from a DataFrame\n",
      "\n",
      "See the caveats in the documentation: http://pandas.pydata.org/pandas-docs/stable/indexing.html#indexing-view-versus-copy\n",
      "  self._update_inplace(new_data)\n"
     ]
    },
    {
     "name": "stdout",
     "output_type": "stream",
     "text": [
      "x_val: adding target encoding: item_cnt_month_kFold\n",
      "x_val: adding target encoding: item_cat_cnt_month_kFold\n",
      "x_val: adding target encoding: price_range_cnt_month_kFold\n",
      "x_val: adding target encoding: shop_cnt_month_kFold\n",
      "x_test: adding target encoding: item\n",
      "x_test: adding target encoding: item_cat\n",
      "x_test: adding target encoding: price_range\n",
      "x_test: adding target encoding: shop\n"
     ]
    }
   ],
   "source": [
    "x_train,x_val,x_test = Sets.mapTargetEnc(x_train,y_train,x_val,x_test,Regularize=Regularize)"
   ]
  },
  {
   "cell_type": "code",
   "execution_count": 10,
   "metadata": {},
   "outputs": [],
   "source": [
    "columns_to_drop = [\n",
    "                'shop_item_id',\n",
    "                  ]\n",
    "x_train = x_train.drop(columns=columns_to_drop)\n",
    "x_val = x_val.drop(columns=columns_to_drop)\n",
    "x_test = x_test.drop(columns=columns_to_drop)\n",
    "# make sure features are the same across sets\n",
    "x_train = x_train.drop(columns=list(set(x_train.columns.values)-set(x_test.columns.values)))\n",
    "x_val = x_val.drop(columns=list(set(x_val.columns.values)-set(x_test.columns.values)))"
   ]
  },
  {
   "cell_type": "code",
   "execution_count": 11,
   "metadata": {},
   "outputs": [
    {
     "name": "stdout",
     "output_type": "stream",
     "text": [
      "x_train.shape: (1454434, 13)\n",
      "y_train.shape: (1454434,)\n",
      "x_val.shape: (31531, 13)\n",
      "y_val.shape: (31531,)\n",
      "x_test.shape: (214200, 13)\n",
      "x_test columns:\n",
      "    0 shop_id\n",
      "    1 item_id\n",
      "    2 item_category_id\n",
      "    3 isItemNew\n",
      "    4 shop_item_cnt_month_lag_1\n",
      "    5 shop_cnt_month_lag_1\n",
      "    6 item_cnt_month_lag_1\n",
      "    7 item_cat_cnt_month_lag_1\n",
      "    8 price_range\n",
      "    9 item_cnt_month_kFold\n",
      "    10 item_cat_cnt_month_kFold\n",
      "    11 price_range_cnt_month_kFold\n",
      "    12 shop_cnt_month_kFold\n",
      "\n"
     ]
    }
   ],
   "source": [
    "print 'x_train.shape:',x_train.shape\n",
    "print 'y_train.shape:',y_train.shape\n",
    "print 'x_val.shape:',x_val.shape\n",
    "print 'y_val.shape:',y_val.shape\n",
    "print 'x_test.shape:',x_test.shape \n",
    "print 'x_test columns:' \n",
    "for i,col in enumerate(x_test.columns.values): print ' '*3,i,col \n",
    "print\n",
    "assert (set(x_train.columns.values)-set(x_test.columns.values)==set([])), \"train/val has more features than test!\""
   ]
  },
  {
   "cell_type": "code",
   "execution_count": 12,
   "metadata": {},
   "outputs": [],
   "source": [
    "###HACK to check overfit capacity.\n",
    "if(SelfValidate):\n",
    "    x_val = x_train\n",
    "    y_val = y_train"
   ]
  },
  {
   "cell_type": "markdown",
   "metadata": {},
   "source": [
    "# Clip y_train, y_val"
   ]
  },
  {
   "cell_type": "code",
   "execution_count": 13,
   "metadata": {},
   "outputs": [
    {
     "name": "stdout",
     "output_type": "stream",
     "text": [
      "\n",
      "Clipping train and val targets [0-20]\n",
      "\n"
     ]
    }
   ],
   "source": [
    "y_train,y_val = Sets.clipSalesCount(y_train,y_val,lowerClip,upperClip)"
   ]
  },
  {
   "cell_type": "markdown",
   "metadata": {},
   "source": [
    "# Model Training"
   ]
  },
  {
   "cell_type": "code",
   "execution_count": 14,
   "metadata": {},
   "outputs": [],
   "source": [
    "### Boosted Decision Tree (lightgbm)\n",
    "import lightgbm as lgb"
   ]
  },
  {
   "cell_type": "code",
   "execution_count": 15,
   "metadata": {},
   "outputs": [
    {
     "name": "stderr",
     "output_type": "stream",
     "text": [
      "/anaconda2/lib/python2.7/site-packages/lightgbm/basic.py:685: UserWarning: categorical_feature in param dict is overridden.\n",
      "  warnings.warn('categorical_feature in param dict is overridden.')\n"
     ]
    },
    {
     "name": "stdout",
     "output_type": "stream",
     "text": [
      "Training until validation scores don't improve for 200 rounds.\n",
      "Early stopping, best iteration is:\n",
      "[1379]\ttrain's rmse: 1.70212\teval's rmse: 2.08736\n",
      "feature importance:\n",
      "    1 item_cnt_month_kFold : 1481\n",
      "    2 item_cnt_month_lag_1 : 1346\n",
      "    3 item_cat_cnt_month_lag_1 : 1110\n",
      "    4 shop_item_cnt_month_lag_1 : 953\n",
      "    5 item_category_id : 825\n",
      "    6 shop_cnt_month_lag_1 : 709\n",
      "    7 shop_cnt_month_kFold : 656\n",
      "    8 item_cat_cnt_month_kFold : 522\n",
      "    9 item_id : 501\n",
      "    10 price_range : 494\n",
      "    11 isItemNew : 441\n",
      "    12 shop_id : 430\n",
      "    13 price_range_cnt_month_kFold : 185\n"
     ]
    }
   ],
   "source": [
    "dataset = {\n",
    "            'x_train':x_train,\n",
    "            'x_val':x_val,\n",
    "            'x_test':x_test,\n",
    "            'y_train':y_train,\n",
    "            'y_val':y_val,\n",
    "            }\n",
    "\n",
    "ml = ML(**dataset)\n",
    "\n",
    "model,evals_result = ml.runBDT_lightgbm(\n",
    "                    lgb_params = {\n",
    "                                   'num_leaves': 2*4,\n",
    "                                   'min_data_in_leaf': 2**7, \n",
    "                                   'max_depth': -1,\n",
    "                                   'learning_rate': 0.03, \n",
    "                                   'objective': 'mse', \n",
    "                                   'metric': 'rmse',\n",
    "                                   'nthread':4, \n",
    "                                   'feature_fraction': .75,\n",
    "                                   'bagging_fraction': 0.75,#0.75 \n",
    "                                   'bagging_freq':1,\n",
    "                                   'bagging_seed': 2**7, \n",
    "                                   'verbose':1,\n",
    "                                  }\n",
    "                                        )"
   ]
  },
  {
   "cell_type": "code",
   "execution_count": 16,
   "metadata": {},
   "outputs": [
    {
     "name": "stdout",
     "output_type": "stream",
     "text": [
      "Plot metrics recorded during training...\n",
      "Plot feature importances...\n"
     ]
    },
    {
     "data": {
      "image/png": "[encoded data removed]",
      "text/plain": [
       "<Figure size 432x288 with 1 Axes>"
      ]
     },
     "metadata": {},
     "output_type": "display_data"
    },
    {
     "data": {
      "image/png": "[encoded data removed]",
      "text/plain": [
       "<Figure size 921.6x1036.8 with 1 Axes>"
      ]
     },
     "metadata": {},
     "output_type": "display_data"
    }
   ],
   "source": [
    "print('Plot metrics recorded during training...')\n",
    "ax = lgb.plot_metric(evals_result, metric='rmse')\n",
    "if(saveplots):plt.savefig(saveFolder+\"/\"+\"lgb_plot_metric_\"+saveName+\".pdf\")\n",
    "#plt.show()\n",
    "\n",
    "print('Plot feature importances...')\n",
    "ax = lgb.plot_importance(model, max_num_features=x_test.shape[1])\n",
    "ax.figure.set_size_inches(6.4*2,4.8*3)\n",
    "if(saveplots):plt.savefig(saveFolder+\"/\"+\"lgb_plot_importance_\"+saveName+\".pdf\")\n",
    "plt.show()"
   ]
  },
  {
   "cell_type": "markdown",
   "metadata": {},
   "source": [
    "# Predict with test data¶"
   ]
  },
  {
   "cell_type": "code",
   "execution_count": 17,
   "metadata": {},
   "outputs": [],
   "source": [
    "pred = ml.predict(model)"
   ]
  },
  {
   "cell_type": "code",
   "execution_count": 24,
   "metadata": {},
   "outputs": [],
   "source": [
    "pred_submit = pred"
   ]
  },
  {
   "cell_type": "code",
   "execution_count": 25,
   "metadata": {},
   "outputs": [],
   "source": [
    "# #adhoc scaling\n",
    "# pred_submit = (pred_submit)*0.27 \n",
    "# #pred_submit = np.floor(pred_submit)\n",
    "# print pred_submit"
   ]
  },
  {
   "cell_type": "code",
   "execution_count": 26,
   "metadata": {},
   "outputs": [
    {
     "name": "stdout",
     "output_type": "stream",
     "text": [
      "214200\n",
      "[1.16090944 1.20086734 1.22487644 ... 1.1785182  1.75083027 1.36544326]\n",
      "Sum pred: 281694.10468789726\n",
      "[1.16090944 1.20086734 1.22487644 ... 1.1785182  1.75083027 1.36544326]\n"
     ]
    }
   ],
   "source": [
    "print pred.size\n",
    "print pred\n",
    "print 'Sum pred:',np.sum(pred)\n",
    "# pred_submit = pred\n",
    "\n",
    "# True target values are clipped into [0,20] range.\n",
    "pred_submit = np.clip(pred_submit,0,20)\n",
    "    \n",
    "print pred_submit"
   ]
  },
  {
   "cell_type": "code",
   "execution_count": 27,
   "metadata": {},
   "outputs": [
    {
     "name": "stdout",
     "output_type": "stream",
     "text": [
      "total sales pred: 281695.27150044317 , mean: 1.3151039752588383\n"
     ]
    },
    {
     "data": {
      "image/png": "[encoded data removed]",
      "text/plain": [
       "<Figure size 432x288 with 1 Axes>"
      ]
     },
     "metadata": {},
     "output_type": "display_data"
    }
   ],
   "source": [
    "print 'total sales pred:',np.sum(pred_submit), ', mean:',np.mean(pred_submit)\n",
    "hist_pred = plt.hist(pred_submit,bins=20,log=True)"
   ]
  },
  {
   "cell_type": "markdown",
   "metadata": {},
   "source": [
    "# Validation with yearly trend"
   ]
  },
  {
   "cell_type": "code",
   "execution_count": 28,
   "metadata": {},
   "outputs": [
    {
     "name": "stdout",
     "output_type": "stream",
     "text": [
      "total sales count from Oct19-2018_3 prediction: 281695.27150044317\n",
      "total sales count from contant 0.5 prediction: 107100.0\n"
     ]
    },
    {
     "data": {
      "image/png": "[encoded data removed]",
      "text/plain": [
       "<Figure size 432x288 with 1 Axes>"
      ]
     },
     "metadata": {},
     "output_type": "display_data"
    },
    {
     "data": {
      "image/png": "[encoded data removed]",
      "text/plain": [
       "<Figure size 1382.4x345.6 with 1 Axes>"
      ]
     },
     "metadata": {},
     "output_type": "display_data"
    },
    {
     "data": {
      "image/png": "[encoded data removed]",
      "text/plain": [
       "<Figure size 1382.4x345.6 with 1 Axes>"
      ]
     },
     "metadata": {},
     "output_type": "display_data"
    }
   ],
   "source": [
    "y_test = pd.DataFrame(pred_submit,columns=['item_cnt_month'])\n",
    "#saveName='constant_0p38'\n",
    "#saveplots=True\n",
    "\n",
    "total_item_cnt_2013 = data['sales_2013'].groupby(['date_block_num','Y_M'])['item_cnt_day'].sum().values\n",
    "total_item_cnt_2014 = data['sales_2014'].groupby(['date_block_num','Y_M'])['item_cnt_day'].sum().values\n",
    "total_item_cnt_2015 = data['sales_2015'].groupby(['date_block_num','Y_M'])['item_cnt_day'].sum().values\n",
    "yearlySales = [total_item_cnt_2013,total_item_cnt_2014,total_item_cnt_2015]\n",
    "\n",
    "kwargs = {'yearlySales':yearlySales,\n",
    "        'y_test':y_test,\n",
    "        'saveName':saveName,\n",
    "        'saveplots':saveplots,\n",
    "        'saveFolder':saveFolder}\n",
    "\n",
    "ut.plotYearly(**kwargs)\n",
    "ut.plotYearly_v2(**kwargs)\n",
    "ut.plotResidual(**kwargs)"
   ]
  },
  {
   "cell_type": "markdown",
   "metadata": {},
   "source": [
    "# Analyse misprediction in validation"
   ]
  },
  {
   "cell_type": "code",
   "execution_count": null,
   "metadata": {},
   "outputs": [],
   "source": []
  },
  {
   "cell_type": "markdown",
   "metadata": {},
   "source": [
    "# Prepare submission file"
   ]
  },
  {
   "cell_type": "code",
   "execution_count": 29,
   "metadata": {},
   "outputs": [
    {
     "name": "stdout",
     "output_type": "stream",
     "text": [
      "These numbers below should match:\n",
      "y_test.iloc[0] = 1.1609094437019594\n",
      "submit[submit[\"ID\"]==22987] =  1.1609094437019594\n"
     ]
    }
   ],
   "source": [
    "test_sorted = data['test'].sort_values(by=groupby_list).reset_index(drop=True)\n",
    "submit = pd.concat([test_sorted,y_test],axis=1)\n",
    "submit = submit.sort_values(by=\"ID\").reset_index(drop=True)\n",
    "\n",
    "# sanity check\n",
    "print 'These numbers below should match:'\n",
    "print 'y_test.iloc[0] =',y_test.iloc[0].values[0] \n",
    "print 'submit[submit[\"ID\"]==22987] = ',submit[submit[\"ID\"]==22987][\"item_cnt_month\"].values[0]\n",
    "\n",
    "submit = submit[[\"item_cnt_month\"]]\n",
    "submit.index.name=\"ID\"\n",
    "submit.head()\n",
    "\n",
    "submitName=''\n",
    "if submitName=='': \n",
    "    submitName=saveName\n",
    "if(createSubmit):submit.to_csv('submit_'+submitName+'.csv')"
   ]
  },
  {
   "cell_type": "code",
   "execution_count": null,
   "metadata": {},
   "outputs": [],
   "source": []
  }
 ],
 "metadata": {
  "kernelspec": {
   "display_name": "Python [default]",
   "language": "python",
   "name": "python2"
  },
  "language_info": {
   "codemirror_mode": {
    "name": "ipython",
    "version": 2
   },
   "file_extension": ".py",
   "mimetype": "text/x-python",
   "name": "python",
   "nbconvert_exporter": "python",
   "pygments_lexer": "ipython2",
   "version": "2.7.15"
  }
 },
 "nbformat": 4,
 "nbformat_minor": 2
}
