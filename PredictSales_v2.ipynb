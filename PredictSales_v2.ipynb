{
 "cells": [
  {
   "cell_type": "markdown",
   "metadata": {},
   "source": [
    "# Final project: predict future sales"
   ]
  },
  {
   "cell_type": "markdown",
   "metadata": {},
   "source": [
    "This challenge serves as final project for the \"How to win a data science competition\" Coursera course.\n",
    "In this competition you will work with a challenging time-series dataset consisting of daily sales data, kindly provided by one of the largest Russian software firms - 1C Company. \n",
    "\n",
    "We are asking you to __predict total sales for every product and store in the next *month*__. By solving this competition you will be able to apply and enhance your data science skills."
   ]
  },
  {
   "cell_type": "markdown",
   "metadata": {},
   "source": [
    "https://www.kaggle.com/c/competitive-data-science-final-project"
   ]
  },
  {
   "cell_type": "code",
   "execution_count": 1,
   "metadata": {},
   "outputs": [],
   "source": [
    "import numpy as np\n",
    "import pandas as pd\n",
    "import seaborn as sns\n",
    "import matplotlib.pyplot as plt\n",
    "%matplotlib inline \n",
    "\n",
    "path = '/Users/rizki/Dropbox/Coursera/AML_HowToKaggle/FinalProject/PredictSales/all/'\n",
    "\n",
    "items = pd.read_csv(path+'items.csv')\n",
    "item_categories = pd.read_csv(path+'item_categories.csv')\n",
    "shops = pd.read_csv(path+'shops.csv')\n",
    "sales_train = pd.read_csv(path+'sales_train.csv')\n",
    "test = pd.read_csv(path+'test.csv')\n",
    "\n",
    "# Format 'date' to datetime\n",
    "sales_train['date'] = pd.to_datetime(sales_train['date'],format='%d.%m.%Y')\n",
    "\n",
    "# Add item_category_id to sales_train\n",
    "sales_train = pd.merge(sales_train,items[['item_id','item_category_id']],on='item_id',how='left').sort_values(by='item_id')\n",
    "\n",
    "#add new columns: years, month, Y_M\n",
    "sales_train['year'] = sales_train['date'].dt.year.astype('string')\n",
    "sales_train['month'] = sales_train['date'].dt.month.astype('string')\n",
    "sales_train_year = sales_train['date'].dt.year.astype('string')\n",
    "sales_train_month = sales_train['date'].dt.month.astype('string')\n",
    "sales_train['Y_M'] = sales_train_year+'_'+sales_train_month\n",
    "\n",
    "#split by year\n",
    "sales_train_2013 = sales_train[sales_train['year']=='2013']\n",
    "sales_train_2014 = sales_train[sales_train['year']=='2014']\n",
    "sales_train_2015 = sales_train[sales_train['year']=='2015']\n"
   ]
  },
  {
   "cell_type": "code",
   "execution_count": null,
   "metadata": {},
   "outputs": [],
   "source": []
  }
 ],
 "metadata": {
  "kernelspec": {
   "display_name": "Python 2",
   "language": "python",
   "name": "python2"
  },
  "language_info": {
   "codemirror_mode": {
    "name": "ipython",
    "version": 2
   },
   "file_extension": ".py",
   "mimetype": "text/x-python",
   "name": "python",
   "nbconvert_exporter": "python",
   "pygments_lexer": "ipython2",
   "version": "2.7.15"
  }
 },
 "nbformat": 4,
 "nbformat_minor": 2
}
