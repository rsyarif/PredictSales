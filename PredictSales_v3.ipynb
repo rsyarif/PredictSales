{
 "cells": [
  {
   "cell_type": "markdown",
   "metadata": {},
   "source": [
    "https://www.kaggle.com/c/competitive-data-science-final-project"
   ]
  },
  {
   "cell_type": "code",
   "execution_count": 1,
   "metadata": {},
   "outputs": [],
   "source": [
    "%reload_ext autoreload\n",
    "%autoreload 2"
   ]
  },
  {
   "cell_type": "code",
   "execution_count": 2,
   "metadata": {},
   "outputs": [],
   "source": [
    "import numpy as np\n",
    "import pandas as pd\n",
    "import seaborn as sns\n",
    "import matplotlib.pyplot as plt\n",
    "%matplotlib inline "
   ]
  },
  {
   "cell_type": "code",
   "execution_count": null,
   "metadata": {},
   "outputs": [],
   "source": [
    "saveplots=False\n",
    "saveName='Oct8-2018_3'"
   ]
  },
  {
   "cell_type": "code",
   "execution_count": 4,
   "metadata": {},
   "outputs": [],
   "source": [
    "path = '/Users/rizki/Dropbox/Coursera/AML_HowToKaggle/FinalProject/PredictSales/all/'\n",
    "\n",
    "items = pd.read_csv(path+'items.csv')\n",
    "item_categories = pd.read_csv(path+'item_categories.csv')\n",
    "shops = pd.read_csv(path+'shops.csv')\n",
    "sales_train = pd.read_csv(path+'sales_train.csv')\n",
    "test = pd.read_csv(path+'test.csv')\n",
    "\n",
    "# Format 'date' to datetime\n",
    "sales_train['date'] = pd.to_datetime(sales_train['date'],format='%d.%m.%Y')\n",
    "\n",
    "# Add item_category_id to sales_train\n",
    "sales_train = pd.merge(sales_train,items[['item_id','item_category_id']],on='item_id',how='left').sort_values(by='item_id')\n",
    "\n",
    "#add new columns: years, month, Y_M\n",
    "sales_train['year'] = sales_train['date'].dt.year\n",
    "sales_train['month'] = sales_train['date'].dt.month\n",
    "sales_train_year = sales_train['date'].dt.year.astype('string')\n",
    "sales_train_month = sales_train['date'].dt.month.astype('string')\n",
    "sales_train['Y_M'] = sales_train_year+'_'+sales_train_month\n",
    "\n",
    "#split by year\n",
    "sales_train_2013 = sales_train[sales_train['year']==2013]\n",
    "sales_val_2014 = sales_train[sales_train['year']==2014]\n",
    "sales_test_2015 = sales_train[sales_train['year']==2015]"
   ]
  },
  {
   "cell_type": "code",
   "execution_count": 5,
   "metadata": {},
   "outputs": [],
   "source": [
    "#columns to keep\n",
    "#col_to_keep = ['shop_id','item_id','item_price','item_category_id','item_cnt_day']\n",
    "col_to_keep = ['shop_id','item_id','item_category_id','item_cnt_day']\n",
    "\n",
    "groupby_list = ['shop_id','item_id']\n",
    "\n",
    "#agg_dict = {'item_price':'mean','item_category_id':'mean','item_cnt_day':'sum'}\n",
    "agg_dict = {'item_category_id':'mean','item_cnt_day':'sum'}\n",
    "agg_targ = {'item_cnt_day':'sum'}"
   ]
  },
  {
   "cell_type": "markdown",
   "metadata": {},
   "source": [
    "# training set : nov 2013 with lag features (1 month back)"
   ]
  },
  {
   "cell_type": "code",
   "execution_count": 6,
   "metadata": {},
   "outputs": [
    {
     "name": "stdout",
     "output_type": "stream",
     "text": [
      "x_train.shape : (51460, 7)\n"
     ]
    },
    {
     "data": {
      "text/html": [
       "<div>\n",
       "<style scoped>\n",
       "    .dataframe tbody tr th:only-of-type {\n",
       "        vertical-align: middle;\n",
       "    }\n",
       "\n",
       "    .dataframe tbody tr th {\n",
       "        vertical-align: top;\n",
       "    }\n",
       "\n",
       "    .dataframe thead th {\n",
       "        text-align: right;\n",
       "    }\n",
       "</style>\n",
       "<table border=\"1\" class=\"dataframe\">\n",
       "  <thead>\n",
       "    <tr style=\"text-align: right;\">\n",
       "      <th></th>\n",
       "      <th>shop_id</th>\n",
       "      <th>item_id</th>\n",
       "      <th>item_category_id</th>\n",
       "      <th>shop_item_cnt_month_lag_1</th>\n",
       "      <th>shop_cnt_month_lag_1</th>\n",
       "      <th>item_cnt_month_lag_1</th>\n",
       "      <th>item_cat_cnt_month_lag_1</th>\n",
       "    </tr>\n",
       "  </thead>\n",
       "  <tbody>\n",
       "    <tr>\n",
       "      <th>0</th>\n",
       "      <td>2</td>\n",
       "      <td>33</td>\n",
       "      <td>37</td>\n",
       "      <td>0.0</td>\n",
       "      <td>795.0</td>\n",
       "      <td>33.0</td>\n",
       "      <td>6950.0</td>\n",
       "    </tr>\n",
       "    <tr>\n",
       "      <th>1</th>\n",
       "      <td>2</td>\n",
       "      <td>97</td>\n",
       "      <td>40</td>\n",
       "      <td>0.0</td>\n",
       "      <td>795.0</td>\n",
       "      <td>4.0</td>\n",
       "      <td>24173.0</td>\n",
       "    </tr>\n",
       "    <tr>\n",
       "      <th>2</th>\n",
       "      <td>2</td>\n",
       "      <td>482</td>\n",
       "      <td>73</td>\n",
       "      <td>1.0</td>\n",
       "      <td>795.0</td>\n",
       "      <td>132.0</td>\n",
       "      <td>607.0</td>\n",
       "    </tr>\n",
       "    <tr>\n",
       "      <th>3</th>\n",
       "      <td>2</td>\n",
       "      <td>791</td>\n",
       "      <td>73</td>\n",
       "      <td>2.0</td>\n",
       "      <td>795.0</td>\n",
       "      <td>62.0</td>\n",
       "      <td>607.0</td>\n",
       "    </tr>\n",
       "    <tr>\n",
       "      <th>4</th>\n",
       "      <td>2</td>\n",
       "      <td>944</td>\n",
       "      <td>37</td>\n",
       "      <td>0.0</td>\n",
       "      <td>795.0</td>\n",
       "      <td>40.0</td>\n",
       "      <td>6950.0</td>\n",
       "    </tr>\n",
       "  </tbody>\n",
       "</table>\n",
       "</div>"
      ],
      "text/plain": [
       "   shop_id  item_id  item_category_id  shop_item_cnt_month_lag_1  \\\n",
       "0        2       33                37                        0.0   \n",
       "1        2       97                40                        0.0   \n",
       "2        2      482                73                        1.0   \n",
       "3        2      791                73                        2.0   \n",
       "4        2      944                37                        0.0   \n",
       "\n",
       "   shop_cnt_month_lag_1  item_cnt_month_lag_1  item_cat_cnt_month_lag_1  \n",
       "0                 795.0                  33.0                    6950.0  \n",
       "1                 795.0                   4.0                   24173.0  \n",
       "2                 795.0                 132.0                     607.0  \n",
       "3                 795.0                  62.0                     607.0  \n",
       "4                 795.0                  40.0                    6950.0  "
      ]
     },
     "execution_count": 6,
     "metadata": {},
     "output_type": "execute_result"
    }
   ],
   "source": [
    "x_train = sales_train_2013[sales_train_2013['month']==11]\n",
    "x_train = x_train[col_to_keep]\n",
    "\n",
    "#agg shop_item \n",
    "x_train_shop_item = x_train.groupby(groupby_list,as_index=False).agg(agg_dict).rename(columns={'item_cnt_day':'shop_item_cnt_month'})\n",
    "#agg shop \n",
    "x_train_shop = x_train[['shop_id','item_cnt_day']].groupby(['shop_id'],as_index=False).agg(agg_targ).rename(columns={'item_cnt_day':'shop_cnt_month'})\n",
    "#agg item \n",
    "x_train_item = x_train[['item_id','item_cnt_day']].groupby(['item_id'],as_index=False).agg(agg_targ).rename(columns={'item_cnt_day':'item_cnt_month'})\n",
    "#agg item_cat \n",
    "x_train_itemcat = x_train[['item_category_id','item_cnt_day']].groupby(['item_category_id'],as_index=False).agg(agg_targ).rename(columns={'item_cnt_day':'item_cat_cnt_month'})\n",
    "\n",
    "#merge\n",
    "# x_train_shop_item = pd.merge(x_train_shop_item,x_train_shop,on=['shop_id'],how='left')\n",
    "# x_train_shop_item = pd.merge(x_train_shop_item,x_train_item,on=['item_id'],how='left')\n",
    "# x_train_shop_item = pd.merge(x_train_shop_item,x_train_itemcat,on=['item_category_id'],how='left')\n",
    "\n",
    "#introduce lag features\n",
    "x_train_lag_1 = sales_train_2013[sales_train_2013['month']==10]\n",
    "x_train_lag_1 = x_train_lag_1[col_to_keep]\n",
    "\n",
    "#agg shop_item \n",
    "x_train_shop_item_lag_1 = x_train_lag_1.groupby(groupby_list,as_index=False).agg(agg_dict).rename(columns={'item_cnt_day':'shop_item_cnt_month_lag_1'})\n",
    "x_train_shop_item_lag_1.drop(columns=['item_category_id'],inplace=True)\n",
    "#agg shop \n",
    "x_train_shop_lag_1 = x_train_lag_1[['shop_id','item_cnt_day']].groupby(['shop_id'],as_index=False).agg(agg_targ).rename(columns={'item_cnt_day':'shop_cnt_month_lag_1'})\n",
    "#agg item \n",
    "x_train_item_lag_1 = x_train_lag_1[['item_id','item_cnt_day']].groupby(['item_id'],as_index=False).agg(agg_targ).rename(columns={'item_cnt_day':'item_cnt_month_lag_1'})\n",
    "#agg item_cat \n",
    "x_train_itemcat_lag_1 = x_train_lag_1[['item_category_id','item_cnt_day']].groupby(['item_category_id'],as_index=False).agg(agg_targ).rename(columns={'item_cnt_day':'item_cat_cnt_month_lag_1'})\n",
    "\n",
    "#merge\n",
    "x_train_shop_item = pd.merge(x_train_shop_item,x_train_shop_item_lag_1,on=['shop_id','item_id'],how='left')\n",
    "x_train_shop_item = pd.merge(x_train_shop_item,x_train_shop_lag_1,on=['shop_id'],how='left')\n",
    "x_train_shop_item = pd.merge(x_train_shop_item,x_train_item_lag_1,on=['item_id'],how='left')\n",
    "x_train_shop_item = pd.merge(x_train_shop_item,x_train_itemcat_lag_1,on=['item_category_id'],how='left')\n",
    "\n",
    "y_train = x_train_shop_item['shop_item_cnt_month']\n",
    "x_train = x_train_shop_item.drop(columns=['shop_item_cnt_month'])\n",
    "\n",
    "x_train = x_train.fillna(0)\n",
    "print 'x_train.shape :',x_train.shape\n",
    "x_train.head()"
   ]
  },
  {
   "cell_type": "markdown",
   "metadata": {},
   "source": [
    "# validation set: nov 2014 with lag features (1 month back)"
   ]
  },
  {
   "cell_type": "code",
   "execution_count": 7,
   "metadata": {},
   "outputs": [
    {
     "name": "stdout",
     "output_type": "stream",
     "text": [
      "x_val.shape : (45755, 7)\n"
     ]
    },
    {
     "data": {
      "text/html": [
       "<div>\n",
       "<style scoped>\n",
       "    .dataframe tbody tr th:only-of-type {\n",
       "        vertical-align: middle;\n",
       "    }\n",
       "\n",
       "    .dataframe tbody tr th {\n",
       "        vertical-align: top;\n",
       "    }\n",
       "\n",
       "    .dataframe thead th {\n",
       "        text-align: right;\n",
       "    }\n",
       "</style>\n",
       "<table border=\"1\" class=\"dataframe\">\n",
       "  <thead>\n",
       "    <tr style=\"text-align: right;\">\n",
       "      <th></th>\n",
       "      <th>shop_id</th>\n",
       "      <th>item_id</th>\n",
       "      <th>item_category_id</th>\n",
       "      <th>shop_item_cnt_month_lag_1</th>\n",
       "      <th>shop_cnt_month_lag_1</th>\n",
       "      <th>item_cnt_month_lag_1</th>\n",
       "      <th>item_cat_cnt_month_lag_1</th>\n",
       "    </tr>\n",
       "  </thead>\n",
       "  <tbody>\n",
       "    <tr>\n",
       "      <th>0</th>\n",
       "      <td>2</td>\n",
       "      <td>486</td>\n",
       "      <td>73</td>\n",
       "      <td>1.0</td>\n",
       "      <td>945.0</td>\n",
       "      <td>183.0</td>\n",
       "      <td>443.0</td>\n",
       "    </tr>\n",
       "    <tr>\n",
       "      <th>1</th>\n",
       "      <td>2</td>\n",
       "      <td>491</td>\n",
       "      <td>73</td>\n",
       "      <td>1.0</td>\n",
       "      <td>945.0</td>\n",
       "      <td>18.0</td>\n",
       "      <td>443.0</td>\n",
       "    </tr>\n",
       "    <tr>\n",
       "      <th>2</th>\n",
       "      <td>2</td>\n",
       "      <td>806</td>\n",
       "      <td>49</td>\n",
       "      <td>1.0</td>\n",
       "      <td>945.0</td>\n",
       "      <td>63.0</td>\n",
       "      <td>903.0</td>\n",
       "    </tr>\n",
       "    <tr>\n",
       "      <th>3</th>\n",
       "      <td>2</td>\n",
       "      <td>949</td>\n",
       "      <td>23</td>\n",
       "      <td>0.0</td>\n",
       "      <td>945.0</td>\n",
       "      <td>35.0</td>\n",
       "      <td>4001.0</td>\n",
       "    </tr>\n",
       "    <tr>\n",
       "      <th>4</th>\n",
       "      <td>2</td>\n",
       "      <td>950</td>\n",
       "      <td>19</td>\n",
       "      <td>0.0</td>\n",
       "      <td>945.0</td>\n",
       "      <td>27.0</td>\n",
       "      <td>5173.0</td>\n",
       "    </tr>\n",
       "  </tbody>\n",
       "</table>\n",
       "</div>"
      ],
      "text/plain": [
       "   shop_id  item_id  item_category_id  shop_item_cnt_month_lag_1  \\\n",
       "0        2      486                73                        1.0   \n",
       "1        2      491                73                        1.0   \n",
       "2        2      806                49                        1.0   \n",
       "3        2      949                23                        0.0   \n",
       "4        2      950                19                        0.0   \n",
       "\n",
       "   shop_cnt_month_lag_1  item_cnt_month_lag_1  item_cat_cnt_month_lag_1  \n",
       "0                 945.0                 183.0                     443.0  \n",
       "1                 945.0                  18.0                     443.0  \n",
       "2                 945.0                  63.0                     903.0  \n",
       "3                 945.0                  35.0                    4001.0  \n",
       "4                 945.0                  27.0                    5173.0  "
      ]
     },
     "execution_count": 7,
     "metadata": {},
     "output_type": "execute_result"
    }
   ],
   "source": [
    "x_val = sales_val_2014[sales_val_2014['month']==11]\n",
    "x_val = x_val[col_to_keep]\n",
    "\n",
    "#agg shop_item \n",
    "x_val_shop_item = x_val.groupby(groupby_list,as_index=False).agg(agg_dict).rename(columns={'item_cnt_day':'shop_item_cnt_month'})\n",
    "#agg shop \n",
    "x_val_shop = x_val[['shop_id','item_cnt_day']].groupby(['shop_id'],as_index=False).agg(agg_targ).rename(columns={'item_cnt_day':'shop_cnt_month'})\n",
    "#agg item \n",
    "x_val_item = x_val[['item_id','item_cnt_day']].groupby(['item_id'],as_index=False).agg(agg_targ).rename(columns={'item_cnt_day':'item_cnt_month'})\n",
    "#agg item_cat \n",
    "x_val_itemcat = x_val[['item_category_id','item_cnt_day']].groupby(['item_category_id'],as_index=False).agg(agg_targ).rename(columns={'item_cnt_day':'item_cat_cnt_month'})\n",
    "\n",
    "#merge\n",
    "# x_val_shop_item = pd.merge(x_val_shop_item,x_val_shop,on=['shop_id'],how='left')\n",
    "# x_val_shop_item = pd.merge(x_val_shop_item,x_val_item,on=['item_id'],how='left')\n",
    "# x_val_shop_item = pd.merge(x_val_shop_item,x_val_itemcat,on=['item_category_id'],how='left')\n",
    "\n",
    "#introduce lag features\n",
    "x_val_lag_1 = sales_val_2014[sales_val_2014['month']==10]\n",
    "x_val_lag_1 = x_val_lag_1[col_to_keep]\n",
    "\n",
    "#agg shop_item \n",
    "x_val_shop_item_lag_1 = x_val_lag_1.groupby(groupby_list,as_index=False).agg(agg_dict).rename(columns={'item_cnt_day':'shop_item_cnt_month_lag_1'})\n",
    "x_val_shop_item_lag_1.drop(columns=['item_category_id'],inplace=True)\n",
    "#agg shop \n",
    "x_val_shop_lag_1 = x_val_lag_1[['shop_id','item_cnt_day']].groupby(['shop_id'],as_index=False).agg(agg_targ).rename(columns={'item_cnt_day':'shop_cnt_month_lag_1'})\n",
    "#agg item \n",
    "x_val_item_lag_1 = x_val_lag_1[['item_id','item_cnt_day']].groupby(['item_id'],as_index=False).agg(agg_targ).rename(columns={'item_cnt_day':'item_cnt_month_lag_1'})\n",
    "#agg item_cat \n",
    "x_val_itemcat_lag_1 = x_val_lag_1[['item_category_id','item_cnt_day']].groupby(['item_category_id'],as_index=False).agg(agg_targ).rename(columns={'item_cnt_day':'item_cat_cnt_month_lag_1'})\n",
    "\n",
    "#merge\n",
    "x_val_shop_item = pd.merge(x_val_shop_item,x_val_shop_item_lag_1,on=['shop_id','item_id'],how='left')\n",
    "x_val_shop_item = pd.merge(x_val_shop_item,x_val_shop_lag_1,on=['shop_id'],how='left')\n",
    "x_val_shop_item = pd.merge(x_val_shop_item,x_val_item_lag_1,on=['item_id'],how='left')\n",
    "x_val_shop_item = pd.merge(x_val_shop_item,x_val_itemcat_lag_1,on=['item_category_id'],how='left')\n",
    "\n",
    "y_val = x_val_shop_item['shop_item_cnt_month']\n",
    "x_val = x_val_shop_item.drop(columns=['shop_item_cnt_month'])\n",
    "\n",
    "x_val = x_val.fillna(0)\n",
    "print 'x_val.shape :',x_val.shape\n",
    "x_val.head()"
   ]
  },
  {
   "cell_type": "code",
   "execution_count": 8,
   "metadata": {},
   "outputs": [
    {
     "data": {
      "text/plain": [
       "0    2.0\n",
       "1    1.0\n",
       "2    1.0\n",
       "3    1.0\n",
       "4    1.0\n",
       "Name: shop_item_cnt_month, dtype: float64"
      ]
     },
     "execution_count": 8,
     "metadata": {},
     "output_type": "execute_result"
    }
   ],
   "source": [
    "y_val.head()"
   ]
  },
  {
   "cell_type": "markdown",
   "metadata": {},
   "source": [
    "# contruct test set: nov 2015 with lag features (1 month back)"
   ]
  },
  {
   "cell_type": "code",
   "execution_count": 9,
   "metadata": {},
   "outputs": [
    {
     "name": "stdout",
     "output_type": "stream",
     "text": [
      "x_test_with_lag.shape : (214200, 7)\n"
     ]
    },
    {
     "data": {
      "text/html": [
       "<div>\n",
       "<style scoped>\n",
       "    .dataframe tbody tr th:only-of-type {\n",
       "        vertical-align: middle;\n",
       "    }\n",
       "\n",
       "    .dataframe tbody tr th {\n",
       "        vertical-align: top;\n",
       "    }\n",
       "\n",
       "    .dataframe thead th {\n",
       "        text-align: right;\n",
       "    }\n",
       "</style>\n",
       "<table border=\"1\" class=\"dataframe\">\n",
       "  <thead>\n",
       "    <tr style=\"text-align: right;\">\n",
       "      <th></th>\n",
       "      <th>shop_id</th>\n",
       "      <th>item_id</th>\n",
       "      <th>item_category_id</th>\n",
       "      <th>shop_item_cnt_month_lag_1</th>\n",
       "      <th>shop_cnt_month_lag_1</th>\n",
       "      <th>item_cnt_month_lag_1</th>\n",
       "      <th>itemcat_cnt_month_lag_1</th>\n",
       "    </tr>\n",
       "  </thead>\n",
       "  <tbody>\n",
       "    <tr>\n",
       "      <th>0</th>\n",
       "      <td>2</td>\n",
       "      <td>30</td>\n",
       "      <td>40</td>\n",
       "      <td>0.0</td>\n",
       "      <td>727.0</td>\n",
       "      <td>1.0</td>\n",
       "      <td>7680.0</td>\n",
       "    </tr>\n",
       "    <tr>\n",
       "      <th>1</th>\n",
       "      <td>2</td>\n",
       "      <td>31</td>\n",
       "      <td>37</td>\n",
       "      <td>1.0</td>\n",
       "      <td>727.0</td>\n",
       "      <td>18.0</td>\n",
       "      <td>4061.0</td>\n",
       "    </tr>\n",
       "    <tr>\n",
       "      <th>2</th>\n",
       "      <td>2</td>\n",
       "      <td>32</td>\n",
       "      <td>40</td>\n",
       "      <td>0.0</td>\n",
       "      <td>727.0</td>\n",
       "      <td>22.0</td>\n",
       "      <td>7680.0</td>\n",
       "    </tr>\n",
       "    <tr>\n",
       "      <th>3</th>\n",
       "      <td>2</td>\n",
       "      <td>33</td>\n",
       "      <td>37</td>\n",
       "      <td>0.0</td>\n",
       "      <td>727.0</td>\n",
       "      <td>16.0</td>\n",
       "      <td>4061.0</td>\n",
       "    </tr>\n",
       "    <tr>\n",
       "      <th>4</th>\n",
       "      <td>2</td>\n",
       "      <td>38</td>\n",
       "      <td>41</td>\n",
       "      <td>0.0</td>\n",
       "      <td>727.0</td>\n",
       "      <td>0.0</td>\n",
       "      <td>309.0</td>\n",
       "    </tr>\n",
       "  </tbody>\n",
       "</table>\n",
       "</div>"
      ],
      "text/plain": [
       "   shop_id  item_id  item_category_id  shop_item_cnt_month_lag_1  \\\n",
       "0        2       30                40                        0.0   \n",
       "1        2       31                37                        1.0   \n",
       "2        2       32                40                        0.0   \n",
       "3        2       33                37                        0.0   \n",
       "4        2       38                41                        0.0   \n",
       "\n",
       "   shop_cnt_month_lag_1  item_cnt_month_lag_1  itemcat_cnt_month_lag_1  \n",
       "0                 727.0                   1.0                   7680.0  \n",
       "1                 727.0                  18.0                   4061.0  \n",
       "2                 727.0                  22.0                   7680.0  \n",
       "3                 727.0                  16.0                   4061.0  \n",
       "4                 727.0                   0.0                    309.0  "
      ]
     },
     "execution_count": 9,
     "metadata": {},
     "output_type": "execute_result"
    }
   ],
   "source": [
    "x_test = test.sort_values(by=groupby_list)\n",
    "\n",
    "x_test_lag_1 = sales_test_2015[sales_test_2015['month']==10]\n",
    "x_test_lag_1 = x_test_lag_1[col_to_keep]\n",
    "\n",
    "x_test_shop_item_lag_1 = x_test_lag_1.groupby(groupby_list,as_index=False).agg(agg_dict).rename(columns={'item_cnt_day':'shop_item_cnt_month_lag_1'})\n",
    "x_test_shop_lag_1 = x_test_lag_1[['shop_id','item_cnt_day']].groupby(['shop_id'],as_index=False).agg(agg_targ).rename(columns={'item_cnt_day':'shop_cnt_month_lag_1'})\n",
    "x_test_item_lag_1 = x_test_lag_1[['item_id','item_cnt_day']].groupby(['item_id'],as_index=False).agg(agg_targ).rename(columns={'item_cnt_day':'item_cnt_month_lag_1'})\n",
    "x_test_itemcat_lag_1 = x_test_lag_1[['item_category_id','item_cnt_day']].groupby(['item_category_id'],as_index=False).agg(agg_targ).rename(columns={'item_cnt_day':'itemcat_cnt_month_lag_1'})\n",
    "\n",
    "#add item_category_id.\n",
    "x_test_with_lag = pd.merge(x_test[groupby_list],items[['item_id','item_category_id']],on='item_id',how='left')\n",
    "x_test_with_lag.head()\n",
    "\n",
    "#add last months item_cnt\n",
    "x_test_with_lag = pd.merge(x_test_with_lag,x_test_shop_item_lag_1[['shop_id','item_id','shop_item_cnt_month_lag_1']],on=(groupby_list),how='left')\n",
    "x_test_with_lag = pd.merge(x_test_with_lag,x_test_shop_lag_1[['shop_id','shop_cnt_month_lag_1']],on=(['shop_id']),how='left')\n",
    "x_test_with_lag = pd.merge(x_test_with_lag,x_test_item_lag_1[['item_id','item_cnt_month_lag_1']],on=(['item_id']),how='left')\n",
    "x_test_with_lag = pd.merge(x_test_with_lag,x_test_itemcat_lag_1[['item_category_id','itemcat_cnt_month_lag_1']],on=(['item_category_id']),how='left')\n",
    "\n",
    "x_test = x_test_with_lag.fillna(0)\n",
    "\n",
    "print 'x_test_with_lag.shape :',x_test_with_lag.shape\n",
    "x_test.head()"
   ]
  },
  {
   "cell_type": "markdown",
   "metadata": {},
   "source": [
    "# Model training"
   ]
  },
  {
   "cell_type": "markdown",
   "metadata": {},
   "source": [
    "### Boosted Decision Tree (lightgbm)"
   ]
  },
  {
   "cell_type": "code",
   "execution_count": 10,
   "metadata": {},
   "outputs": [],
   "source": [
    "import lightgbm as lgb\n",
    "from sklearn.metrics import r2_score\n",
    "\n",
    "evals_result={}"
   ]
  },
  {
   "cell_type": "code",
   "execution_count": 11,
   "metadata": {},
   "outputs": [
    {
     "name": "stdout",
     "output_type": "stream",
     "text": [
      "Training until validation scores don't improve for 100 rounds.\n",
      "[100]\ttrain's rmse: 8.0908\teval's rmse: 9.53507\n",
      "[200]\ttrain's rmse: 7.56542\teval's rmse: 9.32389\n",
      "[300]\ttrain's rmse: 7.2798\teval's rmse: 9.25737\n",
      "[400]\ttrain's rmse: 7.07814\teval's rmse: 9.20703\n",
      "[500]\ttrain's rmse: 6.93853\teval's rmse: 9.17732\n",
      "[600]\ttrain's rmse: 6.81697\teval's rmse: 9.13438\n",
      "[700]\ttrain's rmse: 6.69873\teval's rmse: 9.10138\n",
      "[800]\ttrain's rmse: 6.58813\teval's rmse: 9.06324\n",
      "[900]\ttrain's rmse: 6.49999\teval's rmse: 9.03055\n",
      "[1000]\ttrain's rmse: 6.39207\teval's rmse: 8.99987\n",
      "Did not meet early stopping. Best iteration is:\n",
      "[1000]\ttrain's rmse: 6.39207\teval's rmse: 8.99987\n"
     ]
    }
   ],
   "source": [
    "lgb_train = lgb.Dataset(x_train, label=y_train)\n",
    "lgb_test = lgb.Dataset(x_val, label=y_val)\n",
    "\n",
    "lgb_params = {\n",
    "               'feature_fraction': 1.0,\n",
    "               'metric': 'rmse',\n",
    "               'nthread':4, \n",
    "               'min_data_in_leaf': 2**7, \n",
    "               'bagging_fraction': 0.75,#0.75 \n",
    "               'learning_rate': 0.03, \n",
    "               'objective': 'mse', \n",
    "               'bagging_seed': 2**7, \n",
    "               'num_leaves': 2**7,\n",
    "               'bagging_freq':1,\n",
    "               'verbose':1\n",
    "              }\n",
    "\n",
    "model = lgb.train(lgb_params, \n",
    "                  lgb_train,\n",
    "                  valid_sets=[lgb_train, lgb_test],\n",
    "                  valid_names=['train','eval'],\n",
    "                  num_boost_round=1000,\n",
    "                  evals_result=evals_result,\n",
    "                  early_stopping_rounds=100,\n",
    "                  verbose_eval=100)\n",
    "\n",
    "#print 'evals_result = ',evals_result"
   ]
  },
  {
   "cell_type": "code",
   "execution_count": 12,
   "metadata": {},
   "outputs": [
    {
     "name": "stdout",
     "output_type": "stream",
     "text": [
      "Plot metrics recorded during training...\n"
     ]
    },
    {
     "data": {
      "image/png": "[encoded data removed]",
      "text/plain": [
       "<Figure size 432x288 with 1 Axes>"
      ]
     },
     "metadata": {},
     "output_type": "display_data"
    },
    {
     "name": "stdout",
     "output_type": "stream",
     "text": [
      "Plot feature importances...\n"
     ]
    },
    {
     "data": {
      "image/png": "[encoded data removed]",
      "text/plain": [
       "<Figure size 432x288 with 1 Axes>"
      ]
     },
     "metadata": {},
     "output_type": "display_data"
    }
   ],
   "source": [
    "print('Plot metrics recorded during training...')\n",
    "ax = lgb.plot_metric(evals_result, metric='rmse')\n",
    "if(saveplots):plt.savefig(\"lgb_plot_metric_\"+saveName+\".pdf\")\n",
    "plt.show()\n",
    "\n",
    "print('Plot feature importances...')\n",
    "ax = lgb.plot_importance(model, max_num_features=10)\n",
    "if(saveplots):plt.savefig(\"lgb_plot_importance_\"+saveName+\".pdf\")\n",
    "plt.show()"
   ]
  },
  {
   "cell_type": "code",
   "execution_count": 13,
   "metadata": {},
   "outputs": [
    {
     "name": "stdout",
     "output_type": "stream",
     "text": [
      "Training R-squared for LightGBM is 0.587245\n"
     ]
    }
   ],
   "source": [
    "pred_lgb = model.predict(x_train)\n",
    "print('Training R-squared for LightGBM is %f' % r2_score(y_train, pred_lgb))"
   ]
  },
  {
   "cell_type": "code",
   "execution_count": 14,
   "metadata": {},
   "outputs": [
    {
     "name": "stdout",
     "output_type": "stream",
     "text": [
      "Validation R-squared for LightGBM is 0.326106\n"
     ]
    }
   ],
   "source": [
    "pred_lgb = model.predict(x_val)\n",
    "print('Validation R-squared for LightGBM is %f' % r2_score(y_val, pred_lgb))"
   ]
  },
  {
   "cell_type": "markdown",
   "metadata": {},
   "source": [
    "# Predict with test data"
   ]
  },
  {
   "cell_type": "code",
   "execution_count": 15,
   "metadata": {},
   "outputs": [
    {
     "data": {
      "text/plain": [
       "214200"
      ]
     },
     "execution_count": 15,
     "metadata": {},
     "output_type": "execute_result"
    }
   ],
   "source": [
    "pred_submit = model.predict(x_test)\n",
    "pred_submit.size"
   ]
  },
  {
   "cell_type": "markdown",
   "metadata": {},
   "source": [
    "# Validation with yearly trend"
   ]
  },
  {
   "cell_type": "code",
   "execution_count": 42,
   "metadata": {},
   "outputs": [
    {
     "name": "stdout",
     "output_type": "stream",
     "text": [
      "total sales count from constant_0p38 prediction: 81396.00000000001\n",
      "total sales count from contant 0.5 prediction: 107100.0\n"
     ]
    },
    {
     "data": {
      "image/png": "[encoded data removed]",
      "text/plain": [
       "<Figure size 432x288 with 1 Axes>"
      ]
     },
     "metadata": {},
     "output_type": "display_data"
    }
   ],
   "source": [
    "#import sys\n",
    "#WorkDir = '/Users/rizki/Dropbox/Coursera/AML_HowToKaggle/FinalProject/PredictSales/'\n",
    "#sys.path.insert(0, WorkDir)\n",
    "from utility.utility import plotYearly\n",
    "\n",
    "y_test = pd.DataFrame(pred_submit,columns=['item_cnt_month'])\n",
    "y_test['item_cnt_month'] = 0.38\n",
    "saveName='constant_0p38'\n",
    "saveplots=True\n",
    "\n",
    "total_item_cnt_2013 = sales_train_2013.groupby(['date_block_num','Y_M'])['item_cnt_day'].sum().values\n",
    "total_item_cnt_2014 = sales_val_2014.groupby(['date_block_num','Y_M'])['item_cnt_day'].sum().values\n",
    "total_item_cnt_2015 = sales_test_2015.groupby(['date_block_num','Y_M'])['item_cnt_day'].sum().values\n",
    "yearlySales = [total_item_cnt_2013,total_item_cnt_2014,total_item_cnt_2015]\n",
    "\n",
    "plotYearly(yearlySales,y_test,saveName,saveplots)"
   ]
  },
  {
   "cell_type": "markdown",
   "metadata": {},
   "source": [
    "# Prepare submission file"
   ]
  },
  {
   "cell_type": "code",
   "execution_count": 45,
   "metadata": {},
   "outputs": [
    {
     "name": "stdout",
     "output_type": "stream",
     "text": [
      "These numbers below should match:\n",
      "y_test.iloc[0] = 0.38\n",
      "submit[submit[\"ID\"]==22987] =  0.38\n"
     ]
    }
   ],
   "source": [
    "test_sorted = test.sort_values(by=groupby_list).reset_index(drop=True)\n",
    "submit = pd.concat([test_sorted,y_test],axis=1)\n",
    "submit = submit.sort_values(by=\"ID\").reset_index(drop=True)\n",
    "\n",
    "# sanity check\n",
    "print 'These numbers below should match:'\n",
    "print 'y_test.iloc[0] =',y_test.iloc[0].values[0] \n",
    "print 'submit[submit[\"ID\"]==22987] = ',submit[submit[\"ID\"]==22987][\"item_cnt_month\"].values[0]\n",
    "\n",
    "submit = submit[[\"item_cnt_month\"]]\n",
    "submit.index.name=\"ID\"\n",
    "submit.head()\n",
    "\n",
    "submitName='Oct8-2018_3'\n",
    "if submitName=='': \n",
    "    submitName=saveName\n",
    "submit.to_csv('submit_'+submitName+'.csv')"
   ]
  },
  {
   "cell_type": "code",
   "execution_count": null,
   "metadata": {},
   "outputs": [],
   "source": []
  }
 ],
 "metadata": {
  "kernelspec": {
   "display_name": "Python [default]",
   "language": "python",
   "name": "python2"
  },
  "language_info": {
   "codemirror_mode": {
    "name": "ipython",
    "version": 2
   },
   "file_extension": ".py",
   "mimetype": "text/x-python",
   "name": "python",
   "nbconvert_exporter": "python",
   "pygments_lexer": "ipython2",
   "version": "2.7.15"
  }
 },
 "nbformat": 4,
 "nbformat_minor": 2
}
