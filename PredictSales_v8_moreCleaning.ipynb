{
 "cells": [
  {
   "cell_type": "markdown",
   "metadata": {},
   "source": [
    "https://www.kaggle.com/c/competitive-data-science-final-project"
   ]
  },
  {
   "cell_type": "code",
   "execution_count": 55,
   "metadata": {},
   "outputs": [],
   "source": [
    "%reload_ext autoreload\n",
    "%autoreload 2\n",
    "\n",
    "import numpy as np\n",
    "import pandas as pd\n",
    "import seaborn as sns\n",
    "import matplotlib.pyplot as plt\n",
    "import os\n",
    "%matplotlib inline \n",
    "\n",
    "import utility.utility as ut\n",
    "from preprocessing.createSets import *\n",
    "from preprocessing.Sets import Sets\n",
    "\n",
    "\n",
    "########### switches ################################\n",
    "\n",
    "saveName='Oct11-2018_1'\n",
    "saveFolder = saveName\n",
    "saveplots=False\n",
    "createSubmit = False\n",
    "if not os.path.exists(saveFolder) and (saveplots or createSubmit): \n",
    "    print 'creating folder:',os.getcwd()+'/'+saveFolder\n",
    "    os.mkdir(saveFolder)\n",
    "if(saveplots): print \"SAVING PLOTS!\"\n",
    "if(createSubmit): print \"WILL CREATE SUBMIT FILE!\"\n",
    "\n",
    "\n",
    "############# Options/Args #########################\n",
    "\n",
    "#columns to keep\n",
    "col_to_keep = ['shop_id',\n",
    "               'item_id',\n",
    "               #'item_price',\n",
    "               'item_category_id',\n",
    "               'item_cnt_day',\n",
    "              ]\n",
    "\n",
    "groupby_list = ['shop_id','item_id']\n",
    "\n",
    "agg_dict = {\n",
    "            #'item_price':'mean',\n",
    "            'item_category_id':'mean',\n",
    "            'item_cnt_day':'sum',\n",
    "            }\n",
    "\n",
    "agg_targ = {'item_cnt_day':'sum'}\n",
    "\n",
    "col_targets=['shop_item_cnt_month',\n",
    "             'shop_cnt_month',\n",
    "             'item_cnt_month',\n",
    "             'shop_item_cnt_month_diff(0-1)',\n",
    "             'shop_cnt_month_diff(0-1)',\n",
    "             'item_cnt_month_diff(0-1)']\n",
    "\n",
    "target = 'shop_item_cnt_month'\n",
    "# target = 'shop_item_cnt_month_diff(0-1)'\n",
    "\n",
    "opt = {'lag_length':3,\n",
    "            'diff':True,\n",
    "            'diffRel':False,\n",
    "            'item_cat_count_feat':False,\n",
    "            'target':target,\n",
    "            'col_to_keep':col_to_keep,\n",
    "            'groupby_list':groupby_list,\n",
    "            'agg_dict':agg_dict,\n",
    "            'agg_targ':agg_targ,\n",
    "            'col_targets':col_targets,            \n",
    "            } \n",
    "    \n",
    "clipTarget = True\n",
    "lowerClip = 0\n",
    "upperClip = 20\n",
    "if target=='shop_item_cnt_month_diff(0-1)':\n",
    "    lowerClip = -20\n",
    "    upperClip = 20    \n",
    "\n",
    "########################################################\n"
   ]
  },
  {
   "cell_type": "markdown",
   "metadata": {},
   "source": [
    "# create train/val/test set"
   ]
  },
  {
   "cell_type": "code",
   "execution_count": 56,
   "metadata": {},
   "outputs": [
    {
     "name": "stdout",
     "output_type": "stream",
     "text": [
      "lag_length: 3\n",
      "diff: True\n",
      "diffRel: False\n",
      "item_cat_count_feat : False\n",
      "target: shop_item_cnt_month\n",
      "\n",
      "Checking for duplicates in sales_train\n",
      "\n",
      "Found 6 duplicates in sales_train : [1496765 1671873 1435365 1866340   76962 2198564]\n",
      "Kept first, removed duplicates\n",
      "\n",
      "Checking for duplicates in test\n",
      "Found no duplicates in test\n",
      "\n",
      "Splitting sales_train to sales_train_2013, sales_train_2014, and sales_train_2015.\n",
      "\n",
      "Retrieving latest (preprocessed) data\n"
     ]
    }
   ],
   "source": [
    "Sets = Sets(**opt)\n",
    "dup_ids = Sets.checkDuplicates()\n",
    "Sets.splitDataByYear()\n",
    "data = Sets.getData()"
   ]
  },
  {
   "cell_type": "markdown",
   "metadata": {},
   "source": [
    "# Back to creating Price feature"
   ]
  },
  {
   "cell_type": "code",
   "execution_count": null,
   "metadata": {},
   "outputs": [],
   "source": []
  }
 ],
 "metadata": {
  "kernelspec": {
   "display_name": "Python [default]",
   "language": "python",
   "name": "python2"
  },
  "language_info": {
   "codemirror_mode": {
    "name": "ipython",
    "version": 2
   },
   "file_extension": ".py",
   "mimetype": "text/x-python",
   "name": "python",
   "nbconvert_exporter": "python",
   "pygments_lexer": "ipython2",
   "version": "2.7.15"
  }
 },
 "nbformat": 4,
 "nbformat_minor": 2
}
