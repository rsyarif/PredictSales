{
 "cells": [
  {
   "cell_type": "markdown",
   "metadata": {},
   "source": [
    "https://www.kaggle.com/c/competitive-data-science-final-project"
   ]
  },
  {
   "cell_type": "code",
   "execution_count": 1,
   "metadata": {},
   "outputs": [],
   "source": [
    "%reload_ext autoreload\n",
    "%autoreload 2\n",
    "\n",
    "import numpy as np\n",
    "import pandas as pd\n",
    "import seaborn as sns\n",
    "import matplotlib.pyplot as plt\n",
    "import os\n",
    "%matplotlib inline \n",
    "\n",
    "import utility.utility as ut\n",
    "from preprocessing.createSets import *\n",
    "from preprocessing.Sets import Sets\n",
    "\n",
    "\n",
    "########### switches ################################\n",
    "\n",
    "saveName='Oct14-2018_1'\n",
    "saveFolder = saveName\n",
    "saveplots=False\n",
    "createSubmit = False\n",
    "if not os.path.exists(saveFolder) and (saveplots or createSubmit): \n",
    "    print 'creating folder:',os.getcwd()+'/'+saveFolder\n",
    "    os.mkdir(saveFolder)\n",
    "if(saveplots): print \"SAVING PLOTS!\"\n",
    "if(createSubmit): print \"WILL CREATE SUBMIT FILE!\"\n",
    "\n",
    "\n",
    "############# Options/Args #########################\n",
    "\n",
    "meanEncode=True\n",
    "lag_length = 3\n",
    "diff = False\n",
    "diffRel = False \n",
    "item_cat_count_feat=False\n",
    "\n",
    "#columns to keep\n",
    "col_to_keep = ['shop_id',\n",
    "               'item_id',\n",
    "               #'item_price',\n",
    "               'item_category_id',\n",
    "               'item_cnt_day',\n",
    "              ]\n",
    "\n",
    "groupby_list = ['shop_id','item_id']\n",
    "\n",
    "agg_dict = {\n",
    "            #'item_price':'mean',\n",
    "            'item_category_id':'mean',\n",
    "            'item_cnt_day':'sum',\n",
    "            }\n",
    "\n",
    "agg_targ = {'item_cnt_day':'sum'} #mean_encoding!\n",
    "\n",
    "target = 'shop_item_cnt_month'\n",
    "# target = 'shop_item_cnt_month_diff(0-1)'\n",
    "\n",
    "meanEncodeCol=[\n",
    "             'shop',\n",
    "             'item',\n",
    "             'item_cat',\n",
    "            ]\n",
    "\n",
    "col_targets=['shop_item_cnt_month',\n",
    "             'shop_cnt_month',\n",
    "             'item_cnt_month',\n",
    "            ]\n",
    "if(diff):\n",
    "    col_targets+[\n",
    "                 'shop_item_cnt_month_diff(0-1)',\n",
    "                 'shop_cnt_month_diff(0-1)',\n",
    "                 'item_cnt_month_diff(0-1)',\n",
    "                ]\n",
    "if(diffRel):\n",
    "    col_targets+[\n",
    "                 'shop_item_cnt_month_(0-1)/1',\n",
    "                 'shop_cnt_month_(0-1)/1',\n",
    "                 'item_cnt_month_(0-1)/1',\n",
    "                ]\n",
    "\n",
    "opt = {'lag_length':lag_length,\n",
    "            'diff':diff,\n",
    "            'diffRel':diffRel,\n",
    "            'item_cat_count_feat':item_cat_count_feat,\n",
    "            'target':target,\n",
    "            'col_to_keep':col_to_keep,\n",
    "            'groupby_list':groupby_list,\n",
    "            'agg_dict':agg_dict,\n",
    "            'agg_targ':agg_targ,\n",
    "            'col_targets':col_targets,\n",
    "            'meanEncode':meanEncode,\n",
    "            'meanEncodeCol':meanEncodeCol,\n",
    "            } \n",
    "\n",
    "\n",
    "clipTarget = True\n",
    "lowerClip = 0\n",
    "upperClip = 20\n",
    "if target=='shop_item_cnt_month_diff(0-1)':\n",
    "    lowerClip = -20\n",
    "    upperClip = 20    \n",
    "\n",
    "########################################################\n"
   ]
  },
  {
   "cell_type": "markdown",
   "metadata": {},
   "source": [
    "# create train/val/test set"
   ]
  },
  {
   "cell_type": "code",
   "execution_count": 2,
   "metadata": {},
   "outputs": [
    {
     "name": "stdout",
     "output_type": "stream",
     "text": [
      "\n",
      "sales_train shape: (2935849, 6)\n",
      "lag_length: 3\n",
      "diff: False\n",
      "diffRel: False\n",
      "item_cat_count_feat : False\n",
      "target: shop_item_cnt_month\n",
      "\n",
      "Checking for duplicates in sales_train\n",
      "\n",
      "Found 6 duplicates in sales_train : [  76962 1435367 1496766 1671873 1866340 2198566]\n",
      "Kept first, removed duplicates\n",
      "\n",
      "Checking for duplicates in test\n",
      "Found no duplicates in test\n",
      "\n",
      "Format 'date' to 'datetime' in sales_train\n",
      "\n",
      "Add new column: 'item_category_id' to sales_train\n",
      "\n",
      "Add new column: years, month, Y_M to sales_train\n",
      "\n",
      "Counting based on the defined bins:\n",
      "\n",
      "0-10 : 36050\n",
      "10-100 : 121831\n",
      "100-200 : 501713\n",
      "200-500 : 1013478\n",
      "500-1000 : 596653\n",
      "1000-2500 : 464971\n",
      "2500-5000 : 167315\n",
      "5000-20000 : 27050\n",
      "20000-999999 : 6781\n",
      "999999-: 0\n",
      "\n",
      "Adding new column: price_range to sales_train.\n",
      "\n",
      "Splitting sales_train to sales_train_2013, sales_train_2014, and sales_train_2015.\n",
      "\n",
      "Retrieving latest (preprocessed) data\n",
      "\n",
      "sales_train shape: (2935843, 11)\n"
     ]
    },
    {
     "data": {
      "text/html": [
       "<div>\n",
       "<style scoped>\n",
       "    .dataframe tbody tr th:only-of-type {\n",
       "        vertical-align: middle;\n",
       "    }\n",
       "\n",
       "    .dataframe tbody tr th {\n",
       "        vertical-align: top;\n",
       "    }\n",
       "\n",
       "    .dataframe thead th {\n",
       "        text-align: right;\n",
       "    }\n",
       "</style>\n",
       "<table border=\"1\" class=\"dataframe\">\n",
       "  <thead>\n",
       "    <tr style=\"text-align: right;\">\n",
       "      <th></th>\n",
       "      <th>date</th>\n",
       "      <th>date_block_num</th>\n",
       "      <th>shop_id</th>\n",
       "      <th>item_id</th>\n",
       "      <th>item_price</th>\n",
       "      <th>item_cnt_day</th>\n",
       "      <th>item_category_id</th>\n",
       "      <th>year</th>\n",
       "      <th>month</th>\n",
       "      <th>Y_M</th>\n",
       "      <th>price_range</th>\n",
       "    </tr>\n",
       "  </thead>\n",
       "  <tbody>\n",
       "    <tr>\n",
       "      <th>1972631</th>\n",
       "      <td>2014-09-01</td>\n",
       "      <td>20</td>\n",
       "      <td>54</td>\n",
       "      <td>0</td>\n",
       "      <td>58.0</td>\n",
       "      <td>1.0</td>\n",
       "      <td>40</td>\n",
       "      <td>2014</td>\n",
       "      <td>9</td>\n",
       "      <td>2014_9</td>\n",
       "      <td>(10, 100]</td>\n",
       "    </tr>\n",
       "    <tr>\n",
       "      <th>2069405</th>\n",
       "      <td>2014-10-20</td>\n",
       "      <td>21</td>\n",
       "      <td>55</td>\n",
       "      <td>1</td>\n",
       "      <td>4490.0</td>\n",
       "      <td>1.0</td>\n",
       "      <td>76</td>\n",
       "      <td>2014</td>\n",
       "      <td>10</td>\n",
       "      <td>2014_10</td>\n",
       "      <td>(2500, 5000]</td>\n",
       "    </tr>\n",
       "    <tr>\n",
       "      <th>1552547</th>\n",
       "      <td>2014-04-04</td>\n",
       "      <td>15</td>\n",
       "      <td>55</td>\n",
       "      <td>1</td>\n",
       "      <td>4490.0</td>\n",
       "      <td>1.0</td>\n",
       "      <td>76</td>\n",
       "      <td>2014</td>\n",
       "      <td>4</td>\n",
       "      <td>2014_4</td>\n",
       "      <td>(2500, 5000]</td>\n",
       "    </tr>\n",
       "    <tr>\n",
       "      <th>1815466</th>\n",
       "      <td>2014-07-06</td>\n",
       "      <td>18</td>\n",
       "      <td>55</td>\n",
       "      <td>1</td>\n",
       "      <td>4490.0</td>\n",
       "      <td>1.0</td>\n",
       "      <td>76</td>\n",
       "      <td>2014</td>\n",
       "      <td>7</td>\n",
       "      <td>2014_7</td>\n",
       "      <td>(2500, 5000]</td>\n",
       "    </tr>\n",
       "    <tr>\n",
       "      <th>1906676</th>\n",
       "      <td>2014-08-04</td>\n",
       "      <td>19</td>\n",
       "      <td>55</td>\n",
       "      <td>1</td>\n",
       "      <td>4490.0</td>\n",
       "      <td>1.0</td>\n",
       "      <td>76</td>\n",
       "      <td>2014</td>\n",
       "      <td>8</td>\n",
       "      <td>2014_8</td>\n",
       "      <td>(2500, 5000]</td>\n",
       "    </tr>\n",
       "  </tbody>\n",
       "</table>\n",
       "</div>"
      ],
      "text/plain": [
       "              date  date_block_num  shop_id  item_id  item_price  \\\n",
       "1972631 2014-09-01              20       54        0        58.0   \n",
       "2069405 2014-10-20              21       55        1      4490.0   \n",
       "1552547 2014-04-04              15       55        1      4490.0   \n",
       "1815466 2014-07-06              18       55        1      4490.0   \n",
       "1906676 2014-08-04              19       55        1      4490.0   \n",
       "\n",
       "         item_cnt_day  item_category_id  year  month      Y_M   price_range  \n",
       "1972631           1.0                40  2014      9   2014_9     (10, 100]  \n",
       "2069405           1.0                76  2014     10  2014_10  (2500, 5000]  \n",
       "1552547           1.0                76  2014      4   2014_4  (2500, 5000]  \n",
       "1815466           1.0                76  2014      7   2014_7  (2500, 5000]  \n",
       "1906676           1.0                76  2014      8   2014_8  (2500, 5000]  "
      ]
     },
     "execution_count": 2,
     "metadata": {},
     "output_type": "execute_result"
    }
   ],
   "source": [
    "Sets = Sets(**opt)\n",
    "\n",
    "dup_ids = Sets.checkDuplicates()\n",
    "Sets.convertDatetime()\n",
    "Sets.addItemCategoryId()\n",
    "Sets.addYMcolumn()\n",
    "bin_edges=[0,10,100,200,500,1000,2500,5000,20000,999999]\n",
    "Sets.binPrice(bin_edges)\n",
    "Sets.splitDataByYear()\n",
    "data = Sets.getData()\n",
    "\n",
    "data['sales_train'].head()"
   ]
  },
  {
   "cell_type": "markdown",
   "metadata": {},
   "source": [
    "# Adding price category to train,val, test"
   ]
  },
  {
   "cell_type": "code",
   "execution_count": 3,
   "metadata": {},
   "outputs": [
    {
     "data": {
      "text/html": [
       "<div>\n",
       "<style scoped>\n",
       "    .dataframe tbody tr th:only-of-type {\n",
       "        vertical-align: middle;\n",
       "    }\n",
       "\n",
       "    .dataframe tbody tr th {\n",
       "        vertical-align: top;\n",
       "    }\n",
       "\n",
       "    .dataframe thead th {\n",
       "        text-align: right;\n",
       "    }\n",
       "</style>\n",
       "<table border=\"1\" class=\"dataframe\">\n",
       "  <thead>\n",
       "    <tr style=\"text-align: right;\">\n",
       "      <th></th>\n",
       "      <th>ID</th>\n",
       "      <th>shop_id</th>\n",
       "      <th>item_id</th>\n",
       "    </tr>\n",
       "  </thead>\n",
       "  <tbody>\n",
       "    <tr>\n",
       "      <th>0</th>\n",
       "      <td>0</td>\n",
       "      <td>5</td>\n",
       "      <td>5037</td>\n",
       "    </tr>\n",
       "    <tr>\n",
       "      <th>1</th>\n",
       "      <td>1</td>\n",
       "      <td>5</td>\n",
       "      <td>5320</td>\n",
       "    </tr>\n",
       "    <tr>\n",
       "      <th>2</th>\n",
       "      <td>2</td>\n",
       "      <td>5</td>\n",
       "      <td>5233</td>\n",
       "    </tr>\n",
       "    <tr>\n",
       "      <th>3</th>\n",
       "      <td>3</td>\n",
       "      <td>5</td>\n",
       "      <td>5232</td>\n",
       "    </tr>\n",
       "    <tr>\n",
       "      <th>4</th>\n",
       "      <td>4</td>\n",
       "      <td>5</td>\n",
       "      <td>5268</td>\n",
       "    </tr>\n",
       "  </tbody>\n",
       "</table>\n",
       "</div>"
      ],
      "text/plain": [
       "   ID  shop_id  item_id\n",
       "0   0        5     5037\n",
       "1   1        5     5320\n",
       "2   2        5     5233\n",
       "3   3        5     5232\n",
       "4   4        5     5268"
      ]
     },
     "execution_count": 3,
     "metadata": {},
     "output_type": "execute_result"
    }
   ],
   "source": [
    "data['test'].head()"
   ]
  },
  {
   "cell_type": "code",
   "execution_count": 4,
   "metadata": {},
   "outputs": [
    {
     "name": "stdout",
     "output_type": "stream",
     "text": [
      "(2935843, 11)\n"
     ]
    },
    {
     "data": {
      "text/html": [
       "<div>\n",
       "<style scoped>\n",
       "    .dataframe tbody tr th:only-of-type {\n",
       "        vertical-align: middle;\n",
       "    }\n",
       "\n",
       "    .dataframe tbody tr th {\n",
       "        vertical-align: top;\n",
       "    }\n",
       "\n",
       "    .dataframe thead th {\n",
       "        text-align: right;\n",
       "    }\n",
       "</style>\n",
       "<table border=\"1\" class=\"dataframe\">\n",
       "  <thead>\n",
       "    <tr style=\"text-align: right;\">\n",
       "      <th></th>\n",
       "      <th>date</th>\n",
       "      <th>date_block_num</th>\n",
       "      <th>shop_id</th>\n",
       "      <th>item_id</th>\n",
       "      <th>item_price</th>\n",
       "      <th>item_cnt_day</th>\n",
       "      <th>item_category_id</th>\n",
       "      <th>year</th>\n",
       "      <th>month</th>\n",
       "      <th>Y_M</th>\n",
       "      <th>price_range</th>\n",
       "    </tr>\n",
       "  </thead>\n",
       "  <tbody>\n",
       "    <tr>\n",
       "      <th>1972631</th>\n",
       "      <td>2014-09-01</td>\n",
       "      <td>20</td>\n",
       "      <td>54</td>\n",
       "      <td>0</td>\n",
       "      <td>58.0</td>\n",
       "      <td>1.0</td>\n",
       "      <td>40</td>\n",
       "      <td>2014</td>\n",
       "      <td>9</td>\n",
       "      <td>2014_9</td>\n",
       "      <td>(10, 100]</td>\n",
       "    </tr>\n",
       "    <tr>\n",
       "      <th>2069405</th>\n",
       "      <td>2014-10-20</td>\n",
       "      <td>21</td>\n",
       "      <td>55</td>\n",
       "      <td>1</td>\n",
       "      <td>4490.0</td>\n",
       "      <td>1.0</td>\n",
       "      <td>76</td>\n",
       "      <td>2014</td>\n",
       "      <td>10</td>\n",
       "      <td>2014_10</td>\n",
       "      <td>(2500, 5000]</td>\n",
       "    </tr>\n",
       "    <tr>\n",
       "      <th>1552547</th>\n",
       "      <td>2014-04-04</td>\n",
       "      <td>15</td>\n",
       "      <td>55</td>\n",
       "      <td>1</td>\n",
       "      <td>4490.0</td>\n",
       "      <td>1.0</td>\n",
       "      <td>76</td>\n",
       "      <td>2014</td>\n",
       "      <td>4</td>\n",
       "      <td>2014_4</td>\n",
       "      <td>(2500, 5000]</td>\n",
       "    </tr>\n",
       "    <tr>\n",
       "      <th>1815466</th>\n",
       "      <td>2014-07-06</td>\n",
       "      <td>18</td>\n",
       "      <td>55</td>\n",
       "      <td>1</td>\n",
       "      <td>4490.0</td>\n",
       "      <td>1.0</td>\n",
       "      <td>76</td>\n",
       "      <td>2014</td>\n",
       "      <td>7</td>\n",
       "      <td>2014_7</td>\n",
       "      <td>(2500, 5000]</td>\n",
       "    </tr>\n",
       "    <tr>\n",
       "      <th>1906676</th>\n",
       "      <td>2014-08-04</td>\n",
       "      <td>19</td>\n",
       "      <td>55</td>\n",
       "      <td>1</td>\n",
       "      <td>4490.0</td>\n",
       "      <td>1.0</td>\n",
       "      <td>76</td>\n",
       "      <td>2014</td>\n",
       "      <td>8</td>\n",
       "      <td>2014_8</td>\n",
       "      <td>(2500, 5000]</td>\n",
       "    </tr>\n",
       "  </tbody>\n",
       "</table>\n",
       "</div>"
      ],
      "text/plain": [
       "              date  date_block_num  shop_id  item_id  item_price  \\\n",
       "1972631 2014-09-01              20       54        0        58.0   \n",
       "2069405 2014-10-20              21       55        1      4490.0   \n",
       "1552547 2014-04-04              15       55        1      4490.0   \n",
       "1815466 2014-07-06              18       55        1      4490.0   \n",
       "1906676 2014-08-04              19       55        1      4490.0   \n",
       "\n",
       "         item_cnt_day  item_category_id  year  month      Y_M   price_range  \n",
       "1972631           1.0                40  2014      9   2014_9     (10, 100]  \n",
       "2069405           1.0                76  2014     10  2014_10  (2500, 5000]  \n",
       "1552547           1.0                76  2014      4   2014_4  (2500, 5000]  \n",
       "1815466           1.0                76  2014      7   2014_7  (2500, 5000]  \n",
       "1906676           1.0                76  2014      8   2014_8  (2500, 5000]  "
      ]
     },
     "execution_count": 4,
     "metadata": {},
     "output_type": "execute_result"
    }
   ],
   "source": [
    "train = data['sales_train']\n",
    "print train.shape\n",
    "train.head()"
   ]
  },
  {
   "cell_type": "code",
   "execution_count": 5,
   "metadata": {},
   "outputs": [
    {
     "name": "stdout",
     "output_type": "stream",
     "text": [
      "x_train.shape : (51460, 13)\n",
      "y_train.shape : (51460,)\n",
      "x_val.shape : (45755, 13)\n",
      "y_val.shape : (45755,)\n",
      "x_test.shape : (214200, 13)\n"
     ]
    }
   ],
   "source": [
    "x_train, y_train = Sets.createTrainSet()\n",
    "x_val, y_val = Sets.createValSet()\n",
    "x_test = Sets.createTestSet()"
   ]
  },
  {
   "cell_type": "markdown",
   "metadata": {},
   "source": [
    "Aggregate train by 'item_price' and take __minimum__ of price range category"
   ]
  },
  {
   "cell_type": "code",
   "execution_count": 6,
   "metadata": {},
   "outputs": [],
   "source": [
    "#train['price_range']"
   ]
  },
  {
   "cell_type": "code",
   "execution_count": 7,
   "metadata": {},
   "outputs": [],
   "source": [
    "train_agg = train.groupby(['item_id'], as_index=False).agg({'price_range':'min'})"
   ]
  },
  {
   "cell_type": "code",
   "execution_count": 8,
   "metadata": {},
   "outputs": [],
   "source": [
    "#train_agg['price_range']"
   ]
  },
  {
   "cell_type": "code",
   "execution_count": 9,
   "metadata": {},
   "outputs": [
    {
     "data": {
      "text/html": [
       "<div>\n",
       "<style scoped>\n",
       "    .dataframe tbody tr th:only-of-type {\n",
       "        vertical-align: middle;\n",
       "    }\n",
       "\n",
       "    .dataframe tbody tr th {\n",
       "        vertical-align: top;\n",
       "    }\n",
       "\n",
       "    .dataframe thead th {\n",
       "        text-align: right;\n",
       "    }\n",
       "</style>\n",
       "<table border=\"1\" class=\"dataframe\">\n",
       "  <thead>\n",
       "    <tr style=\"text-align: right;\">\n",
       "      <th></th>\n",
       "      <th>item_id</th>\n",
       "      <th>price_range</th>\n",
       "    </tr>\n",
       "  </thead>\n",
       "  <tbody>\n",
       "    <tr>\n",
       "      <th>2913</th>\n",
       "      <td>2973</td>\n",
       "      <td>NaN</td>\n",
       "    </tr>\n",
       "  </tbody>\n",
       "</table>\n",
       "</div>"
      ],
      "text/plain": [
       "      item_id price_range\n",
       "2913     2973         NaN"
      ]
     },
     "execution_count": 9,
     "metadata": {},
     "output_type": "execute_result"
    }
   ],
   "source": [
    "train_agg[train_agg['price_range'].isna()]"
   ]
  },
  {
   "cell_type": "markdown",
   "metadata": {},
   "source": [
    "We're gonna do a hack. Change format to string, fill missing value, then change to 'category'"
   ]
  },
  {
   "cell_type": "code",
   "execution_count": 10,
   "metadata": {},
   "outputs": [],
   "source": [
    "train_agg['price_range']=train_agg['price_range'].astype('string')\n",
    "#train_agg['price_range']"
   ]
  },
  {
   "cell_type": "code",
   "execution_count": 11,
   "metadata": {},
   "outputs": [
    {
     "data": {
      "text/html": [
       "<div>\n",
       "<style scoped>\n",
       "    .dataframe tbody tr th:only-of-type {\n",
       "        vertical-align: middle;\n",
       "    }\n",
       "\n",
       "    .dataframe tbody tr th {\n",
       "        vertical-align: top;\n",
       "    }\n",
       "\n",
       "    .dataframe thead th {\n",
       "        text-align: right;\n",
       "    }\n",
       "</style>\n",
       "<table border=\"1\" class=\"dataframe\">\n",
       "  <thead>\n",
       "    <tr style=\"text-align: right;\">\n",
       "      <th></th>\n",
       "      <th>item_id</th>\n",
       "      <th>price_range</th>\n",
       "    </tr>\n",
       "  </thead>\n",
       "  <tbody>\n",
       "    <tr>\n",
       "      <th>2913</th>\n",
       "      <td>2973</td>\n",
       "      <td>nan</td>\n",
       "    </tr>\n",
       "  </tbody>\n",
       "</table>\n",
       "</div>"
      ],
      "text/plain": [
       "      item_id price_range\n",
       "2913     2973         nan"
      ]
     },
     "execution_count": 11,
     "metadata": {},
     "output_type": "execute_result"
    }
   ],
   "source": [
    "train_agg[train_agg['price_range']=='nan']"
   ]
  },
  {
   "cell_type": "code",
   "execution_count": 12,
   "metadata": {},
   "outputs": [],
   "source": [
    "#train[train['item_id']==2973].groupby(['shop_id','item_id']).agg({'price_range':'min'})"
   ]
  },
  {
   "cell_type": "code",
   "execution_count": 13,
   "metadata": {},
   "outputs": [
    {
     "data": {
      "text/plain": [
       "[(1000, 2500], NaN]\n",
       "Categories (1, interval[int64]): [(1000, 2500]]"
      ]
     },
     "execution_count": 13,
     "metadata": {},
     "output_type": "execute_result"
    }
   ],
   "source": [
    "train[train['item_id']==2973]['price_range'].unique()"
   ]
  },
  {
   "cell_type": "markdown",
   "metadata": {},
   "source": [
    "It seems all of item 2973 are priced (1000,2500], let go ahead and fix the missing value"
   ]
  },
  {
   "cell_type": "code",
   "execution_count": 14,
   "metadata": {},
   "outputs": [],
   "source": [
    "train_agg.at[2913,'price_range']='(1000,2500]'"
   ]
  },
  {
   "cell_type": "code",
   "execution_count": 15,
   "metadata": {},
   "outputs": [],
   "source": [
    "train_agg['price_range']=train_agg['price_range'].astype('category')\n",
    "#train_agg['price_range']"
   ]
  },
  {
   "cell_type": "code",
   "execution_count": 16,
   "metadata": {},
   "outputs": [
    {
     "data": {
      "text/html": [
       "<div>\n",
       "<style scoped>\n",
       "    .dataframe tbody tr th:only-of-type {\n",
       "        vertical-align: middle;\n",
       "    }\n",
       "\n",
       "    .dataframe tbody tr th {\n",
       "        vertical-align: top;\n",
       "    }\n",
       "\n",
       "    .dataframe thead th {\n",
       "        text-align: right;\n",
       "    }\n",
       "</style>\n",
       "<table border=\"1\" class=\"dataframe\">\n",
       "  <thead>\n",
       "    <tr style=\"text-align: right;\">\n",
       "      <th></th>\n",
       "      <th>item_id</th>\n",
       "      <th>price_range</th>\n",
       "    </tr>\n",
       "  </thead>\n",
       "  <tbody>\n",
       "  </tbody>\n",
       "</table>\n",
       "</div>"
      ],
      "text/plain": [
       "Empty DataFrame\n",
       "Columns: [item_id, price_range]\n",
       "Index: []"
      ]
     },
     "execution_count": 16,
     "metadata": {},
     "output_type": "execute_result"
    }
   ],
   "source": [
    "train_agg[train_agg['price_range'].isna()]"
   ]
  },
  {
   "cell_type": "code",
   "execution_count": 17,
   "metadata": {},
   "outputs": [
    {
     "data": {
      "text/html": [
       "<div>\n",
       "<style scoped>\n",
       "    .dataframe tbody tr th:only-of-type {\n",
       "        vertical-align: middle;\n",
       "    }\n",
       "\n",
       "    .dataframe tbody tr th {\n",
       "        vertical-align: top;\n",
       "    }\n",
       "\n",
       "    .dataframe thead th {\n",
       "        text-align: right;\n",
       "    }\n",
       "</style>\n",
       "<table border=\"1\" class=\"dataframe\">\n",
       "  <thead>\n",
       "    <tr style=\"text-align: right;\">\n",
       "      <th></th>\n",
       "      <th>item_id</th>\n",
       "      <th>price_range</th>\n",
       "    </tr>\n",
       "  </thead>\n",
       "  <tbody>\n",
       "    <tr>\n",
       "      <th>2913</th>\n",
       "      <td>2973</td>\n",
       "      <td>(1000,2500]</td>\n",
       "    </tr>\n",
       "  </tbody>\n",
       "</table>\n",
       "</div>"
      ],
      "text/plain": [
       "      item_id  price_range\n",
       "2913     2973  (1000,2500]"
      ]
     },
     "execution_count": 17,
     "metadata": {},
     "output_type": "execute_result"
    }
   ],
   "source": [
    "train_agg[train_agg.index==2913]"
   ]
  },
  {
   "cell_type": "markdown",
   "metadata": {},
   "source": [
    "ok, we've fixed that missing value for train_agg. Now merge with x_train"
   ]
  },
  {
   "cell_type": "code",
   "execution_count": 18,
   "metadata": {},
   "outputs": [
    {
     "name": "stdout",
     "output_type": "stream",
     "text": [
      "(51460, 13) (21807, 2)\n"
     ]
    }
   ],
   "source": [
    "print x_train.shape, train_agg.shape"
   ]
  },
  {
   "cell_type": "code",
   "execution_count": 19,
   "metadata": {},
   "outputs": [
    {
     "name": "stdout",
     "output_type": "stream",
     "text": [
      "(51460, 14)\n"
     ]
    }
   ],
   "source": [
    "x_train = pd.merge(x_train,train_agg[['item_id','price_range']],on='item_id',how='left')\n",
    "print x_train.shape"
   ]
  },
  {
   "cell_type": "code",
   "execution_count": 20,
   "metadata": {},
   "outputs": [
    {
     "data": {
      "text/html": [
       "<div>\n",
       "<style scoped>\n",
       "    .dataframe tbody tr th:only-of-type {\n",
       "        vertical-align: middle;\n",
       "    }\n",
       "\n",
       "    .dataframe tbody tr th {\n",
       "        vertical-align: top;\n",
       "    }\n",
       "\n",
       "    .dataframe thead th {\n",
       "        text-align: right;\n",
       "    }\n",
       "</style>\n",
       "<table border=\"1\" class=\"dataframe\">\n",
       "  <thead>\n",
       "    <tr style=\"text-align: right;\">\n",
       "      <th></th>\n",
       "      <th>shop_id</th>\n",
       "      <th>item_id</th>\n",
       "      <th>item_category_id</th>\n",
       "      <th>shop_item_id</th>\n",
       "      <th>shop_item_cnt_month_lag_1</th>\n",
       "      <th>shop_cnt_month_lag_1</th>\n",
       "      <th>item_cnt_month_lag_1</th>\n",
       "      <th>shop_item_cnt_month_lag_2</th>\n",
       "      <th>shop_cnt_month_lag_2</th>\n",
       "      <th>item_cnt_month_lag_2</th>\n",
       "      <th>shop_item_cnt_month_lag_3</th>\n",
       "      <th>shop_cnt_month_lag_3</th>\n",
       "      <th>item_cnt_month_lag_3</th>\n",
       "      <th>price_range</th>\n",
       "    </tr>\n",
       "  </thead>\n",
       "  <tbody>\n",
       "  </tbody>\n",
       "</table>\n",
       "</div>"
      ],
      "text/plain": [
       "Empty DataFrame\n",
       "Columns: [shop_id, item_id, item_category_id, shop_item_id, shop_item_cnt_month_lag_1, shop_cnt_month_lag_1, item_cnt_month_lag_1, shop_item_cnt_month_lag_2, shop_cnt_month_lag_2, item_cnt_month_lag_2, shop_item_cnt_month_lag_3, shop_cnt_month_lag_3, item_cnt_month_lag_3, price_range]\n",
       "Index: []"
      ]
     },
     "execution_count": 20,
     "metadata": {},
     "output_type": "execute_result"
    }
   ],
   "source": [
    "x_train[x_train['price_range'].isna()]"
   ]
  },
  {
   "cell_type": "code",
   "execution_count": 21,
   "metadata": {},
   "outputs": [
    {
     "name": "stdout",
     "output_type": "stream",
     "text": [
      "(45755, 14)\n"
     ]
    }
   ],
   "source": [
    "x_val = pd.merge(x_val,train_agg[['item_id','price_range']],on='item_id',how='left')\n",
    "print x_val.shape"
   ]
  },
  {
   "cell_type": "code",
   "execution_count": 22,
   "metadata": {},
   "outputs": [
    {
     "data": {
      "text/html": [
       "<div>\n",
       "<style scoped>\n",
       "    .dataframe tbody tr th:only-of-type {\n",
       "        vertical-align: middle;\n",
       "    }\n",
       "\n",
       "    .dataframe tbody tr th {\n",
       "        vertical-align: top;\n",
       "    }\n",
       "\n",
       "    .dataframe thead th {\n",
       "        text-align: right;\n",
       "    }\n",
       "</style>\n",
       "<table border=\"1\" class=\"dataframe\">\n",
       "  <thead>\n",
       "    <tr style=\"text-align: right;\">\n",
       "      <th></th>\n",
       "      <th>shop_id</th>\n",
       "      <th>item_id</th>\n",
       "      <th>item_category_id</th>\n",
       "      <th>shop_item_id</th>\n",
       "      <th>shop_item_cnt_month_lag_1</th>\n",
       "      <th>shop_cnt_month_lag_1</th>\n",
       "      <th>item_cnt_month_lag_1</th>\n",
       "      <th>shop_item_cnt_month_lag_2</th>\n",
       "      <th>shop_cnt_month_lag_2</th>\n",
       "      <th>item_cnt_month_lag_2</th>\n",
       "      <th>shop_item_cnt_month_lag_3</th>\n",
       "      <th>shop_cnt_month_lag_3</th>\n",
       "      <th>item_cnt_month_lag_3</th>\n",
       "      <th>price_range</th>\n",
       "    </tr>\n",
       "  </thead>\n",
       "  <tbody>\n",
       "  </tbody>\n",
       "</table>\n",
       "</div>"
      ],
      "text/plain": [
       "Empty DataFrame\n",
       "Columns: [shop_id, item_id, item_category_id, shop_item_id, shop_item_cnt_month_lag_1, shop_cnt_month_lag_1, item_cnt_month_lag_1, shop_item_cnt_month_lag_2, shop_cnt_month_lag_2, item_cnt_month_lag_2, shop_item_cnt_month_lag_3, shop_cnt_month_lag_3, item_cnt_month_lag_3, price_range]\n",
       "Index: []"
      ]
     },
     "execution_count": 22,
     "metadata": {},
     "output_type": "execute_result"
    }
   ],
   "source": [
    "x_val[x_val['price_range'].isna()]"
   ]
  },
  {
   "cell_type": "code",
   "execution_count": 23,
   "metadata": {},
   "outputs": [
    {
     "data": {
      "text/plain": [
       "(214200, 13)"
      ]
     },
     "execution_count": 23,
     "metadata": {},
     "output_type": "execute_result"
    }
   ],
   "source": [
    "x_test.shape"
   ]
  },
  {
   "cell_type": "code",
   "execution_count": 24,
   "metadata": {},
   "outputs": [],
   "source": [
    "x_test = pd.merge(x_test,train_agg[['item_id','price_range']],on='item_id',how='left')"
   ]
  },
  {
   "cell_type": "code",
   "execution_count": 25,
   "metadata": {},
   "outputs": [
    {
     "name": "stdout",
     "output_type": "stream",
     "text": [
      "No of rows with NaN price range in x_test: 0.0711764705882\n"
     ]
    }
   ],
   "source": [
    "print  'No of rows with NaN price range in x_test:',1.0*x_test[x_test['price_range'].isna()].shape[0] / x_test.shape[0] "
   ]
  },
  {
   "cell_type": "markdown",
   "metadata": {},
   "source": [
    "Two choices: 1. Ignore these small unkowns, let the BDT do its best with other known features. 2. Lets predict these new items with the average sales count from the month before, as the best case scenario."
   ]
  },
  {
   "cell_type": "code",
   "execution_count": 26,
   "metadata": {},
   "outputs": [
    {
     "data": {
      "text/html": [
       "<div>\n",
       "<style scoped>\n",
       "    .dataframe tbody tr th:only-of-type {\n",
       "        vertical-align: middle;\n",
       "    }\n",
       "\n",
       "    .dataframe tbody tr th {\n",
       "        vertical-align: top;\n",
       "    }\n",
       "\n",
       "    .dataframe thead th {\n",
       "        text-align: right;\n",
       "    }\n",
       "</style>\n",
       "<table border=\"1\" class=\"dataframe\">\n",
       "  <thead>\n",
       "    <tr style=\"text-align: right;\">\n",
       "      <th></th>\n",
       "      <th>shop_id</th>\n",
       "      <th>item_id</th>\n",
       "      <th>item_category_id</th>\n",
       "      <th>shop_item_id</th>\n",
       "      <th>shop_item_cnt_month_lag_1</th>\n",
       "      <th>shop_cnt_month_lag_1</th>\n",
       "      <th>item_cnt_month_lag_1</th>\n",
       "      <th>shop_item_cnt_month_lag_2</th>\n",
       "      <th>shop_cnt_month_lag_2</th>\n",
       "      <th>item_cnt_month_lag_2</th>\n",
       "      <th>shop_item_cnt_month_lag_3</th>\n",
       "      <th>shop_cnt_month_lag_3</th>\n",
       "      <th>item_cnt_month_lag_3</th>\n",
       "      <th>price_range</th>\n",
       "    </tr>\n",
       "  </thead>\n",
       "  <tbody>\n",
       "    <tr>\n",
       "      <th>0</th>\n",
       "      <td>2</td>\n",
       "      <td>30</td>\n",
       "      <td>40</td>\n",
       "      <td>2_30</td>\n",
       "      <td>0.0</td>\n",
       "      <td>727.0</td>\n",
       "      <td>1.0</td>\n",
       "      <td>0.0</td>\n",
       "      <td>822.0</td>\n",
       "      <td>3.0</td>\n",
       "      <td>0.0</td>\n",
       "      <td>942.0</td>\n",
       "      <td>6.0</td>\n",
       "      <td>(10, 100]</td>\n",
       "    </tr>\n",
       "    <tr>\n",
       "      <th>1</th>\n",
       "      <td>2</td>\n",
       "      <td>31</td>\n",
       "      <td>37</td>\n",
       "      <td>2_31</td>\n",
       "      <td>1.0</td>\n",
       "      <td>727.0</td>\n",
       "      <td>18.0</td>\n",
       "      <td>0.0</td>\n",
       "      <td>822.0</td>\n",
       "      <td>9.0</td>\n",
       "      <td>0.0</td>\n",
       "      <td>942.0</td>\n",
       "      <td>53.0</td>\n",
       "      <td>(100, 200]</td>\n",
       "    </tr>\n",
       "    <tr>\n",
       "      <th>2</th>\n",
       "      <td>2</td>\n",
       "      <td>32</td>\n",
       "      <td>40</td>\n",
       "      <td>2_32</td>\n",
       "      <td>0.0</td>\n",
       "      <td>727.0</td>\n",
       "      <td>22.0</td>\n",
       "      <td>0.0</td>\n",
       "      <td>822.0</td>\n",
       "      <td>19.0</td>\n",
       "      <td>1.0</td>\n",
       "      <td>942.0</td>\n",
       "      <td>30.0</td>\n",
       "      <td>(10, 100]</td>\n",
       "    </tr>\n",
       "    <tr>\n",
       "      <th>3</th>\n",
       "      <td>2</td>\n",
       "      <td>33</td>\n",
       "      <td>37</td>\n",
       "      <td>2_33</td>\n",
       "      <td>0.0</td>\n",
       "      <td>727.0</td>\n",
       "      <td>16.0</td>\n",
       "      <td>1.0</td>\n",
       "      <td>822.0</td>\n",
       "      <td>16.0</td>\n",
       "      <td>0.0</td>\n",
       "      <td>942.0</td>\n",
       "      <td>14.0</td>\n",
       "      <td>(100, 200]</td>\n",
       "    </tr>\n",
       "    <tr>\n",
       "      <th>4</th>\n",
       "      <td>2</td>\n",
       "      <td>38</td>\n",
       "      <td>41</td>\n",
       "      <td>2_38</td>\n",
       "      <td>0.0</td>\n",
       "      <td>727.0</td>\n",
       "      <td>0.0</td>\n",
       "      <td>0.0</td>\n",
       "      <td>822.0</td>\n",
       "      <td>2.0</td>\n",
       "      <td>0.0</td>\n",
       "      <td>942.0</td>\n",
       "      <td>7.0</td>\n",
       "      <td>(1000, 2500]</td>\n",
       "    </tr>\n",
       "  </tbody>\n",
       "</table>\n",
       "</div>"
      ],
      "text/plain": [
       "   shop_id  item_id  item_category_id shop_item_id  shop_item_cnt_month_lag_1  \\\n",
       "0        2       30                40         2_30                        0.0   \n",
       "1        2       31                37         2_31                        1.0   \n",
       "2        2       32                40         2_32                        0.0   \n",
       "3        2       33                37         2_33                        0.0   \n",
       "4        2       38                41         2_38                        0.0   \n",
       "\n",
       "   shop_cnt_month_lag_1  item_cnt_month_lag_1  shop_item_cnt_month_lag_2  \\\n",
       "0                 727.0                   1.0                        0.0   \n",
       "1                 727.0                  18.0                        0.0   \n",
       "2                 727.0                  22.0                        0.0   \n",
       "3                 727.0                  16.0                        1.0   \n",
       "4                 727.0                   0.0                        0.0   \n",
       "\n",
       "   shop_cnt_month_lag_2  item_cnt_month_lag_2  shop_item_cnt_month_lag_3  \\\n",
       "0                 822.0                   3.0                        0.0   \n",
       "1                 822.0                   9.0                        0.0   \n",
       "2                 822.0                  19.0                        1.0   \n",
       "3                 822.0                  16.0                        0.0   \n",
       "4                 822.0                   2.0                        0.0   \n",
       "\n",
       "   shop_cnt_month_lag_3  item_cnt_month_lag_3   price_range  \n",
       "0                 942.0                   6.0     (10, 100]  \n",
       "1                 942.0                  53.0    (100, 200]  \n",
       "2                 942.0                  30.0     (10, 100]  \n",
       "3                 942.0                  14.0    (100, 200]  \n",
       "4                 942.0                   7.0  (1000, 2500]  "
      ]
     },
     "execution_count": 26,
     "metadata": {},
     "output_type": "execute_result"
    }
   ],
   "source": [
    "x_test.head()"
   ]
  },
  {
   "cell_type": "code",
   "execution_count": 27,
   "metadata": {},
   "outputs": [
    {
     "data": {
      "text/html": [
       "<div>\n",
       "<style scoped>\n",
       "    .dataframe tbody tr th:only-of-type {\n",
       "        vertical-align: middle;\n",
       "    }\n",
       "\n",
       "    .dataframe tbody tr th {\n",
       "        vertical-align: top;\n",
       "    }\n",
       "\n",
       "    .dataframe thead th {\n",
       "        text-align: right;\n",
       "    }\n",
       "</style>\n",
       "<table border=\"1\" class=\"dataframe\">\n",
       "  <thead>\n",
       "    <tr style=\"text-align: right;\">\n",
       "      <th></th>\n",
       "      <th>shop_id</th>\n",
       "      <th>item_id</th>\n",
       "      <th>item_category_id</th>\n",
       "      <th>shop_item_id</th>\n",
       "      <th>shop_item_cnt_month_lag_1</th>\n",
       "      <th>shop_cnt_month_lag_1</th>\n",
       "      <th>item_cnt_month_lag_1</th>\n",
       "      <th>shop_item_cnt_month_lag_2</th>\n",
       "      <th>shop_cnt_month_lag_2</th>\n",
       "      <th>item_cnt_month_lag_2</th>\n",
       "      <th>shop_item_cnt_month_lag_3</th>\n",
       "      <th>shop_cnt_month_lag_3</th>\n",
       "      <th>item_cnt_month_lag_3</th>\n",
       "      <th>price_range</th>\n",
       "    </tr>\n",
       "  </thead>\n",
       "  <tbody>\n",
       "    <tr>\n",
       "      <th>0</th>\n",
       "      <td>2</td>\n",
       "      <td>33</td>\n",
       "      <td>37</td>\n",
       "      <td>2_33</td>\n",
       "      <td>0.0</td>\n",
       "      <td>795.0</td>\n",
       "      <td>33.0</td>\n",
       "      <td>0.0</td>\n",
       "      <td>945.0</td>\n",
       "      <td>43.0</td>\n",
       "      <td>0.0</td>\n",
       "      <td>875.0</td>\n",
       "      <td>35.0</td>\n",
       "      <td>(100, 200]</td>\n",
       "    </tr>\n",
       "    <tr>\n",
       "      <th>1</th>\n",
       "      <td>2</td>\n",
       "      <td>97</td>\n",
       "      <td>40</td>\n",
       "      <td>2_97</td>\n",
       "      <td>0.0</td>\n",
       "      <td>795.0</td>\n",
       "      <td>4.0</td>\n",
       "      <td>0.0</td>\n",
       "      <td>945.0</td>\n",
       "      <td>7.0</td>\n",
       "      <td>0.0</td>\n",
       "      <td>875.0</td>\n",
       "      <td>11.0</td>\n",
       "      <td>(10, 100]</td>\n",
       "    </tr>\n",
       "    <tr>\n",
       "      <th>2</th>\n",
       "      <td>2</td>\n",
       "      <td>482</td>\n",
       "      <td>73</td>\n",
       "      <td>2_482</td>\n",
       "      <td>1.0</td>\n",
       "      <td>795.0</td>\n",
       "      <td>132.0</td>\n",
       "      <td>2.0</td>\n",
       "      <td>945.0</td>\n",
       "      <td>92.0</td>\n",
       "      <td>0.0</td>\n",
       "      <td>875.0</td>\n",
       "      <td>64.0</td>\n",
       "      <td>(1000, 2500]</td>\n",
       "    </tr>\n",
       "    <tr>\n",
       "      <th>3</th>\n",
       "      <td>2</td>\n",
       "      <td>791</td>\n",
       "      <td>73</td>\n",
       "      <td>2_791</td>\n",
       "      <td>2.0</td>\n",
       "      <td>795.0</td>\n",
       "      <td>62.0</td>\n",
       "      <td>3.0</td>\n",
       "      <td>945.0</td>\n",
       "      <td>48.0</td>\n",
       "      <td>1.0</td>\n",
       "      <td>875.0</td>\n",
       "      <td>46.0</td>\n",
       "      <td>(200, 500]</td>\n",
       "    </tr>\n",
       "    <tr>\n",
       "      <th>4</th>\n",
       "      <td>2</td>\n",
       "      <td>944</td>\n",
       "      <td>37</td>\n",
       "      <td>2_944</td>\n",
       "      <td>0.0</td>\n",
       "      <td>795.0</td>\n",
       "      <td>40.0</td>\n",
       "      <td>1.0</td>\n",
       "      <td>945.0</td>\n",
       "      <td>36.0</td>\n",
       "      <td>0.0</td>\n",
       "      <td>875.0</td>\n",
       "      <td>36.0</td>\n",
       "      <td>(10, 100]</td>\n",
       "    </tr>\n",
       "  </tbody>\n",
       "</table>\n",
       "</div>"
      ],
      "text/plain": [
       "   shop_id  item_id  item_category_id shop_item_id  shop_item_cnt_month_lag_1  \\\n",
       "0        2       33                37         2_33                        0.0   \n",
       "1        2       97                40         2_97                        0.0   \n",
       "2        2      482                73        2_482                        1.0   \n",
       "3        2      791                73        2_791                        2.0   \n",
       "4        2      944                37        2_944                        0.0   \n",
       "\n",
       "   shop_cnt_month_lag_1  item_cnt_month_lag_1  shop_item_cnt_month_lag_2  \\\n",
       "0                 795.0                  33.0                        0.0   \n",
       "1                 795.0                   4.0                        0.0   \n",
       "2                 795.0                 132.0                        2.0   \n",
       "3                 795.0                  62.0                        3.0   \n",
       "4                 795.0                  40.0                        1.0   \n",
       "\n",
       "   shop_cnt_month_lag_2  item_cnt_month_lag_2  shop_item_cnt_month_lag_3  \\\n",
       "0                 945.0                  43.0                        0.0   \n",
       "1                 945.0                   7.0                        0.0   \n",
       "2                 945.0                  92.0                        0.0   \n",
       "3                 945.0                  48.0                        1.0   \n",
       "4                 945.0                  36.0                        0.0   \n",
       "\n",
       "   shop_cnt_month_lag_3  item_cnt_month_lag_3   price_range  \n",
       "0                 875.0                  35.0    (100, 200]  \n",
       "1                 875.0                  11.0     (10, 100]  \n",
       "2                 875.0                  64.0  (1000, 2500]  \n",
       "3                 875.0                  46.0    (200, 500]  \n",
       "4                 875.0                  36.0     (10, 100]  "
      ]
     },
     "execution_count": 27,
     "metadata": {},
     "output_type": "execute_result"
    }
   ],
   "source": [
    "#combine 2013+2014\n",
    "# x_train  = pd.concat([x_train, x_val], ignore_index=True)\n",
    "# y_train  = pd.concat([y_train, y_val], ignore_index=True)\n",
    "# print x_train.shape\n",
    "x_train.head()"
   ]
  },
  {
   "cell_type": "markdown",
   "metadata": {},
   "source": [
    "# Clip y_train, y_val"
   ]
  },
  {
   "cell_type": "code",
   "execution_count": 28,
   "metadata": {},
   "outputs": [
    {
     "name": "stdout",
     "output_type": "stream",
     "text": [
      "Sum y_train before clip: 130009.0\n",
      "Sum y_val before clip: 117845.0\n",
      "Sum y_train after clip: 110388.0\n",
      "Sum y_val after clip: 98404.0\n"
     ]
    }
   ],
   "source": [
    "nbins=20\n",
    "\n",
    "# hist_y_train = plt.hist(y_train,nbins,log=True)\n",
    "y_train_clip = np.clip(y_train,lowerClip,upperClip)\n",
    "# hist_y_train_clip = plt.hist(y_train_clip,nbins,log=True)\n",
    "# his_y_val = plt.hist(y_val,nbins,log=True)\n",
    "y_val_clip = np.clip(y_val,lowerClip,upperClip)\n",
    "# his_y_val_clip = plt.hist(y_val_clip,nbins,log=True)\n",
    "print 'Sum y_train before clip:',np.sum(y_train)\n",
    "print 'Sum y_val before clip:', np.sum(y_val)\n",
    "if(clipTarget):\n",
    "    y_train=y_train_clip\n",
    "    y_val=y_val_clip\n",
    "print 'Sum y_train after clip:',np.sum(y_train)\n",
    "print 'Sum y_val after clip:', np.sum(y_val)"
   ]
  },
  {
   "cell_type": "code",
   "execution_count": 29,
   "metadata": {},
   "outputs": [],
   "source": [
    "x_train_ = x_train.drop(columns=['shop_item_id'])\n",
    "x_val_ = x_val.drop(columns=['shop_item_id'])\n",
    "x_test_ = x_test.drop(columns=['shop_item_id'])"
   ]
  },
  {
   "cell_type": "code",
   "execution_count": 30,
   "metadata": {},
   "outputs": [
    {
     "name": "stdout",
     "output_type": "stream",
     "text": [
      "(51460, 13)\n",
      "(45755, 13)\n",
      "(214200, 13)\n",
      "train: ['shop_id' 'item_id' 'item_category_id' 'shop_item_cnt_month_lag_1'\n",
      " 'shop_cnt_month_lag_1' 'item_cnt_month_lag_1' 'shop_item_cnt_month_lag_2'\n",
      " 'shop_cnt_month_lag_2' 'item_cnt_month_lag_2' 'shop_item_cnt_month_lag_3'\n",
      " 'shop_cnt_month_lag_3' 'item_cnt_month_lag_3' 'price_range']\n",
      "test: ['shop_id' 'item_id' 'item_category_id' 'shop_item_cnt_month_lag_1'\n",
      " 'shop_cnt_month_lag_1' 'item_cnt_month_lag_1' 'shop_item_cnt_month_lag_2'\n",
      " 'shop_cnt_month_lag_2' 'item_cnt_month_lag_2' 'shop_item_cnt_month_lag_3'\n",
      " 'shop_cnt_month_lag_3' 'item_cnt_month_lag_3' 'price_range']\n",
      "train-test: set([])\n",
      "val-test: set([])\n"
     ]
    }
   ],
   "source": [
    "print x_train_.shape\n",
    "print x_val_.shape\n",
    "print x_test_.shape \n",
    "print 'train:',x_train_.columns.values\n",
    "print 'test:',x_test_.columns.values\n",
    "print 'train-test:',set(x_train_.columns.values)-set(x_test_.columns.values)\n",
    "print 'val-test:',set(x_val_.columns.values)-set(x_test_.columns.values)"
   ]
  },
  {
   "cell_type": "markdown",
   "metadata": {},
   "source": [
    "# Model Training"
   ]
  },
  {
   "cell_type": "code",
   "execution_count": 31,
   "metadata": {},
   "outputs": [
    {
     "name": "stderr",
     "output_type": "stream",
     "text": [
      "/anaconda2/lib/python2.7/site-packages/lightgbm/basic.py:685: UserWarning: categorical_feature in param dict is overridden.\n",
      "  warnings.warn('categorical_feature in param dict is overridden.')\n"
     ]
    },
    {
     "name": "stdout",
     "output_type": "stream",
     "text": [
      "Training until validation scores don't improve for 200 rounds.\n",
      "[50]\ttrain's rmse: 1.97825\teval's rmse: 2.21742\n",
      "[100]\ttrain's rmse: 1.76557\teval's rmse: 2.13646\n",
      "[150]\ttrain's rmse: 1.65614\teval's rmse: 2.13521\n",
      "[200]\ttrain's rmse: 1.58642\teval's rmse: 2.13276\n",
      "[250]\ttrain's rmse: 1.53874\teval's rmse: 2.14001\n",
      "[300]\ttrain's rmse: 1.50065\teval's rmse: 2.14794\n",
      "Early stopping, best iteration is:\n",
      "[127]\ttrain's rmse: 1.70149\teval's rmse: 2.12978\n"
     ]
    }
   ],
   "source": [
    "### Boosted Decision Tree (lightgbm)\n",
    "\n",
    "import lightgbm as lgb\n",
    "from sklearn.metrics import r2_score\n",
    "\n",
    "evals_result={}\n",
    "\n",
    "lgb_train = lgb.Dataset(x_train_, label=y_train)\n",
    "lgb_test = lgb.Dataset(x_val_, label=y_val)\n",
    "\n",
    "lgb_params = {\n",
    "               'feature_fraction': .75,\n",
    "               'metric': 'rmse',\n",
    "               'nthread':4, \n",
    "               'min_data_in_leaf': 2**7, \n",
    "               'bagging_fraction': 0.75,#0.75 \n",
    "               'learning_rate': 0.03, \n",
    "               'objective': 'mse', \n",
    "               'bagging_seed': 2**7, \n",
    "               'num_leaves': 2**7,\n",
    "               'bagging_freq':1,\n",
    "               'verbose':1,\n",
    "              }\n",
    "\n",
    "num_boost_round = 1000\n",
    "verbose_eval = num_boost_round/20\n",
    "model = lgb.train(lgb_params, \n",
    "                  lgb_train,\n",
    "                  valid_sets=[lgb_train, lgb_test],\n",
    "                  valid_names=['train','eval'],\n",
    "                  num_boost_round=num_boost_round,\n",
    "                  evals_result=evals_result,\n",
    "                  early_stopping_rounds=200,\n",
    "                  verbose_eval=verbose_eval)\n",
    "\n",
    "#print 'evals_result = ',evals_result"
   ]
  },
  {
   "cell_type": "code",
   "execution_count": 32,
   "metadata": {},
   "outputs": [
    {
     "name": "stdout",
     "output_type": "stream",
     "text": [
      "Plot metrics recorded during training...\n",
      "Plot feature importances...\n"
     ]
    },
    {
     "data": {
      "image/png": "[encoded data removed]",
      "text/plain": [
       "<Figure size 432x288 with 1 Axes>"
      ]
     },
     "metadata": {},
     "output_type": "display_data"
    },
    {
     "data": {
      "image/png": "[encoded data removed]",
      "text/plain": [
       "<Figure size 921.6x1036.8 with 1 Axes>"
      ]
     },
     "metadata": {},
     "output_type": "display_data"
    }
   ],
   "source": [
    "print('Plot metrics recorded during training...')\n",
    "ax = lgb.plot_metric(evals_result, metric='rmse')\n",
    "if(saveplots):plt.savefig(saveFolder+\"/\"+\"lgb_plot_metric_\"+saveName+\".pdf\")\n",
    "#plt.show()\n",
    "\n",
    "print('Plot feature importances...')\n",
    "ax = lgb.plot_importance(model, max_num_features=x_test.shape[1])\n",
    "ax.figure.set_size_inches(6.4*2,4.8*3)\n",
    "if(saveplots):plt.savefig(saveFolder+\"/\"+\"lgb_plot_importance_\"+saveName+\".pdf\")\n",
    "plt.show()"
   ]
  },
  {
   "cell_type": "code",
   "execution_count": 33,
   "metadata": {},
   "outputs": [
    {
     "name": "stdout",
     "output_type": "stream",
     "text": [
      "Training R-squared for LightGBM is 0.662016\n",
      "Validation R-squared for LightGBM is 0.445984\n"
     ]
    }
   ],
   "source": [
    "pred_lgb = model.predict(x_train_)\n",
    "print('Training R-squared for LightGBM is %f' % r2_score(y_train, pred_lgb))\n",
    "pred_lgb = model.predict(x_val_)\n",
    "print('Validation R-squared for LightGBM is %f' % r2_score(y_val, pred_lgb))"
   ]
  },
  {
   "cell_type": "markdown",
   "metadata": {},
   "source": [
    "# Predict with test data¶"
   ]
  },
  {
   "cell_type": "code",
   "execution_count": 34,
   "metadata": {},
   "outputs": [],
   "source": [
    "pred = model.predict(x_test_)"
   ]
  },
  {
   "cell_type": "code",
   "execution_count": 35,
   "metadata": {},
   "outputs": [
    {
     "name": "stdout",
     "output_type": "stream",
     "text": [
      "214200\n",
      "[1.20617968 1.35165421 1.27380349 ... 1.15571973 1.17719078 1.19454767]\n",
      "Sum pred: 294472.800625281\n"
     ]
    }
   ],
   "source": [
    "print pred.size\n",
    "print pred\n",
    "print 'Sum pred:',np.sum(pred)\n",
    "pred_submit = pred"
   ]
  },
  {
   "cell_type": "code",
   "execution_count": 36,
   "metadata": {},
   "outputs": [
    {
     "name": "stdout",
     "output_type": "stream",
     "text": [
      "[1.20617968 1.35165421 1.27380349 ... 1.15571973 1.17719078 1.19454767]\n"
     ]
    }
   ],
   "source": [
    "#translate back to shop_item_cnt_month in needed\n",
    "if target =='shop_item_cnt_month_diff(0-1)':  \n",
    "    last_month_shop_item_cnt_month = sales_2015[sales_2015['month']==(10)].groupby(groupby_list,as_index=False).agg(agg_dict).rename(columns={'item_cnt_day':'shop_item_cnt_month_lag_1'})\n",
    "    last_month_shop_item_cnt_month = last_month_shop_item_cnt_month[['shop_id','item_id','shop_item_cnt_month_lag_1']].head()\n",
    "    df_temp = pd.merge(x_test[['shop_id','item_id']],last_month_shop_item_cnt_month,on=('shop_id','item_id'),how='left')\n",
    "    df_temp.fillna(0,inplace=True)\n",
    "    df_temp.head()\n",
    "\n",
    "    df_pred = pd.DataFrame(pred,columns=['y_pred_residual'])\n",
    "    df_pred.head()\n",
    "\n",
    "    df_pred['y_pred'] = df_temp['shop_item_cnt_month_lag_1'] + df_pred['y_pred_residual']\n",
    "    df_pred.head()\n",
    "\n",
    "    pred_submit = df_pred['y_pred'].values\n",
    "    \n",
    "# True target values are clipped into [0,20] range.\n",
    "pred_submit = np.clip(pred_submit,0,20)\n",
    "    \n",
    "print pred_submit\n"
   ]
  },
  {
   "cell_type": "code",
   "execution_count": 37,
   "metadata": {},
   "outputs": [
    {
     "name": "stdout",
     "output_type": "stream",
     "text": [
      "total sales pred: 294479.27152215125 , mean: 1.374786515042723\n"
     ]
    },
    {
     "data": {
      "image/png": "[encoded data removed]",
      "text/plain": [
       "<Figure size 432x288 with 1 Axes>"
      ]
     },
     "metadata": {},
     "output_type": "display_data"
    }
   ],
   "source": [
    "print 'total sales pred:',np.sum(pred_submit), ', mean:',np.mean(pred_submit)\n",
    "hist_pred = plt.hist(pred_submit,nbins,log=True)"
   ]
  },
  {
   "cell_type": "code",
   "execution_count": 38,
   "metadata": {},
   "outputs": [],
   "source": [
    "### adhoc scaling\n",
    "#pred_submit = np.floor(pred_submit)\n",
    "#pred_submit = (pred_submit)*0.25 \n",
    "# print 'total sales pred:',np.sum(pred_submit),', mean:',np.mean(pred_submit)\n",
    "# hist_pred = plt.hist(pred_submit,nbins,log=True)\n",
    "# print pred_submit"
   ]
  },
  {
   "cell_type": "code",
   "execution_count": 39,
   "metadata": {},
   "outputs": [],
   "source": [
    "## adhoc scaling v2\n",
    "#pred_submit = (pred_submit)*x_train.shape[0]/x_test.shape[0]\n",
    "# print 'total sales pred:',np.sum(pred_submit),', mean:',np.mean(pred_submit)\n",
    "# hist_pred = plt.hist(pred_submit,nbins,log=True)\n",
    "# print pred_submit"
   ]
  },
  {
   "cell_type": "markdown",
   "metadata": {},
   "source": [
    "# Validation with yearly trend"
   ]
  },
  {
   "cell_type": "code",
   "execution_count": 40,
   "metadata": {
    "scrolled": false
   },
   "outputs": [
    {
     "name": "stdout",
     "output_type": "stream",
     "text": [
      "total sales count from Oct14-2018_1 prediction: 294479.27152215125\n",
      "total sales count from contant 0.5 prediction: 107100.0\n"
     ]
    },
    {
     "data": {
      "image/png": "[encoded data removed]",
      "text/plain": [
       "<Figure size 432x288 with 1 Axes>"
      ]
     },
     "metadata": {},
     "output_type": "display_data"
    },
    {
     "data": {
      "image/png": "[encoded data removed]",
      "text/plain": [
       "<Figure size 1382.4x345.6 with 1 Axes>"
      ]
     },
     "metadata": {},
     "output_type": "display_data"
    },
    {
     "data": {
      "image/png": "[encoded data removed]",
      "text/plain": [
       "<Figure size 1382.4x345.6 with 1 Axes>"
      ]
     },
     "metadata": {},
     "output_type": "display_data"
    }
   ],
   "source": [
    "y_test = pd.DataFrame(pred_submit,columns=['item_cnt_month'])\n",
    "#saveName='constant_0p38'\n",
    "#saveplots=True\n",
    "\n",
    "total_item_cnt_2013 = data['sales_2013'].groupby(['date_block_num','Y_M'])['item_cnt_day'].sum().values\n",
    "total_item_cnt_2014 = data['sales_2014'].groupby(['date_block_num','Y_M'])['item_cnt_day'].sum().values\n",
    "total_item_cnt_2015 = data['sales_2015'].groupby(['date_block_num','Y_M'])['item_cnt_day'].sum().values\n",
    "yearlySales = [total_item_cnt_2013,total_item_cnt_2014,total_item_cnt_2015]\n",
    "\n",
    "kwargs = {'yearlySales':yearlySales,\n",
    "        'y_test':y_test,\n",
    "        'saveName':saveName,\n",
    "        'saveplots':saveplots,\n",
    "        'saveFolder':saveFolder}\n",
    "\n",
    "ut.plotYearly(**kwargs)\n",
    "ut.plotYearly_v2(**kwargs)\n",
    "ut.plotResidual(**kwargs)"
   ]
  },
  {
   "cell_type": "markdown",
   "metadata": {},
   "source": [
    "# Prepare submission file"
   ]
  },
  {
   "cell_type": "code",
   "execution_count": 41,
   "metadata": {},
   "outputs": [
    {
     "name": "stdout",
     "output_type": "stream",
     "text": [
      "These numbers below should match:\n",
      "y_test.iloc[0] = 1.2061796761281771\n",
      "submit[submit[\"ID\"]==22987] =  1.2061796761281771\n"
     ]
    }
   ],
   "source": [
    "test_sorted = data['test'].sort_values(by=groupby_list).reset_index(drop=True)\n",
    "submit = pd.concat([test_sorted,y_test],axis=1)\n",
    "submit = submit.sort_values(by=\"ID\").reset_index(drop=True)\n",
    "\n",
    "# sanity check\n",
    "print 'These numbers below should match:'\n",
    "print 'y_test.iloc[0] =',y_test.iloc[0].values[0] \n",
    "print 'submit[submit[\"ID\"]==22987] = ',submit[submit[\"ID\"]==22987][\"item_cnt_month\"].values[0]\n",
    "\n",
    "submit = submit[[\"item_cnt_month\"]]\n",
    "submit.index.name=\"ID\"\n",
    "submit.head()\n",
    "\n",
    "submitName=''\n",
    "if submitName=='': \n",
    "    submitName=saveName\n",
    "if(createSubmit):submit.to_csv('submit_'+submitName+'.csv')"
   ]
  }
 ],
 "metadata": {
  "kernelspec": {
   "display_name": "Python [default]",
   "language": "python",
   "name": "python2"
  },
  "language_info": {
   "codemirror_mode": {
    "name": "ipython",
    "version": 2
   },
   "file_extension": ".py",
   "mimetype": "text/x-python",
   "name": "python",
   "nbconvert_exporter": "python",
   "pygments_lexer": "ipython2",
   "version": "2.7.15"
  }
 },
 "nbformat": 4,
 "nbformat_minor": 2
}
