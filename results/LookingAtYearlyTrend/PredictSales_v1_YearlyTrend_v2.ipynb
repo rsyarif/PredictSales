{
 "cells": [
  {
   "cell_type": "markdown",
   "metadata": {},
   "source": [
    "https://www.kaggle.com/c/competitive-data-science-final-project"
   ]
  },
  {
   "cell_type": "code",
   "execution_count": 1,
   "metadata": {},
   "outputs": [],
   "source": [
    "%reload_ext autoreload\n",
    "%autoreload 2"
   ]
  },
  {
   "cell_type": "code",
   "execution_count": 2,
   "metadata": {},
   "outputs": [],
   "source": [
    "import numpy as np\n",
    "import pandas as pd\n",
    "import seaborn as sns\n",
    "import matplotlib.pyplot as plt\n",
    "%matplotlib inline "
   ]
  },
  {
   "cell_type": "code",
   "execution_count": 3,
   "metadata": {},
   "outputs": [
    {
     "name": "stdout",
     "output_type": "stream",
     "text": [
      "ls: all: No such file or directory\r\n"
     ]
    }
   ],
   "source": [
    "ls all"
   ]
  },
  {
   "cell_type": "code",
   "execution_count": 4,
   "metadata": {},
   "outputs": [],
   "source": [
    "path = '/Users/rizki/Dropbox/Coursera/AML_HowToKaggle/FinalProject/PredictSales/all/'"
   ]
  },
  {
   "cell_type": "code",
   "execution_count": 5,
   "metadata": {},
   "outputs": [],
   "source": [
    "items = pd.read_csv(path+'items.csv')\n",
    "item_categories = pd.read_csv(path+'item_categories.csv')\n",
    "shops = pd.read_csv(path+'shops.csv')\n",
    "sales_train = pd.read_csv(path+'sales_train.csv')\n",
    "test = pd.read_csv(path+'test.csv')"
   ]
  },
  {
   "cell_type": "code",
   "execution_count": 6,
   "metadata": {},
   "outputs": [
    {
     "data": {
      "text/html": [
       "<div>\n",
       "<style scoped>\n",
       "    .dataframe tbody tr th:only-of-type {\n",
       "        vertical-align: middle;\n",
       "    }\n",
       "\n",
       "    .dataframe tbody tr th {\n",
       "        vertical-align: top;\n",
       "    }\n",
       "\n",
       "    .dataframe thead th {\n",
       "        text-align: right;\n",
       "    }\n",
       "</style>\n",
       "<table border=\"1\" class=\"dataframe\">\n",
       "  <thead>\n",
       "    <tr style=\"text-align: right;\">\n",
       "      <th></th>\n",
       "      <th>date</th>\n",
       "      <th>date_block_num</th>\n",
       "      <th>shop_id</th>\n",
       "      <th>item_id</th>\n",
       "      <th>item_price</th>\n",
       "      <th>item_cnt_day</th>\n",
       "    </tr>\n",
       "  </thead>\n",
       "  <tbody>\n",
       "    <tr>\n",
       "      <th>0</th>\n",
       "      <td>02.01.2013</td>\n",
       "      <td>0</td>\n",
       "      <td>59</td>\n",
       "      <td>22154</td>\n",
       "      <td>999.00</td>\n",
       "      <td>1.0</td>\n",
       "    </tr>\n",
       "    <tr>\n",
       "      <th>1</th>\n",
       "      <td>03.01.2013</td>\n",
       "      <td>0</td>\n",
       "      <td>25</td>\n",
       "      <td>2552</td>\n",
       "      <td>899.00</td>\n",
       "      <td>1.0</td>\n",
       "    </tr>\n",
       "    <tr>\n",
       "      <th>2</th>\n",
       "      <td>05.01.2013</td>\n",
       "      <td>0</td>\n",
       "      <td>25</td>\n",
       "      <td>2552</td>\n",
       "      <td>899.00</td>\n",
       "      <td>-1.0</td>\n",
       "    </tr>\n",
       "    <tr>\n",
       "      <th>3</th>\n",
       "      <td>06.01.2013</td>\n",
       "      <td>0</td>\n",
       "      <td>25</td>\n",
       "      <td>2554</td>\n",
       "      <td>1709.05</td>\n",
       "      <td>1.0</td>\n",
       "    </tr>\n",
       "    <tr>\n",
       "      <th>4</th>\n",
       "      <td>15.01.2013</td>\n",
       "      <td>0</td>\n",
       "      <td>25</td>\n",
       "      <td>2555</td>\n",
       "      <td>1099.00</td>\n",
       "      <td>1.0</td>\n",
       "    </tr>\n",
       "  </tbody>\n",
       "</table>\n",
       "</div>"
      ],
      "text/plain": [
       "         date  date_block_num  shop_id  item_id  item_price  item_cnt_day\n",
       "0  02.01.2013               0       59    22154      999.00           1.0\n",
       "1  03.01.2013               0       25     2552      899.00           1.0\n",
       "2  05.01.2013               0       25     2552      899.00          -1.0\n",
       "3  06.01.2013               0       25     2554     1709.05           1.0\n",
       "4  15.01.2013               0       25     2555     1099.00           1.0"
      ]
     },
     "execution_count": 6,
     "metadata": {},
     "output_type": "execute_result"
    }
   ],
   "source": [
    "sales_train.head()"
   ]
  },
  {
   "cell_type": "markdown",
   "metadata": {},
   "source": [
    "# Counting"
   ]
  },
  {
   "cell_type": "code",
   "execution_count": 7,
   "metadata": {},
   "outputs": [
    {
     "name": "stdout",
     "output_type": "stream",
     "text": [
      "total rows in train set 2935849\n",
      "Number of unique item_id : 22170\n",
      "Number of unique shop_id : 60\n",
      "total_possible_shop_id_item_id = 1330200\n",
      "shop_item combinations in test set: 214200\n",
      "shop_item combinations in train set: 424124\n"
     ]
    }
   ],
   "source": [
    "print 'total rows in train set', sales_train.shape[0]\n",
    "unique_items = items['item_id'].unique().size\n",
    "print 'Number of unique item_id :', unique_items\n",
    "unique_shops = shops['shop_id'].unique().size\n",
    "print 'Number of unique shop_id :', unique_shops\n",
    "total_possible_shop_id_item_id = unique_shops*unique_items\n",
    "print 'total_possible_shop_id_item_id =',total_possible_shop_id_item_id\n",
    "print 'shop_item combinations in test set:', test.shape[0]\n",
    "print 'shop_item combinations in train set:', sales_train.groupby(['shop_id','item_id']).count().shape[0]"
   ]
  },
  {
   "cell_type": "markdown",
   "metadata": {},
   "source": [
    "# Format 'date' to datetime"
   ]
  },
  {
   "cell_type": "code",
   "execution_count": null,
   "metadata": {},
   "outputs": [],
   "source": [
    "sales_train['date'] = pd.to_datetime(sales_train['date'],format='%d.%m.%Y')\n",
    "sales_train[sales_train['date'].dt.month==1].head()"
   ]
  },
  {
   "cell_type": "markdown",
   "metadata": {},
   "source": [
    "# Add item_category_id to sales_train"
   ]
  },
  {
   "cell_type": "code",
   "execution_count": null,
   "metadata": {},
   "outputs": [],
   "source": [
    "items.head()"
   ]
  },
  {
   "cell_type": "code",
   "execution_count": null,
   "metadata": {},
   "outputs": [],
   "source": [
    "sales_train.sort_values(by='item_id').head()"
   ]
  },
  {
   "cell_type": "code",
   "execution_count": null,
   "metadata": {},
   "outputs": [],
   "source": [
    "sales_train = pd.merge(sales_train,items[['item_id','item_category_id']],on='item_id',how='left').sort_values(by='item_id')\n",
    "sales_train.head()"
   ]
  },
  {
   "cell_type": "markdown",
   "metadata": {},
   "source": [
    "# Check by total item_cnt by month per year"
   ]
  },
  {
   "cell_type": "code",
   "execution_count": null,
   "metadata": {},
   "outputs": [],
   "source": [
    "print 'years in train data: ',sales_train['date'].dt.year.unique()"
   ]
  },
  {
   "cell_type": "code",
   "execution_count": null,
   "metadata": {},
   "outputs": [],
   "source": [
    "sales_train['year'] = sales_train['date'].dt.year.astype('string')\n",
    "sales_train['month'] = sales_train['date'].dt.month.astype('string')\n",
    "# sales_train['Y_M'] = sales_train['year']+'_'+sales_train['month']\n",
    "# sales_train.drop(columns=['year','month'], inplace=True)"
   ]
  },
  {
   "cell_type": "code",
   "execution_count": null,
   "metadata": {},
   "outputs": [],
   "source": [
    "sales_train_year = sales_train['date'].dt.year.astype('string')\n",
    "sales_train_month = sales_train['date'].dt.month.astype('string')\n",
    "sales_train['Y_M'] = sales_train_year+'_'+sales_train_month"
   ]
  },
  {
   "cell_type": "code",
   "execution_count": null,
   "metadata": {},
   "outputs": [],
   "source": [
    "sales_train.head()"
   ]
  },
  {
   "cell_type": "code",
   "execution_count": null,
   "metadata": {},
   "outputs": [],
   "source": [
    "sales_train.groupby(['date_block_num','Y_M'])['item_cnt_day'].agg(['sum']).head()"
   ]
  },
  {
   "cell_type": "code",
   "execution_count": null,
   "metadata": {},
   "outputs": [],
   "source": [
    "#split by year\n",
    "sales_train_2013 = sales_train[sales_train['year']=='2013']\n",
    "sales_train_2014 = sales_train[sales_train['year']=='2014']\n",
    "sales_train_2015 = sales_train[sales_train['year']=='2015']"
   ]
  },
  {
   "cell_type": "code",
   "execution_count": null,
   "metadata": {},
   "outputs": [],
   "source": [
    "total_item_cnt_2013 = sales_train_2013.groupby(['date_block_num','Y_M'])['item_cnt_day'].sum().values\n",
    "total_item_cnt_2014 = sales_train_2014.groupby(['date_block_num','Y_M'])['item_cnt_day'].sum().values\n",
    "total_item_cnt_2015 = sales_train_2015.groupby(['date_block_num','Y_M'])['item_cnt_day'].sum().values"
   ]
  },
  {
   "cell_type": "code",
   "execution_count": null,
   "metadata": {},
   "outputs": [],
   "source": [
    "import sys\n",
    "WorkDir = '/Users/rizki/Dropbox/Coursera/AML_HowToKaggle/FinalProject/PredictSales/'\n",
    "sys.path.insert(0, WorkDir)\n",
    "import utility.utility as ut"
   ]
  },
  {
   "cell_type": "code",
   "execution_count": null,
   "metadata": {},
   "outputs": [],
   "source": [
    "## absolute\n",
    "total_item_cnt_2013 = (total_item_cnt_2013)\n",
    "total_item_cnt_2014 = (total_item_cnt_2014)\n",
    "total_item_cnt_2015 = (total_item_cnt_2015)\n",
    "\n",
    "y_test = test\n",
    "y_test['item_cnt_month'] = 0.32\n",
    "saveName='constant_0p32'\n",
    "#saveplots=True\n",
    "\n",
    "yearlySales = [total_item_cnt_2013,total_item_cnt_2014,total_item_cnt_2015]\n",
    "\n",
    "ut.plotYearly(yearlySales,y_test,saveName,False)\n",
    "ut.plotYearly_v2(yearlySales,y_test,saveName,False)\n",
    "ut.plotResidual(yearlySales,y_test,saveName,False)"
   ]
  },
  {
   "cell_type": "code",
   "execution_count": null,
   "metadata": {},
   "outputs": [],
   "source": [
    "#translation by mean\n",
    "total_item_cnt_2013_trans = (total_item_cnt_2013-total_item_cnt_2013.mean())\n",
    "total_item_cnt_2014_trans = (total_item_cnt_2014-total_item_cnt_2014.mean())\n",
    "total_item_cnt_2015_trans = (total_item_cnt_2015-total_item_cnt_2015.mean())\n",
    "\n",
    "y_test = test\n",
    "y_test['item_cnt_month'] = 0.32\n",
    "saveName='constant_0p32'\n",
    "#saveplots=True\n",
    "\n",
    "yearlySales = [total_item_cnt_2013_trans,total_item_cnt_2014_trans,total_item_cnt_2015_trans]\n",
    "\n",
    "ut.plotYearly(yearlySales,y_test,saveName,False,total_item_cnt_2015.mean())\n",
    "ut.plotYearly_v2(yearlySales,y_test,saveName,False,total_item_cnt_2015.mean())\n",
    "ut.plotResidual(yearlySales,y_test,saveName,False,total_item_cnt_2015.mean())"
   ]
  },
  {
   "cell_type": "code",
   "execution_count": null,
   "metadata": {},
   "outputs": [],
   "source": [
    "#plot item_cnt vs month, per shop_id\n",
    "shop_id_2013 = sales_train_2013.groupby(['shop_id'],as_index=False)['item_cnt_day'].sum()['shop_id'].values\n",
    "shop_id_2014 = sales_train_2014.groupby(['shop_id'],as_index=False)['item_cnt_day'].sum()['shop_id'].values\n",
    "shop_id_2015 = sales_train_2015.groupby(['shop_id'],as_index=False)['item_cnt_day'].sum()['shop_id'].values"
   ]
  },
  {
   "cell_type": "markdown",
   "metadata": {},
   "source": [
    "# Missing shops "
   ]
  },
  {
   "cell_type": "code",
   "execution_count": null,
   "metadata": {},
   "outputs": [],
   "source": [
    "missing_shop_id_2013 = set(shops['shop_id']) - set(shop_id_2013)\n",
    "missing_shop_id_2014 = set(shops['shop_id']) - set(shop_id_2014)\n",
    "missing_shop_id_2015 = set(shops['shop_id']) - set(shop_id_2015)"
   ]
  },
  {
   "cell_type": "code",
   "execution_count": null,
   "metadata": {},
   "outputs": [],
   "source": [
    "print 'missing_shop_id_2013:',list(missing_shop_id_2013)\n",
    "print 'missing_shop_id_2014:',list(missing_shop_id_2014)\n",
    "print 'missing_shop_id_2015:',list(missing_shop_id_2015)"
   ]
  },
  {
   "cell_type": "code",
   "execution_count": null,
   "metadata": {},
   "outputs": [],
   "source": [
    "print 'shops in 2013 which closed in 2014:',list(set(shop_id_2013)-set(shop_id_2014))\n",
    "print 'shops opened in 2014 not present in 2013:',list(set(shop_id_2014)-set(shop_id_2013))\n",
    "print 'shops in 2014 which closed in 2015:',list(set(shop_id_2014)-set(shop_id_2015))\n",
    "print 'shops opened in 2015 not present in 2014:',list(set(shop_id_2015)-set(shop_id_2014))"
   ]
  },
  {
   "cell_type": "code",
   "execution_count": null,
   "metadata": {},
   "outputs": [],
   "source": [
    "shop_in_train_not_in_test = set(sales_train['shop_id'].unique())-set(test['shop_id'].unique())\n",
    "print 'shop_in_train_not_in_test:',list(shop_in_train_not_in_test)"
   ]
  },
  {
   "cell_type": "code",
   "execution_count": null,
   "metadata": {},
   "outputs": [],
   "source": [
    "shop_in_test_not_in_train = set(test['shop_id'].unique())-set(sales_train['shop_id'].unique())\n",
    "print 'shop_in_test_not_in_train:',list(shop_in_test_not_in_train)"
   ]
  },
  {
   "cell_type": "markdown",
   "metadata": {},
   "source": [
    "# Missing items"
   ]
  },
  {
   "cell_type": "code",
   "execution_count": null,
   "metadata": {},
   "outputs": [],
   "source": [
    "missing_item_id_2013 = set(items['item_id'].unique()) - set(sales_train[sales_train.date.dt.year==2013]['item_id'].unique())\n",
    "missing_item_id_2014 = set(items['item_id'].unique()) - set(sales_train[sales_train.date.dt.year==2014]['item_id'].unique())\n",
    "missing_item_id_2015 = set(items['item_id'].unique()) - set(sales_train[sales_train.date.dt.year==2015]['item_id'].unique())"
   ]
  },
  {
   "cell_type": "code",
   "execution_count": null,
   "metadata": {},
   "outputs": [],
   "source": [
    "print 'missing_item_id_2013:',len(missing_item_id_2013), 'items'\n",
    "print 'missing_item_id_2014:',len(missing_item_id_2014), 'items'\n",
    "print 'missing_item_id_2015:',len(missing_item_id_2015),'item'"
   ]
  },
  {
   "cell_type": "code",
   "execution_count": null,
   "metadata": {},
   "outputs": [],
   "source": [
    "item_in_train_not_in_test = set(sales_train['item_id'].unique())-set(test['item_id'].unique())\n",
    "print 'item_in_train_not_in_test:',len(item_in_train_not_in_test), 'items'"
   ]
  },
  {
   "cell_type": "code",
   "execution_count": null,
   "metadata": {},
   "outputs": [],
   "source": [
    "item_in_test_not_in_train = set(test['item_id'].unique()) -set(sales_train['item_id'].unique()) \n",
    "print 'item_in_test_not_in_train:',len(item_in_test_not_in_train), 'items'"
   ]
  },
  {
   "cell_type": "markdown",
   "metadata": {},
   "source": [
    "# Missing  shop_id_item_id combination"
   ]
  },
  {
   "cell_type": "code",
   "execution_count": null,
   "metadata": {},
   "outputs": [],
   "source": [
    "sales_train_sample = sales_train.groupby(['shop_id','item_id'],as_index=False).count()[['shop_id','item_id']]\n",
    "sales_train_sample['shop_item_id'] = sales_train_sample['shop_id'].astype('string')+'_'+sales_train_sample['item_id'].astype('string')\n",
    "sales_train_shop_item_id = sales_train_sample['shop_item_id'].values\n",
    "sales_train_sample.head()"
   ]
  },
  {
   "cell_type": "code",
   "execution_count": null,
   "metadata": {},
   "outputs": [],
   "source": [
    "test_sample = test[['shop_id','item_id']].sort_values(by=['shop_id','item_id'])\n",
    "test_sample['shop_item_id'] = test_sample['shop_id'].astype('string') +'_'+ test_sample['item_id'].astype('string')\n",
    "test_shop_item_id = test_sample['shop_item_id'].values\n",
    "test_sample.head()"
   ]
  },
  {
   "cell_type": "code",
   "execution_count": null,
   "metadata": {},
   "outputs": [],
   "source": [
    "shop_item_id_in_test_not_in_train = set(test_shop_item_id)-set(sales_train_shop_item_id)\n",
    "print 'shop_item_id_in_test_not_in_train : ',len(shop_item_id_in_test_not_in_train)"
   ]
  }
 ],
 "metadata": {
  "kernelspec": {
   "display_name": "Python [default]",
   "language": "python",
   "name": "python2"
  },
  "language_info": {
   "codemirror_mode": {
    "name": "ipython",
    "version": 2
   },
   "file_extension": ".py",
   "mimetype": "text/x-python",
   "name": "python",
   "nbconvert_exporter": "python",
   "pygments_lexer": "ipython2",
   "version": "2.7.15"
  }
 },
 "nbformat": 4,
 "nbformat_minor": 2
}
