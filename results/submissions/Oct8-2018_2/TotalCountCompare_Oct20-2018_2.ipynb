{
 "cells": [
  {
   "cell_type": "markdown",
   "metadata": {},
   "source": [
    "https://www.kaggle.com/c/competitive-data-science-final-project"
   ]
  },
  {
   "cell_type": "code",
   "execution_count": 1,
   "metadata": {},
   "outputs": [],
   "source": [
    "import numpy as np\n",
    "import pandas as pd\n",
    "import seaborn as sns\n",
    "import matplotlib.pyplot as plt\n",
    "%matplotlib inline \n",
    "\n",
    "path = '/Users/rizki/Dropbox/Coursera/AML_HowToKaggle/FinalProject/PredictSales/all/'\n",
    "\n",
    "items = pd.read_csv(path+'items.csv')\n",
    "item_categories = pd.read_csv(path+'item_categories.csv')\n",
    "shops = pd.read_csv(path+'shops.csv')\n",
    "sales_train = pd.read_csv(path+'sales_train.csv')\n",
    "test = pd.read_csv(path+'test.csv')\n",
    "\n",
    "# Format 'date' to datetime\n",
    "sales_train['date'] = pd.to_datetime(sales_train['date'],format='%d.%m.%Y')\n",
    "\n",
    "# Add item_category_id to sales_train\n",
    "sales_train = pd.merge(sales_train,items[['item_id','item_category_id']],on='item_id',how='left').sort_values(by='item_id')\n",
    "\n",
    "#add new columns: years, month, Y_M\n",
    "sales_train['year'] = sales_train['date'].dt.year\n",
    "sales_train['month'] = sales_train['date'].dt.month\n",
    "sales_train_year = sales_train['date'].dt.year.astype('string')\n",
    "sales_train_month = sales_train['date'].dt.month.astype('string')\n",
    "sales_train['Y_M'] = sales_train_year+'_'+sales_train_month\n",
    "\n",
    "#split by year\n",
    "sales_train_2013 = sales_train[sales_train['year']==2013]\n",
    "sales_val_2014 = sales_train[sales_train['year']==2014]\n",
    "sales_test_2015 = sales_train[sales_train['year']==2015]\n",
    "\n",
    "#columns to keep\n",
    "#col_to_keep = ['shop_id','item_id','item_price','item_category_id','item_cnt_day']\n",
    "col_to_keep = ['shop_id','item_id','item_category_id','item_cnt_day']\n",
    "\n",
    "groupby_list = ['shop_id','item_id']\n",
    "\n",
    "#agg_dict = {'item_price':'mean','item_category_id':'mean','item_cnt_day':'sum'}\n",
    "agg_dict = {'item_category_id':'mean','item_cnt_day':'sum'}\n",
    "agg_targ = {'item_cnt_day':'sum'}"
   ]
  },
  {
   "cell_type": "markdown",
   "metadata": {},
   "source": [
    "# Adding prediction from Oct8-2018_2 to 2015 set and compare"
   ]
  },
  {
   "cell_type": "code",
   "execution_count": 2,
   "metadata": {},
   "outputs": [
    {
     "data": {
      "text/html": [
       "<div>\n",
       "<style scoped>\n",
       "    .dataframe tbody tr th:only-of-type {\n",
       "        vertical-align: middle;\n",
       "    }\n",
       "\n",
       "    .dataframe tbody tr th {\n",
       "        vertical-align: top;\n",
       "    }\n",
       "\n",
       "    .dataframe thead th {\n",
       "        text-align: right;\n",
       "    }\n",
       "</style>\n",
       "<table border=\"1\" class=\"dataframe\">\n",
       "  <thead>\n",
       "    <tr style=\"text-align: right;\">\n",
       "      <th></th>\n",
       "      <th>ID</th>\n",
       "      <th>item_cnt_month</th>\n",
       "    </tr>\n",
       "  </thead>\n",
       "  <tbody>\n",
       "    <tr>\n",
       "      <th>0</th>\n",
       "      <td>0</td>\n",
       "      <td>0.878411</td>\n",
       "    </tr>\n",
       "    <tr>\n",
       "      <th>1</th>\n",
       "      <td>1</td>\n",
       "      <td>-0.934888</td>\n",
       "    </tr>\n",
       "    <tr>\n",
       "      <th>2</th>\n",
       "      <td>2</td>\n",
       "      <td>1.032142</td>\n",
       "    </tr>\n",
       "    <tr>\n",
       "      <th>3</th>\n",
       "      <td>3</td>\n",
       "      <td>1.092099</td>\n",
       "    </tr>\n",
       "    <tr>\n",
       "      <th>4</th>\n",
       "      <td>4</td>\n",
       "      <td>0.799432</td>\n",
       "    </tr>\n",
       "  </tbody>\n",
       "</table>\n",
       "</div>"
      ],
      "text/plain": [
       "   ID  item_cnt_month\n",
       "0   0        0.878411\n",
       "1   1       -0.934888\n",
       "2   2        1.032142\n",
       "3   3        1.092099\n",
       "4   4        0.799432"
      ]
     },
     "execution_count": 2,
     "metadata": {},
     "output_type": "execute_result"
    }
   ],
   "source": [
    "path_Oct8_2018_2 ='/Users/rizki/Dropbox/Coursera/AML_HowToKaggle/FinalProject/PredictSales/results/submissions/Oct8-2018_2/'\n",
    "Oct8_2018_2 = pd.read_csv(path_Oct8_2018_2+'submit_Oct8-2018_2.csv')\n",
    "Oct8_2018_2.head()"
   ]
  },
  {
   "cell_type": "code",
   "execution_count": 3,
   "metadata": {},
   "outputs": [
    {
     "name": "stdout",
     "output_type": "stream",
     "text": [
      "total sales count from Oct8-2018 prediction: 228154.25210453675\n",
      "total sales count from contant 0.5 prediction: 107100.0\n"
     ]
    },
    {
     "data": {
      "image/png": "[encoded data removed]",
      "text/plain": [
       "<Figure size 432x288 with 1 Axes>"
      ]
     },
     "metadata": {},
     "output_type": "display_data"
    }
   ],
   "source": [
    "y_test_total_cnt_month = Oct8_2018_2.sum()['item_cnt_month']\n",
    "print 'total sales count from Oct8-2018 prediction:',y_test_total_cnt_month\n",
    "\n",
    "constant_total_cnt_month = 214200 * 0.5\n",
    "print 'total sales count from contant 0.5 prediction:',constant_total_cnt_month\n",
    "\n",
    "total_item_cnt_2013 = sales_train_2013.groupby(['date_block_num','Y_M'])['item_cnt_day'].sum().values\n",
    "total_item_cnt_2014 = sales_val_2014.groupby(['date_block_num','Y_M'])['item_cnt_day'].sum().values\n",
    "total_item_cnt_2015 = sales_test_2015.groupby(['date_block_num','Y_M'])['item_cnt_day'].sum().values\n",
    "\n",
    "#Adding Oct8-2018_2 pred\n",
    "total_item_cnt_2015_1 = np.append(total_item_cnt_2015,[y_test_total_cnt_month])\n",
    "#Adding constant pred of 0.5 - benchmark\n",
    "total_item_cnt_2015_2 = np.append(total_item_cnt_2015,[constant_total_cnt_month])\n",
    "\n",
    "#plot\n",
    "x13 = [i+1 for i in xrange(len(total_item_cnt_2013)) ]\n",
    "y13 = total_item_cnt_2013\n",
    "x14 = [i+1 for i in xrange(len(total_item_cnt_2014)) ]\n",
    "y14 = total_item_cnt_2014\n",
    "x15_1 = [i+1 for i in xrange(len(total_item_cnt_2015_1)) ]\n",
    "y15_1 = total_item_cnt_2015_1\n",
    "x15_2 = [i+1 for i in xrange(len(total_item_cnt_2015_2)) ]\n",
    "y15_2 = total_item_cnt_2015_2\n",
    "plt.plot(x13,y13,label='2013')\n",
    "plt.plot(x14,y14,label='2014')\n",
    "plt.plot(x15_1,y15_1,label='Oct8-2018_2 prediction')\n",
    "plt.plot(x15_2,y15_2,label='Constant 0.5 prediction')\n",
    "plt.ylabel('total item count')\n",
    "plt.xlabel('month')\n",
    "plt.legend()\n",
    "plt.savefig('yearly_trend_compare_with_pred_Oct8-2018_2.pdf')\n",
    "plt.show()\n",
    "\n",
    "#### This plot explains the terrible rmse score on the test set :D"
   ]
  }
 ],
 "metadata": {
  "kernelspec": {
   "display_name": "Python [default]",
   "language": "python",
   "name": "python2"
  },
  "language_info": {
   "codemirror_mode": {
    "name": "ipython",
    "version": 2
   },
   "file_extension": ".py",
   "mimetype": "text/x-python",
   "name": "python",
   "nbconvert_exporter": "python",
   "pygments_lexer": "ipython2",
   "version": "2.7.15"
  }
 },
 "nbformat": 4,
 "nbformat_minor": 2
}
